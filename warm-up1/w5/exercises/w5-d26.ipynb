{
 "cells": [
  {
   "cell_type": "code",
   "execution_count": 4,
   "metadata": {},
   "outputs": [
    {
     "name": "stdout",
     "output_type": "stream",
     "text": [
      "     Sốt     Ho Đau họng Mệt mỏi    Flu\n",
      "0   Cao      Có       Có      Có     Có\n",
      "1    Cao  Không       Có   Không     Có\n",
      "2   Cao      Có    Không      Có     Có\n",
      "3   Thấp     Có       Có      Có  Không\n",
      "4   Cao      Có       Có   Không     Có\n",
      "5   Thấp  Không       Có   Không  Không\n",
      "6   Thấp     Có    Không      Có  Không\n",
      "7   Cao   Không       Có      Có     Có\n",
      "8   Thấp  Không    Không   Không  Không\n",
      "9   Cao      Có       Có      Có     Có\n"
     ]
    }
   ],
   "source": [
    "import numpy as np\n",
    "import pandas as pd\n",
    "\n",
    "# Dữ liệu huấn luyện\n",
    "# Tạo DataFrame chứa dữ liệu bệnh nhân\n",
    "\n",
    "data = pd.DataFrame({\n",
    "    \"Sốt\": [\"Cao \", \"Cao\", \"Cao \", \"Thấp\", \" Cao \", \"Thấp\", \"Thấp\", \" Cao \", \"Thấp\", \" Cao \"],\n",
    "    \"Ho\": [\"Có\", \"Không\", \"Có\", \"Có\", \"Có\", \"Không\", \"Có\", \"Không\", \"Không\", \"Có\"],\n",
    "    \"Đau họng\": [\"Có\", \"Có\", \"Không\", \"Có\", \"Có\", \"Có\", \"Không\", \"Có\", \"Không\", \"Có\"],\n",
    "    \"Mệt mỏi\": [\"Có\", \"Không\", \"Có\", \"Có\", \"Không\", \"Không\", \"Có\", \"Có\", \"Không\", \"Có\"],\n",
    "    \"Flu\": [\"Có\", \"Có\", \"Có\", \"Không\", \"Có\", \"Không\", \"Không\", \"Có\", \"Không\", \"Có\"]\n",
    "})\n",
    "print(data)\n"
   ]
  },
  {
   "cell_type": "code",
   "execution_count": null,
   "metadata": {},
   "outputs": [],
   "source": [
    "# Dữ liệu bệnh nhân cần dụ đoán\n",
    "new_patient = {\"Sốt\": \"Cao \", \"Ho\": \"Có\", \"Đau họng\": \"Có\", \"Mệt mỏi\": \"Không\"}\n",
    "\n",
    "# Tính xác suất tiên nghiệm P(C)\n",
    "P_flu = data[\"Flu\"].value_counts(normalize=True)[\"Có\"] # P(C=1)\n",
    "P_not_flu = 1 - P_flu # P(C=0)\n",
    "\n",
    "print(P_flu)\n",
    "print(P_not_flu)"
   ]
  }
 ],
 "metadata": {
  "kernelspec": {
   "display_name": ".env",
   "language": "python",
   "name": "python3"
  },
  "language_info": {
   "codemirror_mode": {
    "name": "ipython",
    "version": 3
   },
   "file_extension": ".py",
   "mimetype": "text/x-python",
   "name": "python",
   "nbconvert_exporter": "python",
   "pygments_lexer": "ipython3",
   "version": "3.11.5"
  }
 },
 "nbformat": 4,
 "nbformat_minor": 2
}
