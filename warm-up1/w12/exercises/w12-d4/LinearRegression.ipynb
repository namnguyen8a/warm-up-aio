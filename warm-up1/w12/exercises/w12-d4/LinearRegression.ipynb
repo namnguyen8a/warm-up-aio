{
 "cells": [
  {
   "cell_type": "code",
   "execution_count": 20,
   "id": "7cc8d244",
   "metadata": {},
   "outputs": [],
   "source": [
    "import pandas as pd\n",
    "import numpy as np"
   ]
  },
  {
   "cell_type": "code",
   "execution_count": 21,
   "id": "13202510",
   "metadata": {},
   "outputs": [],
   "source": [
    "# Đọc dữ liệu từ CSV\n",
    "df = pd.read_csv(\"data/advertising.csv\")\n",
    "X = df[[\"TV\", \"Radio\", \"Newspaper\"]].values\n",
    "y = df[\"Sales\"].values.reshape(-1, 1)\n"
   ]
  },
  {
   "cell_type": "code",
   "execution_count": 22,
   "id": "dcb71c19",
   "metadata": {},
   "outputs": [],
   "source": [
    "# Chuẩn hóa dữ liệu\n",
    "X = (X - X.mean(axis=0)) / X.std(axis=0)"
   ]
  },
  {
   "cell_type": "code",
   "execution_count": null,
   "id": "721de65e",
   "metadata": {},
   "outputs": [],
   "source": [
    "n_samples, n_features = X.shape\n",
    "\n",
    "print(n_samples)\n",
    "print(n_features)\n",
    "\n",
    "w = np.zeros(n_features)\n",
    "\n",
    "print(X.shape)\n",
    "print(w.shape)\n",
    "print(y.shape)"
   ]
  },
  {
   "cell_type": "code",
   "execution_count": 36,
   "id": "ebe0b835",
   "metadata": {},
   "outputs": [],
   "source": [
    "# Hàm huấn luyện Linear Regression\n",
    "def train_linear_regression(X, y, lr=0.01, epochs=100):\n",
    "    n_samples, n_features = X.shape\n",
    "    w = np.zeros((n_features, 1))\n",
    "    b = 0\n",
    "    losses = []\n",
    "\n",
    "    for _ in range(epochs):\n",
    "        y_pred = np.dot(X, w) + b\n",
    "        \n",
    "        loss = (1/n_samples) * np.sum((y_pred-y)**2)\n",
    "        losses.append(loss)\n",
    "\n",
    "\n",
    "        dw = (2/n_samples)*np.dot(X.T, (y_pred-y))\n",
    "        db = (2/n_samples)*np.sum(y_pred-y)\n",
    "\n",
    "        w -= lr*dw\n",
    "        b -= lr*db\n",
    "\n",
    "    return w, b, losses"
   ]
  },
  {
   "cell_type": "code",
   "execution_count": 37,
   "id": "8287aed9",
   "metadata": {},
   "outputs": [
    {
     "name": "stdout",
     "output_type": "stream",
     "text": [
      "Shape of X: (200, 3)\n",
      "Shape of X transpose: (3, 200)\n",
      "Shape of y: (200, 1)\n",
      "Shape of w (3, 1)\n",
      "[[4.05461939]\n",
      " [1.36654227]\n",
      " [0.22232607]]\n",
      "13.123899809534437\n",
      "[np.float64(256.71195), np.float64(246.59185198715406), np.float64(236.87634436218963), np.float64(227.54918243974993), np.float64(218.59477737225185), np.float64(209.9981694837427), np.float64(201.74500269788348), np.float64(193.82150001464882), np.float64(186.21443999224496), np.float64(178.91113419257573), np.float64(171.89940555033962), np.float64(165.16756762751672), np.float64(158.70440471660967), np.float64(152.49915275753887), np.float64(146.5414810345641), np.float64(140.82147462101204), np.float64(135.32961754093844), np.float64(130.05677661814434), np.float64(124.99418598420203), np.float64(120.13343221833038), np.float64(115.46644009309263), np.float64(110.98545890097499), np.float64(106.68304933794452), np.float64(102.5520709210795), np.float64(98.58566991831972), np.float64(94.77726776929696), np.float64(91.12054997708044), np.float64(87.60945545150986), np.float64(84.23816628559169), np.float64(81.00109794720134), np.float64(77.89288986907255), np.float64(74.90839642075836), np.float64(72.04267824692513), np.float64(69.29099395698806), np.float64(66.64879215171658), np.float64(64.11170377303225), np.float64(61.67553476379157), np.float64(59.33625902489049), np.float64(57.09001165755119), np.float64(54.933082479151594), np.float64(52.8619098014384), np.float64(50.87307446042399), np.float64(48.963294087708455), np.float64(47.129417613389776), np.float64(45.3684199911305), np.float64(43.677397136336396), np.float64(42.05356106877478), np.float64(40.49423525131614), np.float64(38.996850116824085), np.float64(37.55893877554607), np.float64(36.178132895670956), np.float64(34.85215875001975), np.float64(33.57883342212464), np.float64(32.35606116522726), np.float64(31.181829907992032), np.float64(30.054207900984284), np.float64(28.971340498206217), np.float64(27.93144706821702), np.float64(26.932818029587178), np.float64(25.97381200565123), np.float64(25.052853093729176), np.float64(24.16842824418334), np.float64(23.319084744866963), np.float64(22.50342780670153), np.float64(21.72011824629393), np.float64(20.967870261670882), np.float64(20.245449297367927), np.float64(19.55166999526332), np.float64(18.885394227694174), np.float64(18.245529209532883), np.float64(17.63102568603707), np.float64(17.040876193415652), np.float64(16.47411338917794), np.float64(15.929808449451803), np.float64(15.407069530571034), np.float64(14.905040292341832), np.float64(14.4228984805031), np.float64(13.959854565996345), np.float64(13.515150438757342), np.float64(13.088058153834673), np.float64(12.677878727728926), np.float64(12.283940982931858), np.float64(11.905600438726442), np.float64(11.542238246387331), np.float64(11.193260166996405), np.float64(10.858095590160424), np.float64(10.536196591986903), np.float64(10.227037030740883), np.float64(9.930111678668956), np.float64(9.644935388537993), np.float64(9.371042293494845), np.float64(9.107985038909314), np.float64(8.855334044916845), np.float64(8.612676798429122), np.float64(8.379617173430438), np.float64(8.15577477842535), np.float64(7.940784329948899), np.float64(7.7342950510944775), np.float64(7.535970094056668), np.float64(7.345485985726603)]\n"
     ]
    }
   ],
   "source": [
    "print(\"Shape of X:\", X.shape)\n",
    "print(\"Shape of X transpose:\", X.T.shape)\n",
    "print(\"Shape of y:\", y.shape)\n",
    "print(\"Shape of w\", w.shape)\n",
    "w1, b1, loss_history1 = train_linear_regression(X, y)\n",
    "print(w1)\n",
    "print(b1)\n",
    "print(loss_history1)"
   ]
  },
  {
   "cell_type": "code",
   "execution_count": 23,
   "id": "83591201",
   "metadata": {},
   "outputs": [],
   "source": [
    "def train_linear_regression(X, y, lr=0.01, epochs=100):\n",
    "    \"\"\"\n",
    "    Huấn luyện mô hình Linear Regression bằng phương pháp gradient descent có vector hóa.\n",
    "\n",
    "    Args:\n",
    "        X (numpy.ndarray): Ma trận đặc trưng đầu vào (số lượng mẫu x số lượng đặc trưng).\n",
    "        y (numpy.ndarray): Vector mục tiêu đầu ra (số lượng mẫu x 1).\n",
    "        lr (float): Tốc độ học (learning rate).\n",
    "        epochs (int): Số lượng vòng lặp huấn luyện.\n",
    "\n",
    "    Returns:\n",
    "        tuple: Trọng số (weights), bias và danh sách các loss sau khi huấn luyện.\n",
    "    \"\"\"\n",
    "    n_samples, n_features = X.shape\n",
    "    # Khởi tạo weights và bias\n",
    "    weights = np.zeros((n_features, 1))\n",
    "    bias = 0\n",
    "    losses = []\n",
    "\n",
    "    # Lặp qua các epochs\n",
    "    for epoch in range(epochs):\n",
    "        # Tính toán dự đoán\n",
    "        y_predicted = np.dot(X, weights) + bias\n",
    "\n",
    "        # Tính toán gradients\n",
    "        dw = (1 / n_samples) * np.dot(X.T, (y_predicted - y))\n",
    "        db = (1 / n_samples) * np.sum(y_predicted - y)\n",
    "\n",
    "        # Cập nhật weights và bias\n",
    "        weights = weights - lr * dw\n",
    "        bias = bias - lr * db\n",
    "\n",
    "        # Tính toán loss (Mean Squared Error)\n",
    "        mse = np.mean((y_predicted - y) ** 2)\n",
    "        losses.append(mse)\n",
    "\n",
    "        # In loss sau mỗi 10 epochs để theo dõi quá trình huấn luyện\n",
    "        if (epoch + 1) % 10 == 0:\n",
    "            print(f\"Epoch {epoch+1}/{epochs}, MSE: {mse:.4f}\")\n",
    "\n",
    "    return weights, bias, losses"
   ]
  },
  {
   "cell_type": "code",
   "execution_count": 24,
   "id": "734b985e",
   "metadata": {},
   "outputs": [
    {
     "name": "stdout",
     "output_type": "stream",
     "text": [
      "Shape of X: (200, 3)\n",
      "Shape of y: (200, 1)\n",
      "Epoch 10/100, MSE: 214.4499\n",
      "Epoch 20/100, MSE: 175.7091\n",
      "Epoch 30/100, MSE: 144.0750\n",
      "Epoch 40/100, MSE: 118.2398\n",
      "Epoch 50/100, MSE: 97.1374\n",
      "Epoch 60/100, MSE: 79.8982\n",
      "Epoch 70/100, MSE: 65.8131\n",
      "Epoch 80/100, MSE: 54.3035\n",
      "Epoch 90/100, MSE: 44.8974\n",
      "Epoch 100/100, MSE: 37.2095\n",
      "[[2.97821952]\n",
      " [1.04685752]\n",
      " [0.2983854 ]]\n",
      "9.592247660365402\n",
      "[np.float64(256.71195), np.float64(251.6260932624114), np.float64(246.64242311573057), np.float64(241.75887742721244), np.float64(236.9734359115534), np.float64(232.28411927551625), np.float64(227.6889883802024), np.float64(223.18614342060218), np.float64(218.77372312206276), np.float64(214.44990395332184), np.float64(210.2128993557601), np.float64(206.06095898853513), np.float64(201.9923679892662), np.float64(198.005446249945), np.float64(194.0985477077558), np.float64(190.27005965049437), np.float64(186.5184020362818), np.float64(182.84202682727576), np.float64(179.2394173370883), np.float64(175.70908759162413), np.float64(172.2495817030617), np.float64(168.8594732567032), np.float64(165.53736471042535), np.float64(162.28188680647116), np.float64(159.09169799532393), np.float64(155.96548387141502), np.float64(152.9019566204178), np.float64(149.89985447788862), np.float64(146.95794119901893), np.float64(144.07500553926806), np.float64(141.24986074565135), np.float64(138.48134405846255), np.float64(135.76831622321447), np.float64(133.10966101258578), np.float64(130.5042847581675), np.float64(127.95111589180529), np.float64(125.44910449634003), np.float64(122.99722186555104), np.float64(120.59446007311257), np.float64(118.23983155037644), np.float64(115.93236867279876), np.float64(113.67112335483183), np.float64(111.45516665310635), np.float64(109.28358837773244), np.float64(107.1554967115523), np.float64(105.07001783717966), np.float64(103.02629557166574), np.float64(101.02349100863404), np.float64(99.06078216772993), np.float64(97.1373636512342), np.float64(95.2524463076927), np.float64(93.40525690241748), np.float64(91.5950377947177), np.float64(89.82104662172178), np.float64(88.08255598865468), np.float64(86.3788531654377), np.float64(84.70923978948035), np.float64(83.07303157453666), np.float64(81.46955802550175), np.float64(79.8981621590255), np.float64(78.35820022982418), np.float64(76.84904146257298), np.float64(75.37006778926413), np.float64(73.9206735919186), np.float64(72.50026545054132), np.float64(71.10826189621203), np.float64(69.74409316920627), np.float64(68.40720098204321), np.float64(67.09703828735927), np.float64(65.81306905050795), np.float64(64.5547680267896), np.float64(63.32162054321547), np.float64(62.11312228471317), np.float64(60.9287790846827), np.float64(59.7681067198134), np.float64(58.63063070907464), np.float64(57.51588611679486), np.float64(56.42341735974485), np.float64(55.352778018143205), np.float64(54.30353065050398), np.float64(53.2752466122474), np.float64(52.267505877996825), np.float64(51.27989686748629), np.float64(50.312016275005), np.float64(49.363468902305925), np.float64(48.43386749490816), np.float64(47.52283258172312), np.float64(46.62999231793691), np.float64(45.75498233108208), np.float64(44.897445570233664), np.float64(44.05703215826559), np.float64(43.233399247104856), np.float64(42.42621087592234), np.float64(41.63513783220011), np.float64(40.85985751561651), np.float64(40.1000538046916), np.float64(39.35541692613626), np.float64(38.6256433268502), np.float64(37.91043554851444), np.float64(37.20950210472547)]\n"
     ]
    }
   ],
   "source": [
    "print(\"Shape of X:\", X.shape)\n",
    "print(\"Shape of y:\", y.shape)\n",
    "w, b, loss_history = train_linear_regression(X, y)\n",
    "print(w)\n",
    "print(b)\n",
    "print(loss_history)"
   ]
  }
 ],
 "metadata": {
  "kernelspec": {
   "display_name": ".env",
   "language": "python",
   "name": "python3"
  },
  "language_info": {
   "codemirror_mode": {
    "name": "ipython",
    "version": 3
   },
   "file_extension": ".py",
   "mimetype": "text/x-python",
   "name": "python",
   "nbconvert_exporter": "python",
   "pygments_lexer": "ipython3",
   "version": "3.11.5"
  }
 },
 "nbformat": 4,
 "nbformat_minor": 5
}
