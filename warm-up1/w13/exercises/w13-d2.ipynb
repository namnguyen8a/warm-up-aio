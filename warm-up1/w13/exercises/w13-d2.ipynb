{
 "cells": [
  {
   "cell_type": "markdown",
   "id": "90ee9a79",
   "metadata": {},
   "source": [
    "# Basic Computer Vision"
   ]
  },
  {
   "cell_type": "code",
   "execution_count": 9,
   "id": "d22da22e",
   "metadata": {},
   "outputs": [],
   "source": [
    "# Đọc ảnh\n",
    "import cv2\n",
    "image = cv2.imread('../data/nature_rgb.png')\n",
    "\n",
    "# Hiển thị ảnh (cv2.imshow) và đợi nhấn phím\n",
    "cv2.imshow('Nature Image', image)\n",
    "cv2.waitKey(0)              # Đợi phím bất kỳ\n",
    "cv2.destroyAllWindows()     # Đóng tất cả cửa sổ\n",
    "\n",
    "# Lưu ảnh\n",
    "cv2.imwrite('../stored_data/save_nature_rgb.png', image)\n",
    "\n",
    "# Chuyển đổi không gian màu (cv2.cvtColor)\n",
    "converted_image = cv2.cvtColor(image, cv2.COLOR_BGR2RGB)"
   ]
  },
  {
   "cell_type": "code",
   "execution_count": 10,
   "id": "be8269e2",
   "metadata": {},
   "outputs": [],
   "source": [
    "# Bài 1: Đọc và hiển thị ảnh\n",
    "image = cv2.imread('../data/nature_rgb.png')\n",
    "cv2.imshow('Nature Image', image)\n",
    "cv2.waitKey(0)\n",
    "cv2.destroyAllWindows()"
   ]
  },
  {
   "cell_type": "code",
   "execution_count": 11,
   "id": "d48be059",
   "metadata": {},
   "outputs": [
    {
     "data": {
      "text/plain": [
       "True"
      ]
     },
     "execution_count": 11,
     "metadata": {},
     "output_type": "execute_result"
    }
   ],
   "source": [
    "# Bài 2: Lưu ảnh dưới tên khác\n",
    "cv2.imwrite('../stored_data/output.png', image)"
   ]
  },
  {
   "cell_type": "code",
   "execution_count": 21,
   "id": "71e37290",
   "metadata": {},
   "outputs": [],
   "source": [
    "#  Bài 3: Chuyển ảnh từ BGR sang RGB\n",
    "image = cv2.imread('../data/nature_rgb.png')\n",
    "converted_image = cv2.cvtColor(image, cv2.COLOR_BGR2RGB)\n",
    "cv2.imshow('RGB Image', converted_image)\n",
    "cv2.waitKey(0)              # Đợi phím bất kỳ\n",
    "cv2.destroyAllWindows()     # Đóng tất cả cửa sổ"
   ]
  },
  {
   "cell_type": "code",
   "execution_count": 22,
   "id": "1048857e",
   "metadata": {},
   "outputs": [],
   "source": [
    "#  Bài 4: Chuyển ảnh từ BGR sang HSV\n",
    "image = cv2.imread('../data/nature_rgb.png')\n",
    "converted_image = cv2.cvtColor(image, cv2.COLOR_BGR2HSV)\n",
    "cv2.imshow('HSV Image', converted_image)\n",
    "cv2.waitKey(0)              # Đợi phím bất kỳ\n",
    "cv2.destroyAllWindows()     # Đóng tất cả cửa sổ"
   ]
  },
  {
   "cell_type": "code",
   "execution_count": 23,
   "id": "82bad9b3",
   "metadata": {},
   "outputs": [],
   "source": [
    "#  Bài 5: Chuyển ảnh sang Grayscale\n",
    "image = cv2.imread('../data/nature_rgb.png')\n",
    "converted_image = cv2.cvtColor(image, cv2.COLOR_BGR2GRAY)\n",
    "cv2.imshow('Gray Scale Image', converted_image)\n",
    "cv2.waitKey(0)              # Đợi phím bất kỳ\n",
    "cv2.destroyAllWindows()     # Đóng tất cả cửa sổ"
   ]
  },
  {
   "cell_type": "code",
   "execution_count": 24,
   "id": "df8acb73",
   "metadata": {},
   "outputs": [],
   "source": [
    "#   Bài 6: So sánh ảnh RGB và HSV\n",
    "image = cv2.imread('../data/nature_rgb.png')\n",
    "converted_image = cv2.cvtColor(image, cv2.COLOR_BGR2HSV)\n",
    "combined = cv2.hconcat([image, converted_image])\n",
    "cv2.imshow('Combine', combined)\n",
    "cv2.waitKey(0)              # Đợi phím bất kỳ\n",
    "cv2.destroyAllWindows()     # Đóng tất cả cửa sổ"
   ]
  }
 ],
 "metadata": {
  "kernelspec": {
   "display_name": ".env",
   "language": "python",
   "name": "python3"
  },
  "language_info": {
   "codemirror_mode": {
    "name": "ipython",
    "version": 3
   },
   "file_extension": ".py",
   "mimetype": "text/x-python",
   "name": "python",
   "nbconvert_exporter": "python",
   "pygments_lexer": "ipython3",
   "version": "3.11.5"
  }
 },
 "nbformat": 4,
 "nbformat_minor": 5
}
