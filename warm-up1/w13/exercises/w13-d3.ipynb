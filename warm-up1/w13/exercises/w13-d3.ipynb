{
 "cells": [
  {
   "cell_type": "markdown",
   "id": "a9135726",
   "metadata": {},
   "source": [
    "# Basic Python - Work with Image Data"
   ]
  },
  {
   "cell_type": "code",
   "execution_count": 10,
   "id": "166e8f75",
   "metadata": {},
   "outputs": [],
   "source": [
    "import cv2\n",
    "import numpy as np\n",
    "\n",
    "# apply gaussian blur\n",
    "img = cv2.imread('../data/image_6385.jpg')\n",
    "\n",
    "# apply gauusian filter with kernel matrix 5 x 5, sigma = 1\n",
    "img_filtered = cv2.GaussianBlur(img, (5,5), 1)\n",
    "cv2.imshow('Gaussian Filter Image', img_filtered)\n",
    "cv2.waitKey(0)              # Đợi phím bất kỳ\n",
    "cv2.destroyAllWindows()     # Đóng tất cả cửa sổ"
   ]
  },
  {
   "cell_type": "code",
   "execution_count": 9,
   "id": "1a937c86",
   "metadata": {},
   "outputs": [],
   "source": [
    "def gaussian_kernel(size, sigma):\n",
    "    if size % 2 == 0:\n",
    "        size = size + 1\n",
    "    \n",
    "    max_point = size // 2   # both directions (x,y) maximum cell start point\n",
    "    min_point = -max_point  # both directions (x,y) minimum cell start point\n",
    "\n",
    "    K = np.zeros((size, size))  # kernel matrix\n",
    "    for x in range(min_point, max_point + 1):\n",
    "        for y in range(min_point, max_point + 1):\n",
    "            value = (1/(2*np.pi*sigma**2)) * np.exp(-((x**2 + y**2)/(2*sigma**2)))\n",
    "            K[x - min_point, y - min_point] = value\n",
    "    return K\n",
    "\n",
    "kernel = gaussian_kernel(5, 1.4)\n",
    "img = cv2.imread('../data/image_6385.jpg', 0)\n",
    "img_gaussian = cv2.filter2D(img, -1, kernel)\n",
    "cv2.imshow('Gaussian Filter Image', img_gaussian)\n",
    "cv2.waitKey(0)              # Đợi phím bất kỳ\n",
    "cv2.destroyAllWindows()     # Đóng tất cả cửa sổ\n"
   ]
  },
  {
   "cell_type": "code",
   "execution_count": null,
   "id": "d9731eec",
   "metadata": {},
   "outputs": [],
   "source": [
    "# Bài tập:\n",
    "# Hãy đọc và hiển thị ảnh có tên 2.jpg trong tập dữ liệu trên, áp dụng kỹ thuật\n",
    "# Gaussian Filter trong thư viện OpenCV theo 2 cách cài đặt với các sigma khác\n",
    "# nhau như [2.5, 5.0, 10.0]\n",
    "\n",
    "# sigma = 2.5\n",
    "\n",
    "# way 1\n",
    "img_filtered = cv2.GaussianBlur(img, (5,5), 2.5)\n",
    "cv2.imshow('Gaussian Filter Image (sigma = 2.5)', img_filtered)\n",
    "cv2.waitKey(0)              # Đợi phím bất kỳ\n",
    "cv2.destroyAllWindows()     # Đóng tất cả cửa sổ\n",
    "\n",
    "# way 2\n",
    "kernel = gaussian_kernel(5, 2.5)\n",
    "img = cv2.imread('../data/image_6385.jpg', 0)\n",
    "img_gaussian = cv2.filter2D(img, -1, kernel)\n",
    "cv2.imshow('Gaussian Filter Image (sigma = 2.5)', img_gaussian)\n",
    "cv2.waitKey(0)              # Đợi phím bất kỳ\n",
    "cv2.destroyAllWindows()     # Đóng tất cả cửa sổ\n"
   ]
  },
  {
   "cell_type": "code",
   "execution_count": 14,
   "id": "7c543e60",
   "metadata": {},
   "outputs": [],
   "source": [
    "# sigma = 5.0\n",
    "\n",
    "# way 1\n",
    "img_filtered = cv2.GaussianBlur(img, (5,5), 5.0)\n",
    "cv2.imshow('Gaussian Filter Image (sigma = 5.0)', img_filtered)\n",
    "cv2.waitKey(0)              # Đợi phím bất kỳ\n",
    "cv2.destroyAllWindows()     # Đóng tất cả cửa sổ\n",
    "\n",
    "# way 2\n",
    "kernel = gaussian_kernel(5, 5.0)\n",
    "img = cv2.imread('../data/image_6385.jpg', 0)\n",
    "img_gaussian = cv2.filter2D(img, -1, kernel)\n",
    "cv2.imshow('Gaussian Filter Image (sigma = 5.0)', img_gaussian)\n",
    "cv2.waitKey(0)              # Đợi phím bất kỳ\n",
    "cv2.destroyAllWindows()     # Đóng tất cả cửa sổ"
   ]
  },
  {
   "cell_type": "code",
   "execution_count": 15,
   "id": "f40a4ee8",
   "metadata": {},
   "outputs": [],
   "source": [
    "# sigma = 10.0\n",
    "\n",
    "# way 1\n",
    "img_filtered = cv2.GaussianBlur(img, (5,5), 10.0)\n",
    "cv2.imshow('Gaussian Filter Image (sigma = 10.0)', img_filtered)\n",
    "cv2.waitKey(0)              # Đợi phím bất kỳ\n",
    "cv2.destroyAllWindows()     # Đóng tất cả cửa sổ\n",
    "\n",
    "# way 2\n",
    "kernel = gaussian_kernel(5, 10.0)\n",
    "img = cv2.imread('../data/image_6385.jpg', 0)\n",
    "img_gaussian = cv2.filter2D(img, -1, kernel)\n",
    "cv2.imshow('Gaussian Filter Image (sigma = 10.0)', img_gaussian)\n",
    "cv2.waitKey(0)              # Đợi phím bất kỳ\n",
    "cv2.destroyAllWindows()     # Đóng tất cả cửa sổ"
   ]
  }
 ],
 "metadata": {
  "kernelspec": {
   "display_name": ".env",
   "language": "python",
   "name": "python3"
  },
  "language_info": {
   "codemirror_mode": {
    "name": "ipython",
    "version": 3
   },
   "file_extension": ".py",
   "mimetype": "text/x-python",
   "name": "python",
   "nbconvert_exporter": "python",
   "pygments_lexer": "ipython3",
   "version": "3.11.5"
  }
 },
 "nbformat": 4,
 "nbformat_minor": 5
}
