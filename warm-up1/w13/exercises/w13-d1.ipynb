{
 "cells": [
  {
   "cell_type": "markdown",
   "id": "db17666a",
   "metadata": {},
   "source": [
    "# Lambda\n",
    "- syntax:\n",
    "    ```python\n",
    "    lambda arguments: expression\n",
    "    "
   ]
  },
  {
   "cell_type": "code",
   "execution_count": null,
   "id": "6702b935",
   "metadata": {},
   "outputs": [
    {
     "data": {
      "text/plain": [
       "16"
      ]
     },
     "execution_count": 2,
     "metadata": {},
     "output_type": "execute_result"
    }
   ],
   "source": [
    "# Exercise 1:\n",
    "# Tạo một hàm lambda tính bình phương một số\n",
    "\n",
    "square = lambda x: x**2\n",
    "square(4)\n"
   ]
  },
  {
   "cell_type": "code",
   "execution_count": null,
   "id": "b6ff0586",
   "metadata": {},
   "outputs": [
    {
     "data": {
      "text/plain": [
       "False"
      ]
     },
     "execution_count": 4,
     "metadata": {},
     "output_type": "execute_result"
    }
   ],
   "source": [
    "# Exercise 2:\n",
    "# Tạo hàm lambda kiểm tra xem một số có lớn hơn 10 không.\n",
    "check = lambda x: True if(x>10) else False\n",
    "check(15)"
   ]
  },
  {
   "cell_type": "code",
   "execution_count": 6,
   "id": "6b2a3b43",
   "metadata": {},
   "outputs": [
    {
     "data": {
      "text/plain": [
       "[2, 6, 10, 14]"
      ]
     },
     "execution_count": 6,
     "metadata": {},
     "output_type": "execute_result"
    }
   ],
   "source": [
    "# Exercise 3:\n",
    "# Dùng map và lambda để nhân đôi từng phần tử trong list [1, 3, 5, 7].\n",
    "num_list = [1, 3, 5, 7]\n",
    "list(map(lambda x: x*2, num_list))"
   ]
  },
  {
   "cell_type": "code",
   "execution_count": 15,
   "id": "c4a50da7",
   "metadata": {},
   "outputs": [
    {
     "data": {
      "text/plain": [
       "[2, 4, 6]"
      ]
     },
     "execution_count": 15,
     "metadata": {},
     "output_type": "execute_result"
    }
   ],
   "source": [
    "# Exercise 4:\n",
    "# Dùng filter và lambda để lọc các số chẵn từ list [1, 2, 3, 4, 5, 6].\n",
    "nums_list = [1, 2, 3, 4, 5, 6]\n",
    "list(filter(lambda x: x % 2 == 0, nums_list))\n"
   ]
  },
  {
   "cell_type": "code",
   "execution_count": 24,
   "id": "1f153717",
   "metadata": {},
   "outputs": [
    {
     "data": {
      "text/plain": [
       "[('John', 80), ('Dave', 90), ('Jane', 95)]"
      ]
     },
     "execution_count": 24,
     "metadata": {},
     "output_type": "execute_result"
    }
   ],
   "source": [
    "# Exercise 5:\n",
    "# Sắp xếp danh sách các tuple theo phần tử thứ hai dùng lambda\n",
    "students = [('John', 80), ('Jane', 95), ('Dave', 90)]\n",
    "\n",
    "students_sorted = sorted(students, key=lambda x: x[1])\n",
    "students_sorted"
   ]
  },
  {
   "cell_type": "code",
   "execution_count": 23,
   "id": "dedbfe3d",
   "metadata": {},
   "outputs": [
    {
     "data": {
      "text/plain": [
       "0.75"
      ]
     },
     "execution_count": 23,
     "metadata": {},
     "output_type": "execute_result"
    }
   ],
   "source": [
    "# Exercise 6:\n",
    "# Viết hàm calculator nhận vào một phép toán (’+’, ’-’, ’*’, ’/’) và trả về một hàm\n",
    "# lambda thực hiện phép toán đó.\n",
    "\n",
    "def calculator(op):\n",
    "    if op == '+':\n",
    "        return lambda x, y: x + y\n",
    "    elif op == '-':\n",
    "        return lambda x, y: x - y\n",
    "    elif op == '*':\n",
    "        return lambda x, y: x * y\n",
    "    else:\n",
    "        return lambda x, y: x / y\n",
    "\n",
    "add = calculator('/')\n",
    "add(3,4)"
   ]
  },
  {
   "cell_type": "code",
   "execution_count": null,
   "id": "f5561104",
   "metadata": {},
   "outputs": [],
   "source": []
  }
 ],
 "metadata": {
  "kernelspec": {
   "display_name": ".env",
   "language": "python",
   "name": "python3"
  },
  "language_info": {
   "codemirror_mode": {
    "name": "ipython",
    "version": 3
   },
   "file_extension": ".py",
   "mimetype": "text/x-python",
   "name": "python",
   "nbconvert_exporter": "python",
   "pygments_lexer": "ipython3",
   "version": "3.11.5"
  }
 },
 "nbformat": 4,
 "nbformat_minor": 5
}
