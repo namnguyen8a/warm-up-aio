{
 "cells": [
  {
   "cell_type": "markdown",
   "metadata": {},
   "source": [
    "# OOP\n"
   ]
  },
  {
   "cell_type": "code",
   "execution_count": 11,
   "metadata": {},
   "outputs": [],
   "source": [
    "class Dog:\n",
    "    def __init__(self, name, size, age):\n",
    "        self.name = name\n",
    "        self._size = size\n",
    "        self.__age = age\n",
    "\n",
    "    def get_age(self):\n",
    "        return self.__age\n",
    "    \n",
    "    def set_age(self, age):\n",
    "        self.__age = age"
   ]
  },
  {
   "cell_type": "code",
   "execution_count": 15,
   "metadata": {},
   "outputs": [
    {
     "name": "stdout",
     "output_type": "stream",
     "text": [
      "Chow Chow\n",
      "Small\n",
      "2\n",
      "3\n",
      "4\n"
     ]
    }
   ],
   "source": [
    "dog_1 = Dog(\"Chow Chow\", 'Small', 2)\n",
    "print(dog_1.name)\n",
    "print(dog_1._size)\n",
    "print(dog_1._Dog__age)\n",
    "\n",
    "dog_2 = Dog(\"Chow2\", \"big\", 3)\n",
    "print(dog_2.get_age())\n",
    "\n",
    "dog_2.set_age(4)\n",
    "print(dog_2.get_age())"
   ]
  },
  {
   "cell_type": "markdown",
   "metadata": {},
   "source": [
    "# Encapsulation\n",
    "## Public, Private, Protected\n",
    "\n",
    "### 1. Public (công khai)\n",
    "- **Thuộc tính/ Phương thức công khai** là những thuộc tính hoặc phương thức có thể truy cập\n",
    "từ bên ngoài lớp\n",
    "- Truy cập thông qua cú pháp `object.attribute`\n",
    "- `dog_1.name`\n",
    "\n",
    "### 2. Protected (bảo vệ)\n",
    "- **Thuộc tính/ Phương thức bảo vệ** là những thuộc tính hoặc phương thức có thể truy cập \n",
    "từ bên ngoài lớp, nhưng **không khuyến khích** làm vậy vì chúng được coi là dành cho lớp kế thừa\n",
    "- Được biểu diễn với dấu gạnh đơn `(_)`, như `_size`\n",
    "- `dog_1._size`\n",
    "\n",
    "### 3. Private\n",
    "- **Thuộc tính/ Phương thức riêng tư** là những thuộc tính hoặc phương thức không thể truy cập\n",
    "từ bên ngoài lớp, \n",
    "- Được biểu diễn với 2 dấu gạch đơn `(__)`, như `self.__age`\n",
    "- Vẫn có cách để truy cập từ bên ngoài `.<class_name>__<attribute_name>` như `dog_1._Dog__age`, nhưng không được làm như vậy"
   ]
  },
  {
   "cell_type": "markdown",
   "metadata": {},
   "source": []
  },
  {
   "cell_type": "code",
   "execution_count": null,
   "metadata": {},
   "outputs": [],
   "source": []
  }
 ],
 "metadata": {
  "kernelspec": {
   "display_name": "Python (.env)",
   "language": "python",
   "name": ".env"
  },
  "language_info": {
   "codemirror_mode": {
    "name": "ipython",
    "version": 3
   },
   "file_extension": ".py",
   "mimetype": "text/x-python",
   "name": "python",
   "nbconvert_exporter": "python",
   "pygments_lexer": "ipython3",
   "version": "3.13.2"
  }
 },
 "nbformat": 4,
 "nbformat_minor": 2
}
