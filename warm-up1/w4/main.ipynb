{
 "cells": [
  {
   "cell_type": "markdown",
   "metadata": {},
   "source": [
    "# OOP\n"
   ]
  },
  {
   "cell_type": "code",
   "execution_count": 11,
   "metadata": {},
   "outputs": [],
   "source": [
    "class Dog:\n",
    "    def __init__(self, name, size, age):\n",
    "        self.name = name\n",
    "        self._size = size\n",
    "        self.__age = age\n",
    "\n",
    "    def get_age(self):\n",
    "        return self.__age\n",
    "    \n",
    "    def set_age(self, age):\n",
    "        self.__age = age"
   ]
  },
  {
   "cell_type": "code",
   "execution_count": 15,
   "metadata": {},
   "outputs": [
    {
     "name": "stdout",
     "output_type": "stream",
     "text": [
      "Chow Chow\n",
      "Small\n",
      "2\n",
      "3\n",
      "4\n"
     ]
    }
   ],
   "source": [
    "dog_1 = Dog(\"Chow Chow\", 'Small', 2)\n",
    "print(dog_1.name)\n",
    "print(dog_1._size)\n",
    "print(dog_1._Dog__age)\n",
    "\n",
    "dog_2 = Dog(\"Chow2\", \"big\", 3)\n",
    "print(dog_2.get_age())\n",
    "\n",
    "dog_2.set_age(4)\n",
    "print(dog_2.get_age())"
   ]
  },
  {
   "cell_type": "markdown",
   "metadata": {},
   "source": [
    "# Encapsulation\n",
    "## Public, Private, Protected\n",
    "\n",
    "### 1. Public (công khai)\n",
    "- **Thuộc tính/ Phương thức công khai** là những thuộc tính hoặc phương thức có thể truy cập\n",
    "từ bên ngoài lớp\n",
    "- Truy cập thông qua cú pháp `object.attribute`\n",
    "- `dog_1.name`\n",
    "\n",
    "### 2. Protected (bảo vệ)\n",
    "- **Thuộc tính/ Phương thức bảo vệ** là những thuộc tính hoặc phương thức có thể truy cập \n",
    "từ bên ngoài lớp, nhưng **không khuyến khích** làm vậy vì chúng được coi là dành cho lớp kế thừa\n",
    "- Được biểu diễn với dấu gạnh đơn `(_)`, như `_size`\n",
    "- `dog_1._size`\n",
    "\n",
    "### 3. Private\n",
    "- **Thuộc tính/ Phương thức riêng tư** là những thuộc tính hoặc phương thức không thể truy cập\n",
    "từ bên ngoài lớp, \n",
    "- Được biểu diễn với 2 dấu gạch đơn `(__)`, như `self.__age`\n",
    "- Vẫn có cách để truy cập từ bên ngoài `.<class_name>__<attribute_name>` như `dog_1._Dog__age`, nhưng không được làm như vậy"
   ]
  },
  {
   "cell_type": "code",
   "execution_count": 17,
   "metadata": {},
   "outputs": [],
   "source": [
    "from abc import ABC, abstractmethod"
   ]
  },
  {
   "cell_type": "code",
   "execution_count": 20,
   "metadata": {},
   "outputs": [],
   "source": [
    "class Shape(ABC):\n",
    "    @abstractmethod\n",
    "    def compute_area(self):\n",
    "        pass\n",
    "\n",
    "class Square(Shape):\n",
    "    def __init__(self, side):\n",
    "        self.__side = side\n",
    "\n",
    "    def compute_area(self):\n",
    "        return self.__side*self.__side\n",
    "\n",
    "class Rectangle(Shape):\n",
    "    def __init__(self, weight, height):\n",
    "        self.__weight = weight\n",
    "        self.__height = height\n",
    "    \n",
    "    def compute_area(self):\n",
    "        return self.__weight*self.__height\n",
    "\n",
    "class Circle(Shape):\n",
    "    def __init__(self, radius):\n",
    "        self.__radius = radius\n",
    "    \n",
    "    def compute_area(self):\n",
    "        return 3.14*self.__radius**2\n"
   ]
  },
  {
   "cell_type": "code",
   "execution_count": 23,
   "metadata": {},
   "outputs": [
    {
     "name": "stdout",
     "output_type": "stream",
     "text": [
      "25\n",
      "20\n",
      "50.24\n"
     ]
    }
   ],
   "source": [
    "square = Square(5)\n",
    "print(square.compute_area())\n",
    "\n",
    "rec = Rectangle(4, 5)\n",
    "print(rec.compute_area())\n",
    "\n",
    "cir = Circle(4)\n",
    "print(cir.compute_area())"
   ]
  },
  {
   "cell_type": "code",
   "execution_count": 25,
   "metadata": {},
   "outputs": [
    {
     "name": "stdout",
     "output_type": "stream",
     "text": [
      "16\n",
      "25\n",
      "28.26\n"
     ]
    }
   ],
   "source": [
    "shapes = [Square(4), Rectangle(5, 5), Circle(3)]\n",
    "for shape in shapes:\n",
    "    print(shape.compute_area())"
   ]
  },
  {
   "cell_type": "markdown",
   "metadata": {},
   "source": [
    "# Abstraction (Lớp Trừu Tượng) trong OOP\n",
    "\n",
    "## Định nghĩa:\n",
    "- **Abstraction** ẩn chi tiết thực thi và chỉ cung cấp giao diện (method).\n",
    "- **Lớp trừu tượng** không thể khởi tạo đối tượng trực tiếp và chứa các phương thức trừu tượng mà các lớp con phải cài đặt.\n",
    "\n",
    "## Tính năng:\n",
    "- **Phương thức trừu tượng**: Phương thức không có cài đặt, chỉ định nghĩa giao diện.\n",
    "- **Lớp con phải cài đặt** phương thức này.\n",
    "\n",
    "## Lợi ích:\n",
    "1. **Dễ bảo trì và mở rộng**: Thêm lớp mới mà không thay đổi các phần còn lại.\n",
    "2. **Quản lý mã dễ dàng**: Tất cả lớp con phải cài đặt các phương thức chung (ví dụ: `compute_area()`).\n",
    "3. **Ẩn chi tiết thực thi**: Người dùng chỉ cần gọi phương thức mà không cần quan tâm đến chi tiết lớp con.\n",
    "\n",
    "## Ví dụ:\n",
    "\n",
    "```python\n",
    "from abc import ABC, abstractmethod\n",
    "\n",
    "class Shape(ABC):\n",
    "    @abstractmethod\n",
    "    def compute_area(self):\n",
    "        pass\n",
    "\n",
    "class Square(Shape):\n",
    "    def compute_area(self):\n",
    "        return self.side * self.side\n",
    "\n",
    "class Circle(Shape):\n",
    "    def compute_area(self):\n",
    "        return 3.14 * self.radius ** 2\n",
    "\n",
    "shapes = [Square(4), Circle(5)]\n",
    "for shape in shapes:\n",
    "    print(shape.compute_area())\n",
    "```\n",
    "## So sánh\n",
    "### Không dùng lớp trìu tượng:\n",
    "- Các lớp con có thể có các phương thức khác tên (e.g., `compute_square_area`, `compute_cirlce_are`,..) khó quản lý\n",
    "\n",
    "```python\n",
    "class Square:\n",
    "    def compute_square_area(self):\n",
    "        return self.side * self.side\n",
    "\n",
    "class Circle:\n",
    "    def compute_cir_area(self):\n",
    "        return 3.14 * self.radius ** 2\n",
    "```\n",
    "### Dùng lớp trìu tượng\n",
    "- Tất cả các lớp con đều có phương thức `compute_area()`.\n",
    "```python\n",
    "class Square(Shape):\n",
    "    def compute_area(self):\n",
    "        return self.side * self.side\n",
    "```\n",
    "\n",
    "## Kết luận \n",
    "- **Abstraction** giúp dễ bảo trì, mở rộng và quản lý mã, đảm bảo tính nhất quán trong giao diện các lớp con.\n"
   ]
  },
  {
   "cell_type": "markdown",
   "metadata": {},
   "source": []
  }
 ],
 "metadata": {
  "kernelspec": {
   "display_name": "Python (.env)",
   "language": "python",
   "name": ".env"
  },
  "language_info": {
   "codemirror_mode": {
    "name": "ipython",
    "version": 3
   },
   "file_extension": ".py",
   "mimetype": "text/x-python",
   "name": "python",
   "nbconvert_exporter": "python",
   "pygments_lexer": "ipython3",
   "version": "3.13.2"
  }
 },
 "nbformat": 4,
 "nbformat_minor": 2
}
