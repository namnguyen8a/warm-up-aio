{
 "cells": [
  {
   "cell_type": "markdown",
   "metadata": {},
   "source": [
    "# Problem\n",
    "**Problem**: Một Ward gồm có name (string) và danh sách của mọi người trong Ward. Một người\n",
    "Person có thể là Student, Doctor, hoặc Teacher. Một Student gồm có name, yob (int) (năm sinh),\n",
    "và grade (string). Một Teacher gồm có name, yob, và subject (string). Một Doctor gồm có name,\n",
    "yob, và specialist (string). Lưu ý cần sử dụng một danh sách để chứa danh sách của mọi người\n",
    "trong Ward."
   ]
  },
  {
   "cell_type": "code",
   "execution_count": 4,
   "metadata": {},
   "outputs": [],
   "source": [
    "from abc import ABC, abstractmethod\n",
    "\n",
    "class Person:\n",
    "    def __init__(self, name, yob):\n",
    "        self._name = name\n",
    "        self._yob = yob\n",
    "    \n",
    "    def get_yob(self):\n",
    "        return self._yob\n",
    "    \n",
    "    @abstractmethod\n",
    "    def describe(self):\n",
    "        pass\n",
    "\n",
    "class Student(Person):\n",
    "    def __init__(self, name, yob, grade):\n",
    "        super().__init__(name, yob)\n",
    "        self.__grade = grade\n",
    "\n",
    "    def describe(self):\n",
    "        print(f\"Student - Name: {self._name} - YoB: {self._yob} - Grade: {self.__grade}\")\n",
    "    \n",
    "\n",
    "class Teacher(Person):\n",
    "    def __init__(self, name, yob, subject):\n",
    "        super().__init__(name, yob)\n",
    "        self.__subject = subject\n",
    "\n",
    "    def describe(self):\n",
    "        print(f\"Teacher - Name: {self._name} - YoB: {self._yob} - Subject: {self.__subject}\")\n",
    "\n",
    "\n",
    "class Doctor(Person):\n",
    "    def __init__(self, name, yob, specialist):\n",
    "        super().__init__(name, yob)\n",
    "        self.__specialist = specialist\n",
    "\n",
    "    def describe(self):\n",
    "        print(f\"Doctor - Name: {self._name} - YoB: {self._yob} - Specialist: {self.__specialist}\")\n"
   ]
  },
  {
   "cell_type": "code",
   "execution_count": null,
   "metadata": {},
   "outputs": [],
   "source": [
    "class Ward:\n",
    "    def __init__(self, name):\n",
    "        self.__name = name\n",
    "        self.__list_people = list()\n",
    "\n",
    "    def add_person(self, person):\n",
    "        self.__list_people.append(person)\n",
    "\n",
    "    def describe(self):\n",
    "        print(f\"Ward Name: {self.__name}\")\n",
    "        for p in self.__list_people:\n",
    "            p.describe()\n",
    "\n",
    "    def count_doctor(self):\n",
    "        counter = 0\n",
    "        for p in self.__list_people:\n",
    "            if isinstance(p, Doctor): # if type(p) is Doctor\n",
    "                counter += 1\n",
    "        return counter\n",
    "    \n",
    "    def sort_age(self):\n",
    "        self.__list_people.sort(key=lambda x: x.get_yob(), reverse=True)\n",
    "\n",
    "    def get_people(self):\n",
    "        return self.__list_people"
   ]
  },
  {
   "cell_type": "code",
   "execution_count": 17,
   "metadata": {},
   "outputs": [
    {
     "name": "stdout",
     "output_type": "stream",
     "text": [
      "Ward Name: Ward1\n",
      "Student - Name: stuA - YoB: 2010 - Grade: 7\n",
      "Teacher - Name: tA - YoB: 1911 - Subject: Math\n",
      "Doctor - Name: dA - YoB: 1933 - Specialist: Liver\n",
      "Doctor - Name: dB - YoB: 1934 - Specialist: Kidney\n",
      "2\n"
     ]
    },
    {
     "data": {
      "text/plain": [
       "[<__main__.Student at 0x2b01d9f1bd0>,\n",
       " <__main__.Doctor at 0x2b01def8410>,\n",
       " <__main__.Doctor at 0x2b01d9f1a10>,\n",
       " <__main__.Teacher at 0x2b01d9f3550>]"
      ]
     },
     "execution_count": 17,
     "metadata": {},
     "output_type": "execute_result"
    }
   ],
   "source": [
    "s1 = Student(\"stuA\", 2010, 7)\n",
    "# s1.describe()\n",
    "\n",
    "t1 = Teacher(\"tA\", 1911, \"Math\")\n",
    "# t1.describe()\n",
    "\n",
    "d1 = Doctor(\"dA\", 1933, \"Liver\")\n",
    "# d1.describe()\n",
    "\n",
    "d2 = Doctor(\"dB\", 1934, \"Kidney\")\n",
    "\n",
    "w1 = Ward(\"Ward1\")\n",
    "w1.add_person(s1)\n",
    "w1.add_person(t1)\n",
    "w1.add_person(d1)\n",
    "w1.add_person(d2)\n",
    "w1.describe()\n",
    "print(w1.count_doctor())\n",
    "w1.sort_age()\n",
    "w1.get_people()"
   ]
  },
  {
   "cell_type": "code",
   "execution_count": null,
   "metadata": {},
   "outputs": [],
   "source": []
  }
 ],
 "metadata": {
  "kernelspec": {
   "display_name": ".env",
   "language": "python",
   "name": "python3"
  },
  "language_info": {
   "codemirror_mode": {
    "name": "ipython",
    "version": 3
   },
   "file_extension": ".py",
   "mimetype": "text/x-python",
   "name": "python",
   "nbconvert_exporter": "python",
   "pygments_lexer": "ipython3",
   "version": "3.11.5"
  }
 },
 "nbformat": 4,
 "nbformat_minor": 2
}
