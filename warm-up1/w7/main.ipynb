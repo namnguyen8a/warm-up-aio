{
 "cells": [
  {
   "cell_type": "code",
   "execution_count": 6,
   "metadata": {},
   "outputs": [],
   "source": [
    "import sqlite3\n",
    "\n",
    "connection = sqlite3.connect('db/db.sqlite')\n",
    "cursor = connection.cursor()\n"
   ]
  },
  {
   "cell_type": "code",
   "execution_count": 7,
   "metadata": {},
   "outputs": [
    {
     "ename": "OperationalError",
     "evalue": "table CUSTOMERS already exists",
     "output_type": "error",
     "traceback": [
      "\u001b[1;31m---------------------------------------------------------------------------\u001b[0m",
      "\u001b[1;31mOperationalError\u001b[0m                          Traceback (most recent call last)",
      "Cell \u001b[1;32mIn[7], line 2\u001b[0m\n\u001b[0;32m      1\u001b[0m \u001b[38;5;66;03m# Tạo bảng CUSTOMERS:\u001b[39;00m\n\u001b[1;32m----> 2\u001b[0m \u001b[43mcursor\u001b[49m\u001b[38;5;241;43m.\u001b[39;49m\u001b[43mexecute\u001b[49m\u001b[43m(\u001b[49m\u001b[38;5;124;43m\"\"\"\u001b[39;49m\n\u001b[0;32m      3\u001b[0m \u001b[38;5;124;43mCREATE TABLE CUSTOMERS (\u001b[39;49m\n\u001b[0;32m      4\u001b[0m \u001b[38;5;124;43m    EMAIL TEXT PRIMARY KEY,\u001b[39;49m\n\u001b[0;32m      5\u001b[0m \u001b[38;5;124;43m    NAME TEXT NOT NULL,\u001b[39;49m\n\u001b[0;32m      6\u001b[0m \u001b[38;5;124;43m    PHONE TEXT NOT NULL              \u001b[39;49m\n\u001b[0;32m      7\u001b[0m \u001b[38;5;124;43m);\u001b[39;49m\n\u001b[0;32m      8\u001b[0m \u001b[38;5;124;43m\"\"\"\u001b[39;49m\u001b[43m)\u001b[49m\n\u001b[0;32m     10\u001b[0m \u001b[38;5;66;03m# Insert data mới\u001b[39;00m\n\u001b[0;32m     11\u001b[0m cursor\u001b[38;5;241m.\u001b[39mexecute(\u001b[38;5;124m\"\"\"\u001b[39m\n\u001b[0;32m     12\u001b[0m \u001b[38;5;124mINSERT INTO CUSTOMERS(EMAIL, NAME, PHONE)\u001b[39m\n\u001b[0;32m     13\u001b[0m \u001b[38;5;124mVALUES\u001b[39m\n\u001b[0;32m     14\u001b[0m \u001b[38;5;124m    (\u001b[39m\u001b[38;5;124m'\u001b[39m\u001b[38;5;124mnguyen@aivienam.edu.vn\u001b[39m\u001b[38;5;124m'\u001b[39m\u001b[38;5;124m, \u001b[39m\u001b[38;5;124m'\u001b[39m\u001b[38;5;124mNguyen\u001b[39m\u001b[38;5;124m'\u001b[39m\u001b[38;5;124m, \u001b[39m\u001b[38;5;124m'\u001b[39m\u001b[38;5;124m123456789\u001b[39m\u001b[38;5;124m'\u001b[39m\u001b[38;5;124m),\u001b[39m\n\u001b[0;32m     15\u001b[0m \u001b[38;5;124m    (\u001b[39m\u001b[38;5;124m'\u001b[39m\u001b[38;5;124madmin@aivietnam.edu.vn\u001b[39m\u001b[38;5;124m'\u001b[39m\u001b[38;5;124m, \u001b[39m\u001b[38;5;124m'\u001b[39m\u001b[38;5;124mVinh\u001b[39m\u001b[38;5;124m'\u001b[39m\u001b[38;5;124m, \u001b[39m\u001b[38;5;124m'\u001b[39m\u001b[38;5;124m1122334455\u001b[39m\u001b[38;5;124m'\u001b[39m\u001b[38;5;124m);\u001b[39m\n\u001b[0;32m     16\u001b[0m \u001b[38;5;124m\"\"\"\u001b[39m)\n",
      "\u001b[1;31mOperationalError\u001b[0m: table CUSTOMERS already exists"
     ]
    }
   ],
   "source": [
    "# Tạo bảng CUSTOMERS:\n",
    "cursor.execute(\"\"\"\n",
    "CREATE TABLE CUSTOMERS (\n",
    "    EMAIL TEXT PRIMARY KEY,\n",
    "    NAME TEXT NOT NULL,\n",
    "    PHONE TEXT NOT NULL              \n",
    ");\n",
    "\"\"\")\n",
    "\n",
    "# Insert data mới\n",
    "cursor.execute(\"\"\"\n",
    "INSERT INTO CUSTOMERS(EMAIL, NAME, PHONE)\n",
    "VALUES\n",
    "    ('nguyen@aivienam.edu.vn', 'Nguyen', '123456789'),\n",
    "    ('admin@aivietnam.edu.vn', 'Vinh', '1122334455');\n",
    "\"\"\")\n",
    "\n",
    "connection.commit()\n"
   ]
  },
  {
   "cell_type": "code",
   "execution_count": 8,
   "metadata": {},
   "outputs": [
    {
     "name": "stdout",
     "output_type": "stream",
     "text": [
      "                    EMAIL    NAME       PHONE\n",
      "0  nguyen@aivienam.edu.vn  Nguyen   123456789\n",
      "1  admin@aivietnam.edu.vn    Vinh  1122334455\n"
     ]
    }
   ],
   "source": [
    "import pandas as pd\n",
    "# Lấy tất cả data từ bảng CUSTOMER\n",
    "data = pd.read_sql_query(\"SELECT * FROM CUSTOMERS\", connection)\n",
    "print(data)"
   ]
  },
  {
   "cell_type": "code",
   "execution_count": 13,
   "metadata": {},
   "outputs": [
    {
     "name": "stdout",
     "output_type": "stream",
     "text": [
      "                     EMAIL          NAME       PHONE\n",
      "0  nguyen@aivietnam.edu.vn  Hoang Nguyen   123456789\n",
      "1   admin@aivietnam.edu.vn          Vinh  1122334455\n"
     ]
    }
   ],
   "source": [
    "# update name của email: 'nguyen@aivietnam.edu.vn'\n",
    "cursor.execute(\"\"\"\n",
    "UPDATE CUSTOMERS\n",
    "SET EMAIL = 'nguyen@aivietnam.edu.vn'\n",
    "WHERE EMAIL = 'nguyen@aivienam.edu.vn';\n",
    "\"\"\")\n",
    "\n",
    "connection.commit()\n",
    "\n",
    "data1 = pd.read_sql_query(\"SELECT * FROM CUSTOMERS\", connection)\n",
    "print(data1)"
   ]
  },
  {
   "cell_type": "code",
   "execution_count": 14,
   "metadata": {},
   "outputs": [
    {
     "name": "stdout",
     "output_type": "stream",
     "text": [
      "                    EMAIL  NAME       PHONE\n",
      "0  admin@aivietnam.edu.vn  Vinh  1122334455\n"
     ]
    }
   ],
   "source": [
    "cursor.execute(\"\"\"\n",
    "DELETE FROM CUSTOMERS \n",
    "WHERE EMAIL = 'nguyen@aivietnam.edu.vn';\n",
    "\"\"\")\n",
    "\n",
    "connection.commit()\n",
    "data1 = pd.read_sql_query(\"SELECT * FROM CUSTOMERS\", connection)\n",
    "print(data1)\n"
   ]
  },
  {
   "cell_type": "markdown",
   "metadata": {},
   "source": [
    "# TẠO BẢNG PRODUCT"
   ]
  },
  {
   "cell_type": "code",
   "execution_count": 15,
   "metadata": {},
   "outputs": [],
   "source": [
    "# Tạo bảng PRODUCT:\n",
    "cursor.execute(\"\"\"\n",
    "CREATE TABLE PRODUCT (\n",
    "    ID INT PRIMARY KEY,\n",
    "    NAME TEXT NOT NULL,\n",
    "    PRICE INT NOT NULL              \n",
    ");\n",
    "\"\"\")\n",
    "\n",
    "# Insert data mới\n",
    "cursor.execute(\"\"\"\n",
    "INSERT INTO PRODUCT(ID, NAME, PRICE)\n",
    "VALUES\n",
    "    (1, 'iPhone 15', 18000000),\n",
    "    (2, 'Galaxy Z-Fold 5', 30000000);\n",
    "\"\"\")\n",
    "\n",
    "connection.commit()\n"
   ]
  },
  {
   "cell_type": "code",
   "execution_count": null,
   "metadata": {},
   "outputs": [],
   "source": [
    "import pandas as pd\n",
    "# Lấy tất cả data từ bảng PRODUCT\n",
    "data = pd.read_sql_query(\"SELECT * FROM CUSTOMERS\", connection)\n",
    "print(data)"
   ]
  },
  {
   "cell_type": "markdown",
   "metadata": {},
   "source": [
    "# TẠO BẢNG PRODUCT - v2"
   ]
  },
  {
   "cell_type": "code",
   "execution_count": 17,
   "metadata": {},
   "outputs": [],
   "source": [
    "# Tạo bảng CUSTOMERS:\n",
    "cursor.execute(\"\"\"\n",
    "CREATE TABLE PRODUCT2 (\n",
    "    ID INT PRIMARY KEY,\n",
    "    NAME TEXT NOT NULL,\n",
    "    BRAND TEXT NOT NULL,\n",
    "    PRICE INT NOT NULL               \n",
    ");\n",
    "\"\"\")\n",
    "\n",
    "# Insert data mới\n",
    "cursor.execute(\"\"\"\n",
    "INSERT INTO PRODUCT2(ID, NAME, BRAND, PRICE)\n",
    "VALUES\n",
    "    (1, 'iPhone 15', 'Apple', 18000000),\n",
    "    (2, 'Galaxy Z-Fold 5', 'Samsung', 30000000),\n",
    "    (3, 'Find X', 'Oppo', 20000000),\n",
    "    (4, 'iPhone 14', 'Apple', 16000000),\n",
    "    (5, 'Galaxy Z-Flip', 'Samsung', 17000000),\n",
    "    (6, 'iPhone 15 Pro Max', 'Apple', 48000000);\n",
    "\"\"\")\n",
    "\n",
    "connection.commit()\n"
   ]
  },
  {
   "cell_type": "code",
   "execution_count": 18,
   "metadata": {},
   "outputs": [
    {
     "name": "stdout",
     "output_type": "stream",
     "text": [
      "   ID               NAME    BRAND     PRICE\n",
      "0   1          iPhone 15    Apple  18000000\n",
      "1   2    Galaxy Z-Fold 5  Samsung  30000000\n",
      "2   3             Find X     Oppo  20000000\n",
      "3   4          iPhone 14    Apple  16000000\n",
      "4   5      Galaxy Z-Flip  Samsung  17000000\n",
      "5   6  iPhone 15 Pro Max    Apple  48000000\n"
     ]
    }
   ],
   "source": [
    "data = pd.read_sql_query(\"SELECT * FROM PRODUCT2\", connection)\n",
    "print(data)"
   ]
  },
  {
   "cell_type": "code",
   "execution_count": 19,
   "metadata": {},
   "outputs": [
    {
     "name": "stdout",
     "output_type": "stream",
     "text": [
      "   total_revenue\n",
      "0      149000000\n"
     ]
    }
   ],
   "source": [
    "query = \"\"\"\n",
    "SELECT SUM(price) AS total_revenue\n",
    "FROM PRODUCT2;\n",
    "\"\"\"\n",
    "\n",
    "data_sum = pd.read_sql_query(query, connection)\n",
    "print(data_sum)"
   ]
  },
  {
   "cell_type": "code",
   "execution_count": 20,
   "metadata": {},
   "outputs": [
    {
     "name": "stdout",
     "output_type": "stream",
     "text": [
      "                NAME     PRICE\n",
      "0  iPhone 15 Pro Max  48000000\n"
     ]
    }
   ],
   "source": [
    "query = \"\"\"\n",
    "SELECT NAME, MAX(price) AS PRICE\n",
    "FROM PRODUCT2;\n",
    "\"\"\"\n",
    "\n",
    "data_max = pd.read_sql_query(query, connection)\n",
    "print(data_max)"
   ]
  },
  {
   "cell_type": "code",
   "execution_count": 21,
   "metadata": {},
   "outputs": [
    {
     "name": "stdout",
     "output_type": "stream",
     "text": [
      "     BRAND  total_revenue\n",
      "0    Apple       82000000\n",
      "1     Oppo       20000000\n",
      "2  Samsung       47000000\n"
     ]
    }
   ],
   "source": [
    "query = \"\"\"\n",
    "SELECT BRAND, SUM(price) AS total_revenue\n",
    "FROM PRODUCT2\n",
    "GROUP BY BRAND;\n",
    "\"\"\"\n",
    "\n",
    "data_sum_by_brand = pd.read_sql_query(query, connection)\n",
    "print(data_sum_by_brand)"
   ]
  },
  {
   "cell_type": "code",
   "execution_count": 23,
   "metadata": {},
   "outputs": [
    {
     "name": "stdout",
     "output_type": "stream",
     "text": [
      "            NAME    BRAND     PRICE\n",
      "0      iPhone 14    Apple  16000000\n",
      "1         Find X     Oppo  20000000\n",
      "2  Galaxy Z-Flip  Samsung  17000000\n"
     ]
    }
   ],
   "source": [
    "query = \"\"\"\n",
    "SELECT NAME, BRAND, MIN(price) AS PRICE\n",
    "FROM PRODUCT2\n",
    "GROUP BY BRAND;\n",
    "\"\"\"\n",
    "\n",
    "data_min_by_brand = pd.read_sql_query(query, connection)\n",
    "print(data_min_by_brand)"
   ]
  },
  {
   "cell_type": "code",
   "execution_count": null,
   "metadata": {},
   "outputs": [],
   "source": []
  }
 ],
 "metadata": {
  "kernelspec": {
   "display_name": ".env",
   "language": "python",
   "name": "python3"
  },
  "language_info": {
   "codemirror_mode": {
    "name": "ipython",
    "version": 3
   },
   "file_extension": ".py",
   "mimetype": "text/x-python",
   "name": "python",
   "nbconvert_exporter": "python",
   "pygments_lexer": "ipython3",
   "version": "3.11.5"
  }
 },
 "nbformat": 4,
 "nbformat_minor": 2
}
