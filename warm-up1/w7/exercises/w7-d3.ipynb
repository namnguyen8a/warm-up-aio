{
 "cells": [
  {
   "cell_type": "markdown",
   "metadata": {},
   "source": [
    "# SQL: HỆ THỐNG QUẢN LÝ DOANH SỐ"
   ]
  },
  {
   "cell_type": "code",
   "execution_count": null,
   "metadata": {},
   "outputs": [
    {
     "name": "stdout",
     "output_type": "stream",
     "text": [
      "Current working directory: f:\\AIO\\warm-up-25\\warm-up1\\w7\\exercises\n"
     ]
    }
   ],
   "source": [
    "import pymysql\n",
    "import os\n",
    "from dotenv import load_dotenv\n",
    "\n",
    "# Load environment variables from .credential file\n",
    "load_dotenv(\".credential\")\n",
    "\n",
    "# Get credentials from environment variables\n",
    "conn = pymysql.connect(\n",
    "    host=os.getenv(\"DB_HOST\"),\n",
    "    user=os.getenv(\"DB_USER\"),\n",
    "    password=os.getenv(\"DB_PASSWORD\")\n",
    ")\n",
    "cursor = conn.cursor()\n"
   ]
  },
  {
   "cell_type": "code",
   "execution_count": 80,
   "metadata": {},
   "outputs": [],
   "source": [
    "cursor.execute(\"CREATE DATABASE IF NOT EXISTS SalesDB;\")\n",
    "cursor.execute(\"USE SalesDB;\")\n",
    "\n",
    "\n",
    "# 1. Tạo bảng Salespersons\n",
    "cursor.execute(\"\"\"\n",
    "CREATE TABLE IF NOT EXISTS SALESPERSONS (\n",
    "    SalespersonID INT PRIMARY KEY,\n",
    "    FullName VARCHAR(100) NOT NULL,\n",
    "    Email VARCHAR(100) UNIQUE NOT NULL,\n",
    "    PhoneNumber VARCHAR(15) NOT NULL        \n",
    ");\n",
    "\"\"\")\n",
    "\n",
    "# 2. Tạo bảng CUSTOMERS\n",
    "cursor.execute(\"\"\"\n",
    "CREATE TABLE IF NOT EXISTS CUSTOMERS (\n",
    "    CustomerID INT PRIMARY KEY,\n",
    "    FullName VARCHAR(100) NOT NULL,\n",
    "    Email VARCHAR(100) UNIQUE NOT NULL,\n",
    "    PhoneNumber VARCHAR(15) NOT NULL        \n",
    ");\n",
    "\"\"\")\n",
    "\n",
    "# 3. Tạo bảng ORDERS\n",
    "cursor.execute(\"\"\"\n",
    "CREATE TABLE IF NOT EXISTS ORDERS (\n",
    "    OrderID INT PRIMARY KEY,\n",
    "    CustomerID INT NOT NULL,\n",
    "    SalespersonID INT NOT NULL,\n",
    "    OrderDate DATE NOT NULL,\n",
    "    TotalAmount DECIMAL(12, 2) NOT NULL,\n",
    "    FOREIGN KEY (CustomerID) REFERENCES CUSTOMERS(CustomerID) ON DELETE CASCADE,\n",
    "    FOREIGN KEY (SalespersonID) REFERENCES SALESPERSONS(SalespersonID) ON DELETE CASCADE\n",
    "\n",
    ");\n",
    "\"\"\")\n",
    "\n",
    "# 4. Chèn dữ liệu vào bảng SALESPERSONS\n",
    "cursor.execute(\"\"\"\n",
    "INSERT INTO SALESPERSONS (SalespersonID, FullName, Email, PhoneNumber) VALUES\n",
    "(1, 'John Doe', 'john.doe@example.com', '123-456-7890'),\n",
    "(2, 'Jane Smith', 'jane.smith@example.com', '234-567-8901'),\n",
    "(3, 'Michael Brown', 'michael.brown@example.com', '345-678-9012'),\n",
    "(4, 'Emily Johnson', 'emily.johnson@example.com', '456-789-0123'),\n",
    "(5, 'David Wilson', 'david.wilson@example.com', '567-890-1234'),\n",
    "(6, 'Sophia Turner', 'sophia.turner@example.com', '678-123-4567'),\n",
    "(7, 'Daniel Harris', 'daniel.harris@example.com', '789-234-5678')\n",
    "ON DUPLICATE KEY UPDATE FullName=VALUES(FullName), Email=VALUES(Email), PhoneNumber=VALUES(PhoneNumber);\n",
    "\"\"\")\n",
    "\n",
    "# 5. Chèn dữ liệu vào bảng CUSTOMERS\n",
    "cursor.execute(\"\"\"\n",
    "INSERT INTO CUSTOMERS (CustomerID, FullName, Email, PhoneNumber) VALUES\n",
    "(101, 'Alice Green', 'alice.green@example.com', '678-901-2345'),\n",
    "(102, 'Bob White', 'bob.white@example.com', '789-012-3456'),\n",
    "(103, 'Charlie Black', 'charlie.black@example.com', '890-123-4567'),\n",
    "(104, 'Diana Blue', 'diana.blue@example.com', '901-234-5678'),\n",
    "(105, 'Edward Grey', 'edward.grey@example.com', '012-345-6789'),\n",
    "(106, 'Frank Orange', 'frank.orange@example.com', '345-678-9012'),\n",
    "(107, 'Grace Yellow', 'grace.yellow@example.com', '456-789-0123')\n",
    "ON DUPLICATE KEY UPDATE FullName=VALUES(FullName), Email=VALUES(Email), PhoneNumber=VALUES(PhoneNumber);\n",
    "\"\"\")\n",
    "\n",
    "# 6. Chèn dữ liệu vào bảng ORDERS\n",
    "cursor.execute(\"\"\"\n",
    "INSERT INTO ORDERS (OrderID, CustomerID, SalespersonID, OrderDate, TotalAmount) VALUES\n",
    "(1001, 101, 1, '2024-03-01', 250.75),\n",
    "(1002, 102, 2, '2024-03-02', 499.99),\n",
    "(1003, 103, 3, '2024-03-03', 320.50),\n",
    "(1004, 104, 4, '2024-03-04', 150.00),\n",
    "(1005, 105, 5, '2024-03-05', 275.80),\n",
    "(1006, 101, 1, '2024-03-06', 199.99),  \n",
    "(1007, 101, 2, '2024-03-07', 349.50),  \n",
    "(1008, 102, 3, '2024-03-08', 120.00),  \n",
    "(1009, 103, 1, '2024-03-09', 410.20),  \n",
    "(1010, 104, 2, '2024-03-10', 530.00),  \n",
    "(1011, 106, 6, '2024-03-11', 300.00),  \n",
    "(1012, 107, 7, '2024-03-12', 450.75)\n",
    "ON DUPLICATE KEY UPDATE CustomerID=VALUES(CustomerID), SalespersonID=VALUES(SalespersonID), OrderDate=VALUES(OrderDate), TotalAmount=VALUES(TotalAmount);\n",
    "\"\"\")\n",
    "\n",
    "# Commit the changes\n",
    "conn.commit()\n"
   ]
  },
  {
   "cell_type": "code",
   "execution_count": 81,
   "metadata": {},
   "outputs": [
    {
     "name": "stdout",
     "output_type": "stream",
     "text": [
      "((1001, 101, 1, datetime.date(2024, 3, 1), Decimal('250.75')), (1006, 101, 1, datetime.date(2024, 3, 6), Decimal('199.99')), (1009, 103, 1, datetime.date(2024, 3, 9), Decimal('410.20')))\n"
     ]
    }
   ],
   "source": [
    "# 7. Liệt kê các đơn hàng có SalespersonID = 1\n",
    "cursor.execute(\"\"\"\n",
    "SELECT * FROM ORDERS WHERE SalespersonID = 1;\n",
    "\"\"\")\n",
    "\n",
    "data = cursor.fetchall()\n",
    "print(data)"
   ]
  },
  {
   "cell_type": "code",
   "execution_count": 82,
   "metadata": {},
   "outputs": [
    {
     "name": "stdout",
     "output_type": "stream",
     "text": [
      "((101, 3),)\n"
     ]
    }
   ],
   "source": [
    "# 8. Tìm khách hàng có số lượng đơn hàng nhiều nhất.\n",
    "cursor.execute(\"\"\"\n",
    "SELECT CustomerID, count(*) AS order_times from orders group by CustomerID order by order_times desc limit 1;\n",
    "\"\"\")\n",
    "\n",
    "data = cursor.fetchall()\n",
    "print(data)"
   ]
  },
  {
   "cell_type": "code",
   "execution_count": 83,
   "metadata": {},
   "outputs": [
    {
     "name": "stdout",
     "output_type": "stream",
     "text": [
      "((1, Decimal('860.94')), (2, Decimal('1379.49')), (3, Decimal('440.50')), (4, Decimal('150.00')), (5, Decimal('275.80')), (6, Decimal('300.00')), (7, Decimal('450.75')))\n"
     ]
    }
   ],
   "source": [
    "# 9. Tính tổng doanh số của từng nhân viên.\n",
    "cursor.execute(\"\"\"\n",
    "select SalespersonID, sum(TotalAmount) AS sales_person_revenue from orders group by SalespersonID;\n",
    "\"\"\")\n",
    "\n",
    "data = cursor.fetchall()\n",
    "print(data)"
   ]
  },
  {
   "cell_type": "code",
   "execution_count": 84,
   "metadata": {},
   "outputs": [
    {
     "name": "stdout",
     "output_type": "stream",
     "text": [
      "((2, Decimal('1379.49')),)\n"
     ]
    }
   ],
   "source": [
    "# 10.  Tìm nhân viên có doanh số cao nhất.\n",
    "cursor.execute(\"\"\"\n",
    "select SalespersonID, sum(TotalAmount) AS sales_person_revenue from orders group by SalespersonID order by sales_person_revenue desc limit 1;\n",
    "\"\"\")\n",
    "\n",
    "data = cursor.fetchall()\n",
    "print(data)"
   ]
  },
  {
   "cell_type": "code",
   "execution_count": 85,
   "metadata": {},
   "outputs": [],
   "source": [
    "# 11: Cập nhật tổng giá trị đơn hàng có OrderID = 2 thành 4.500.000\n",
    "cursor.execute(\"\"\"\n",
    "update orders set TotalAmount = 450000 where OrderID = 1002;\n",
    "\"\"\")\n",
    "\n",
    "conn.commit()\n"
   ]
  },
  {
   "cell_type": "code",
   "execution_count": 86,
   "metadata": {},
   "outputs": [],
   "source": [
    "#  12: Cập nhật số điện thoại của khách hàng có CustomerID = 3\n",
    "cursor.execute(\"\"\"\n",
    "update customers set PhoneNumber = '333-333-0000' where CustomerID = 103;\n",
    "\"\"\")\n",
    "\n",
    "conn.commit()\n"
   ]
  },
  {
   "cell_type": "code",
   "execution_count": 87,
   "metadata": {},
   "outputs": [],
   "source": [
    "#  13: Xóa tất cả các đơn hàng của khách hàng có CustomerID = 2\n",
    "cursor.execute(\"\"\"\n",
    "delete from orders where CustomerID = 102;\n",
    "\"\"\")\n",
    "\n",
    "conn.commit()\n"
   ]
  },
  {
   "cell_type": "code",
   "execution_count": 90,
   "metadata": {},
   "outputs": [],
   "source": [
    "# # Get All Databases and Their Sizes\n",
    "# cursor.execute(\"\"\"\n",
    "#     SELECT table_schema AS 'Database',\n",
    "#             ROUND(SUM(data_length + index_length) / 1024 / 1024, 2) AS 'Size (MB)'\n",
    "#     FROM information_schema.tables\n",
    "#     GROUP BY table_schema\n",
    "#     ORDER BY SUM(data_length + index_length) DESC;\n",
    "# \"\"\")\n",
    "\n",
    "# # Fetch All Databases Info\n",
    "# databases = cursor.fetchall()\n",
    "\n",
    "# # Print the Results\n",
    "# print(\"📂 List of Databases and Their Sizes:\")\n",
    "# print(\"-\" * 50)\n",
    "# for db in databases:\n",
    "#     print(f\"📁 Database: {db[0]} | 🏷️ Size: {db[1]} MB\")\n",
    "\n",
    "# # Switch to SalesDB and Show All Tables\n",
    "# cursor.execute(\"USE SalesDB;\")  # Switch to SalesDB\n",
    "\n",
    "# # Show All Tables in SalesDB\n",
    "# cursor.execute(\"SHOW TABLES;\")\n",
    "# tables = cursor.fetchall()\n",
    "\n",
    "# print(\"\\n📋 Tables in 'SalesDB':\")\n",
    "# print(\"-\" * 50)\n",
    "# for table in tables:\n",
    "#     table_name = table[0]\n",
    "#     print(f\"📌 {table_name}\")\n",
    "\n",
    "#     # Get All Fields of Each Table\n",
    "#     cursor.execute(f\"SHOW COLUMNS FROM {table_name};\")\n",
    "#     columns = cursor.fetchall()\n",
    "\n",
    "#     # Print Column Details\n",
    "#     print(f\"   🔍 Fields in `{table_name}`:\")\n",
    "#     print(\"   \" + \"-\" * 50)\n",
    "#     for col in columns:\n",
    "#         print(f\"   🏷️ {col[0]:<15} | 📌 Type: {col[1]:<20} | ⚡ Key: {col[3]}\")\n",
    "#     print(\"\")\n",
    "    \n",
    "# Close Connection\n",
    "cursor.close()\n",
    "conn.close()\n"
   ]
  }
 ],
 "metadata": {
  "kernelspec": {
   "display_name": ".env",
   "language": "python",
   "name": "python3"
  },
  "language_info": {
   "codemirror_mode": {
    "name": "ipython",
    "version": 3
   },
   "file_extension": ".py",
   "mimetype": "text/x-python",
   "name": "python",
   "nbconvert_exporter": "python",
   "pygments_lexer": "ipython3",
   "version": "3.11.5"
  }
 },
 "nbformat": 4,
 "nbformat_minor": 2
}
