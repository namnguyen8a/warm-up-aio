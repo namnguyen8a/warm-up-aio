{
 "cells": [
  {
   "cell_type": "markdown",
   "metadata": {},
   "source": [
    "# TẠO BẢNG STOCK"
   ]
  },
  {
   "cell_type": "code",
   "execution_count": 1,
   "metadata": {},
   "outputs": [],
   "source": [
    "import sqlite3\n",
    "import pandas as pd\n",
    "\n",
    "connection = sqlite3.connect('../db/db.sqlite')\n",
    "cursor = connection.cursor()\n"
   ]
  },
  {
   "cell_type": "code",
   "execution_count": 2,
   "metadata": {},
   "outputs": [],
   "source": [
    "# Tạo bảng STOCK:\n",
    "cursor.execute(\"\"\"\n",
    "CREATE TABLE STOCK (\n",
    "    ID INT PRIMARY KEY,\n",
    "    NAME TEXT NOT NULL,\n",
    "    BUY INT NOT NULL,\n",
    "    INVESTOR TEXT NOT NULL               \n",
    ");\n",
    "\"\"\")\n",
    "\n",
    "# Insert data mới\n",
    "cursor.execute(\"\"\"\n",
    "INSERT INTO STOCK(ID, NAME, BUY, INVESTOR)\n",
    "VALUES\n",
    "    (1, 'ACB', 29.45, 'Nguyen'),\n",
    "    (2, 'VIC', 44.55, 'Nguyen'),\n",
    "    (3, 'GMD', 74.30, 'Nguyen'),\n",
    "    (4, 'ACB', 28.45, 'Vinh'),\n",
    "    (5, 'VIC', 40.55, 'Vinh'),\n",
    "    (6, 'GMD', 60.30, 'Vinh');\n",
    "\"\"\")\n",
    "\n",
    "connection.commit()\n"
   ]
  },
  {
   "cell_type": "code",
   "execution_count": 3,
   "metadata": {},
   "outputs": [
    {
     "name": "stdout",
     "output_type": "stream",
     "text": [
      "   TOTAL_BUY\n",
      "0      277.6\n"
     ]
    }
   ],
   "source": [
    "# Câu 1: Truy vấn tổng giá bán của bảng STOCK\n",
    "query = \"\"\"\n",
    "SELECT SUM(BUY) AS TOTAL_BUY\n",
    "FROM STOCK;\n",
    "\"\"\"\n",
    "\n",
    "data_sum_buy = pd.read_sql_query(query, connection)\n",
    "print(data_sum_buy)"
   ]
  },
  {
   "cell_type": "code",
   "execution_count": 5,
   "metadata": {},
   "outputs": [
    {
     "name": "stdout",
     "output_type": "stream",
     "text": [
      "  INVESTOR NAME  MAX_PRICE\n",
      "0   Nguyen  GMD       74.3\n",
      "1     Vinh  GMD       60.3\n"
     ]
    }
   ],
   "source": [
    "# Câu 2: Truy vấn mã cổ phiếu có giá mua lớn nhất theo nhà đầu tư\n",
    "query = \"\"\"\n",
    "SELECT INVESTOR, NAME, MAX(BUY) AS MAX_PRICE\n",
    "FROM STOCK\n",
    "GROUP BY INVESTOR;\n",
    "\"\"\"\n",
    "\n",
    "data_max_name = pd.read_sql_query(query, connection)\n",
    "print(data_max_name)"
   ]
  },
  {
   "cell_type": "code",
   "execution_count": null,
   "metadata": {},
   "outputs": [],
   "source": []
  }
 ],
 "metadata": {
  "kernelspec": {
   "display_name": ".env",
   "language": "python",
   "name": "python3"
  },
  "language_info": {
   "codemirror_mode": {
    "name": "ipython",
    "version": 3
   },
   "file_extension": ".py",
   "mimetype": "text/x-python",
   "name": "python",
   "nbconvert_exporter": "python",
   "pygments_lexer": "ipython3",
   "version": "3.11.5"
  }
 },
 "nbformat": 4,
 "nbformat_minor": 2
}
