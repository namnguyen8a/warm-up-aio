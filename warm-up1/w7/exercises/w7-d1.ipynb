{
 "cells": [
  {
   "cell_type": "markdown",
   "metadata": {},
   "source": [
    "# TẠO BẢNG PRODUCT"
   ]
  },
  {
   "cell_type": "code",
   "execution_count": 4,
   "metadata": {},
   "outputs": [],
   "source": [
    "import sqlite3\n",
    "\n",
    "connection = sqlite3.connect('../db/db.sqlite')\n",
    "cursor = connection.cursor()\n"
   ]
  },
  {
   "cell_type": "code",
   "execution_count": null,
   "metadata": {},
   "outputs": [],
   "source": [
    "# Tạo bảng PRODUCT:\n",
    "cursor.execute(\"\"\"\n",
    "CREATE TABLE PRODUCT (\n",
    "    ID INT PRIMARY KEY,\n",
    "    NAME TEXT NOT NULL,\n",
    "    PRICE INT NOT NULL              \n",
    ");\n",
    "\"\"\")\n",
    "\n",
    "# Insert data mới\n",
    "cursor.execute(\"\"\"\n",
    "INSERT INTO PRODUCT(ID, NAME, PRICE)\n",
    "VALUES\n",
    "    (1, 'iPhone 15', 18000000),\n",
    "    (2, 'Galaxy Z-Fold 5', 30000000);\n",
    "\"\"\")\n",
    "\n",
    "connection.commit()\n"
   ]
  },
  {
   "cell_type": "code",
   "execution_count": 5,
   "metadata": {},
   "outputs": [
    {
     "name": "stdout",
     "output_type": "stream",
     "text": [
      "   ID             NAME     PRICE\n",
      "0   1        iPhone 15  18000000\n",
      "1   2  Galaxy Z-Fold 5  30000000\n"
     ]
    }
   ],
   "source": [
    "import pandas as pd\n",
    "# Lấy tất cả data từ bảng PRODUCT\n",
    "data = pd.read_sql_query(\"SELECT * FROM PRODUCT\", connection)\n",
    "print(data)"
   ]
  },
  {
   "cell_type": "code",
   "execution_count": 6,
   "metadata": {},
   "outputs": [
    {
     "name": "stdout",
     "output_type": "stream",
     "text": [
      "   ID             NAME     PRICE\n",
      "0   1        iPhone 15  18000000\n",
      "1   2  Galaxy Z-Fold 5  50000000\n"
     ]
    }
   ],
   "source": [
    "# update PRICE của Galaxy\n",
    "cursor.execute(\"\"\"\n",
    "UPDATE PRODUCT\n",
    "SET PRICE = 50000000\n",
    "WHERE ID = 2;\n",
    "\"\"\")\n",
    "\n",
    "connection.commit()\n",
    "data = pd.read_sql_query(\"SELECT * FROM PRODUCT\", connection)\n",
    "print(data)"
   ]
  },
  {
   "cell_type": "code",
   "execution_count": 7,
   "metadata": {},
   "outputs": [
    {
     "name": "stdout",
     "output_type": "stream",
     "text": [
      "   ID             NAME     PRICE\n",
      "0   2  Galaxy Z-Fold 5  50000000\n"
     ]
    }
   ],
   "source": [
    "# Xóa iPhone 15\n",
    "cursor.execute(\"\"\"\n",
    "DELETE FROM PRODUCT \n",
    "WHERE ID = 1;\n",
    "\"\"\")\n",
    "\n",
    "connection.commit()\n",
    "data = pd.read_sql_query(\"SELECT * FROM PRODUCT\", connection)\n",
    "print(data)\n"
   ]
  },
  {
   "cell_type": "code",
   "execution_count": null,
   "metadata": {},
   "outputs": [],
   "source": []
  }
 ],
 "metadata": {
  "kernelspec": {
   "display_name": ".env",
   "language": "python",
   "name": "python3"
  },
  "language_info": {
   "codemirror_mode": {
    "name": "ipython",
    "version": 3
   },
   "file_extension": ".py",
   "mimetype": "text/x-python",
   "name": "python",
   "nbconvert_exporter": "python",
   "pygments_lexer": "ipython3",
   "version": "3.11.5"
  }
 },
 "nbformat": 4,
 "nbformat_minor": 2
}
