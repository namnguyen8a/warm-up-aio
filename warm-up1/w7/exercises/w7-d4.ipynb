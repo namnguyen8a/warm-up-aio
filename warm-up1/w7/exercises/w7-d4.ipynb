{
 "cells": [
  {
   "cell_type": "markdown",
   "metadata": {},
   "source": [
    "# Mini Project: Hệ thống quản lý bán hàng với MySQL"
   ]
  },
  {
   "cell_type": "code",
   "execution_count": 15,
   "metadata": {},
   "outputs": [],
   "source": [
    "import pymysql\n",
    "import os\n",
    "from dotenv import load_dotenv\n",
    "\n",
    "# Load environment variables from .credential file\n",
    "load_dotenv(\"../.credential\")\n",
    "\n",
    "# Get credentials from environment variables\n",
    "conn = pymysql.connect(\n",
    "    host=os.getenv(\"DB_HOST\"),\n",
    "    user=os.getenv(\"DB_USER\"),\n",
    "    password=os.getenv(\"DB_PASSWORD\")\n",
    ")\n",
    "cursor = conn.cursor()\n"
   ]
  },
  {
   "cell_type": "code",
   "execution_count": null,
   "metadata": {},
   "outputs": [],
   "source": [
    "cursor.execute(\"CREATE DATABASE IF NOT EXISTS SalesManageDB;\")\n",
    "cursor.execute(\"USE SalesManageDB;\")\n",
    "\n",
    "\n",
    "# Tạo bảng Products\n",
    "cursor.execute(\"\"\"\n",
    "CREATE TABLE IF NOT EXISTS PRODUCTS (\n",
    "    ProductID INT PRIMARY KEY, \n",
    "    ProductName VARCHAR(100) NOT NULL,\n",
    "    Category VARCHAR(50) NOT NULL,\n",
    "    Price DECIMAL(10,2) NOT NULL,\n",
    "    StockQuantity INT NOT NULL          \n",
    ");\n",
    "\"\"\")\n",
    "\n",
    "# Tạo bảng CUSTOMERS\n",
    "cursor.execute(\"\"\"\n",
    "CREATE TABLE IF NOT EXISTS CUSTOMERS (\n",
    "    CustomerID INT PRIMARY KEY,\n",
    "    FullName VARCHAR(100) NOT NULL,\n",
    "    PhoneNumber VARCHAR(15) UNIQUE NOT NULL,        \n",
    "    Email VARCHAR(100) UNIQUE NOT NULL\n",
    ");\n",
    "\"\"\")\n",
    "\n",
    "# Tạo bảng SALESPERSONS\n",
    "cursor.execute(\"\"\"\n",
    "CREATE TABLE IF NOT EXISTS SALESPERSONS (\n",
    "    SalespersonID INT PRIMARY KEY,\n",
    "    FullName VARCHAR(100) NOT NULL,\n",
    "    PhoneNumber VARCHAR(15) UNIQUE NOT NULL        \n",
    ");\n",
    "\"\"\")\n",
    "\n",
    "# Tạo bảng ORDERS\n",
    "cursor.execute(\"\"\"\n",
    "CREATE TABLE IF NOT EXISTS ORDERS (\n",
    "    OrderID INT PRIMARY KEY,\n",
    "    CustomerID INT NOT NULL,\n",
    "    SalespersonID INT NOT NULL,\n",
    "    OrderDate DATE NOT NULL,\n",
    "    TotalAmount DECIMAL(10, 2) NOT NULL,\n",
    "    FOREIGN KEY (CustomerID) REFERENCES CUSTOMERS(CustomerID) ON DELETE CASCADE,\n",
    "    FOREIGN KEY (SalespersonID) REFERENCES SALESPERSONS(SalespersonID) ON DELETE CASCADE\n",
    "\n",
    ");\n",
    "\"\"\")\n",
    "\n",
    "# Tạo bảng ORDERDETAILS\n",
    "cursor.execute(\"\"\"\n",
    "CREATE TABLE IF NOT EXISTS ORDERDETAILS (\n",
    "    OrderDetailID INT PRIMARY KEY,\n",
    "    OrderID INT NOT NULL,\n",
    "    ProductID INT NOT NULL,\n",
    "    Quantity INT NOT NULL,\n",
    "    Subtotal DECIMAL(10, 2) NOT NULL,\n",
    "    FOREIGN KEY (OrderID) REFERENCES ORDERS(OrderID) ON DELETE CASCADE,\n",
    "    FOREIGN KEY (ProductID) REFERENCES PRODUCTS(ProductID) ON DELETE CASCADE\n",
    "\n",
    ");\n",
    "\"\"\")\n",
    "\n",
    "# Chèn dữ liệu vào bảng PRODUCTS\n",
    "cursor.execute(\"\"\"\n",
    "INSERT INTO PRODUCTS (ProductID, ProductName, Category, Price, StockQuantity) VALUES\n",
    "(1, 'Laptop Dell XPS', 'Laptop', 25000000, 10),\n",
    "(2, 'iPhone 14', 'Điện thoại', 22000000, 15),\n",
    "(3, 'Tai nghe Sony', 'Phụ kiện', 3000000, 20),\n",
    "(4, 'Bàn phím Cd', 'Phụ kiện', 1500000, 50),\n",
    "(5, 'MacBook Air M2', 'Laptop', 28000000, 8);\n",
    "\"\"\")\n",
    "\n",
    "# Chèn dữ liệu vào bảng CUSTOMERS\n",
    "cursor.execute(\"\"\"\n",
    "INSERT INTO CUSTOMERS (CustomerID, FullName, PhoneNumber, Email) VALUES\n",
    "(1, 'Nguyễn Văn A', '0987654321', 'a@example.com'),\n",
    "(2, 'Trần Thị B', '0976543210', 'b@example.com'),\n",
    "(3, 'Lê Văn C', '0965432109', 'c@example.com'),\n",
    "(4, 'Phạm Thị D', '0945678123', 'd@example.com'),\n",
    "(5, 'Bùi Văn E', '0936789123', 'e@example.com');\n",
    "\"\"\")\n",
    "\n",
    "# Chèn dữ liệu vào bảng SALESPERSONS\n",
    "cursor.execute(\"\"\"\n",
    "INSERT INTO SALESPERSONS (SalespersonID, FullName, PhoneNumber) VALUES\n",
    "(1, 'Lê Hoàng Nam', '0934567890'),\n",
    "(2, 'Trần Quốc Bảo', '0945678123'),\n",
    "(3, 'Nguyễn Minh Hà', '0956789123');\n",
    "\"\"\")\n",
    "\n",
    "# Chèn dữ liệu vào bảng ORDERS\n",
    "cursor.execute(\"\"\"\n",
    "INSERT INTO ORDERS (OrderID, CustomerID, SalespersonID, OrderDate, TotalAmount) VALUES\n",
    "(1, 1, 1, '2024-03-10', 25000000),\n",
    "(2, 2, 2, '2024-03-11', 3000000),\n",
    "(3, 3, 2, '2024-03-12', 22000000);\n",
    "\"\"\")\n",
    "\n",
    "# Chèn dữ liệu vào bảng ORDERDETAILS\n",
    "cursor.execute(\"\"\"\n",
    "INSERT INTO ORDERDETAILS (OrderDetailID, OrderID, ProductID, Quantity, Subtotal) VALUES\n",
    "(1, 1, 1, 1, 25000000),\n",
    "(2, 2, 3, 1, 3000000),\n",
    "(3, 3, 2, 1, 22000000);\n",
    "\"\"\")\n",
    "\n",
    "# Commit thay đổi vào cơ sở dữ liệu\n",
    "conn.commit()\n"
   ]
  },
  {
   "cell_type": "code",
   "execution_count": 17,
   "metadata": {},
   "outputs": [
    {
     "name": "stdout",
     "output_type": "stream",
     "text": [
      "(('Laptop Dell XPS', 10), ('iPhone 14', 15), ('Tai nghe Sony', 20), ('Bàn phím Cd', 50), ('MacBook Air M2', 8))\n"
     ]
    }
   ],
   "source": [
    "# Truy vấn danh sách tất cả sản phẩm còn hàng\n",
    "cursor.execute(\"\"\"\n",
    "SELECT ProductName, StockQuantity FROM PRODUCTS WHERE StockQuantity > 0;\n",
    "\"\"\")\n",
    "\n",
    "data = cursor.fetchall()\n",
    "print(data)"
   ]
  },
  {
   "cell_type": "code",
   "execution_count": 18,
   "metadata": {},
   "outputs": [
    {
     "name": "stdout",
     "output_type": "stream",
     "text": [
      "((1, 1, 1, datetime.date(2024, 3, 10), Decimal('25000000.00')),)\n"
     ]
    }
   ],
   "source": [
    "# Truy vấn danh sách đơn hàng của khách hàng có CustomerID = 1\n",
    "cursor.execute(\"\"\"\n",
    "SELECT * from orders WHERE 1 = 1 and customerid = 1;\n",
    "\"\"\")\n",
    "\n",
    "data = cursor.fetchall()\n",
    "print(data)"
   ]
  },
  {
   "cell_type": "code",
   "execution_count": 19,
   "metadata": {},
   "outputs": [
    {
     "name": "stdout",
     "output_type": "stream",
     "text": [
      "(('Lê Hoàng Nam', 1, Decimal('25000000.00')), ('Trần Quốc Bảo', 2, Decimal('25000000.00')))\n"
     ]
    }
   ],
   "source": [
    "# Truy vấn tổng doanh số của từng nhân viên\n",
    "cursor.execute(\"\"\"\n",
    "SELECT salespersons.fullname, salespersons.salespersonid, sum(orders.totalamount) \n",
    "               as sales_person_revenue from salespersons \n",
    "               inner join orders on salespersons.salespersonid = orders.salespersonid group by salespersonid;\n",
    "\"\"\")\n",
    "\n",
    "data = cursor.fetchall()\n",
    "print(data)"
   ]
  },
  {
   "cell_type": "code",
   "execution_count": 21,
   "metadata": {},
   "outputs": [
    {
     "name": "stdout",
     "output_type": "stream",
     "text": [
      "(('Lê Hoàng Nam', 1, Decimal('25000000.00')),)\n"
     ]
    }
   ],
   "source": [
    "# Nhân viên bán hàng có tổng doanh số cao nhất\n",
    "cursor.execute(\"\"\"\n",
    "SELECT salespersons.fullname, salespersons.salespersonid, sum(orders.totalamount) \n",
    "               as sales_person_revenue from salespersons \n",
    "               inner join orders on salespersons.salespersonid = orders.salespersonid group by salespersonid \n",
    "               order by sales_person_revenue desc limit 1;\n",
    "\"\"\")\n",
    "\n",
    "data = cursor.fetchall()\n",
    "print(data)"
   ]
  },
  {
   "cell_type": "code",
   "execution_count": 22,
   "metadata": {},
   "outputs": [
    {
     "name": "stdout",
     "output_type": "stream",
     "text": [
      "((1, 'Laptop Dell XPS', Decimal('25000000.00')), (3, 'Tai nghe Sony', Decimal('3000000.00')), (2, 'iPhone 14', Decimal('22000000.00')))\n"
     ]
    }
   ],
   "source": [
    "# Tổng doanh thu của từng mục sản phẩm\n",
    "cursor.execute(\"\"\"\n",
    "select products.productid, products.productname, orderdetails.quantity*orderdetails.subtotal \n",
    "               as product_revenue from products \n",
    "               inner join orderdetails \n",
    "               on products.productid = orderdetails.productid;\n",
    "\"\"\")\n",
    "\n",
    "data = cursor.fetchall()\n",
    "print(data)"
   ]
  },
  {
   "cell_type": "code",
   "execution_count": 23,
   "metadata": {},
   "outputs": [
    {
     "name": "stdout",
     "output_type": "stream",
     "text": [
      "((1, 'Nguyễn Văn A', Decimal('25000000.00')), (3, 'Lê Văn C', Decimal('22000000.00')), (2, 'Trần Thị B', Decimal('3000000.00')))\n"
     ]
    }
   ],
   "source": [
    "# Top 3 khách hàng có tổng chi tiêu cao nhất\n",
    "cursor.execute(\"\"\"\n",
    "select customers.customerid, customers.fullname, orders.totalamount \n",
    "               as customer_spend \n",
    "               from customers \n",
    "               inner join orders on customers.customerid = orders.customerid \n",
    "               order by customer_spend desc \n",
    "               limit 3;\n",
    "\"\"\")\n",
    "\n",
    "data = cursor.fetchall()\n",
    "print(data)"
   ]
  },
  {
   "cell_type": "code",
   "execution_count": 24,
   "metadata": {},
   "outputs": [
    {
     "name": "stdout",
     "output_type": "stream",
     "text": [
      "((datetime.date(2024, 3, 10), Decimal('25000000.00')),)\n"
     ]
    }
   ],
   "source": [
    "# Tìm tháng có doanh thu cao nhất\n",
    "cursor.execute(\"\"\"\n",
    "SELECT orderdate, totalamount as month_revenue from orders order by month_revenue desc limit 1;\n",
    "\"\"\")\n",
    "\n",
    "data = cursor.fetchall()\n",
    "print(data)"
   ]
  },
  {
   "cell_type": "code",
   "execution_count": 25,
   "metadata": {},
   "outputs": [
    {
     "name": "stdout",
     "output_type": "stream",
     "text": [
      "((1, 'Laptop Dell XPS', 1),)\n"
     ]
    }
   ],
   "source": [
    "# Tìm sản phẩm bán chạy nhất theo số lượng\n",
    "cursor.execute(\"\"\"\n",
    "select products.productid, products.productname, orderdetails.quantity \n",
    "               from products \n",
    "               inner join orderdetails on products.productid = orderdetails.productid \n",
    "               order by quantity desc \n",
    "               limit 1;\n",
    "\"\"\")\n",
    "\n",
    "data = cursor.fetchall()\n",
    "print(data)"
   ]
  },
  {
   "cell_type": "code",
   "execution_count": 26,
   "metadata": {},
   "outputs": [],
   "source": [
    "# Close Connection\n",
    "cursor.close()\n",
    "conn.close()"
   ]
  }
 ],
 "metadata": {
  "kernelspec": {
   "display_name": ".env",
   "language": "python",
   "name": "python3"
  },
  "language_info": {
   "codemirror_mode": {
    "name": "ipython",
    "version": 3
   },
   "file_extension": ".py",
   "mimetype": "text/x-python",
   "name": "python",
   "nbconvert_exporter": "python",
   "pygments_lexer": "ipython3",
   "version": "3.11.5"
  }
 },
 "nbformat": 4,
 "nbformat_minor": 2
}
