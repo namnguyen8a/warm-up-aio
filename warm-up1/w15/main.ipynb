{
 "cells": [
  {
   "cell_type": "markdown",
   "id": "c759660c",
   "metadata": {},
   "source": [
    "# Non-Councurrency"
   ]
  },
  {
   "cell_type": "code",
   "execution_count": null,
   "id": "2e4cdede",
   "metadata": {},
   "outputs": [
    {
     "name": "stdout",
     "output_type": "stream",
     "text": [
      "Hi\n",
      "Bye\n",
      "Hi\n",
      "Bye\n",
      "Total time taken: 6.00 seconds\n"
     ]
    }
   ],
   "source": [
    "import time\n",
    "\n",
    "def fetch_data():\n",
    "    print(\"Hi\")\n",
    "    time.sleep(3)\n",
    "    print(\"Bye\")\n",
    "\n",
    "def main():\n",
    "    start_time = time.perf_counter()    # Start the timer\n",
    "\n",
    "    # Execute tasks sequentially\n",
    "    for _ in range(2):\n",
    "        fetch_data()\n",
    "    \n",
    "    end_time = time.perf_counter()      # End the timer\n",
    "    print(f\"Total time taken: {end_time - start_time:.2f} seconds\")\n",
    "\n",
    "main()"
   ]
  },
  {
   "cell_type": "markdown",
   "id": "cfba043c",
   "metadata": {},
   "source": [
    "- The program runs sequentially and takes 6 seconds to complete"
   ]
  },
  {
   "cell_type": "markdown",
   "id": "6b4ee7de",
   "metadata": {},
   "source": [
    "# Non-Councurrency (Threading)"
   ]
  },
  {
   "cell_type": "code",
   "execution_count": 3,
   "id": "e0f53a09",
   "metadata": {},
   "outputs": [
    {
     "name": "stdout",
     "output_type": "stream",
     "text": [
      "Start fetching data on thread: 5952\n",
      "Finished fetching data on thread: 5952\n",
      "Start fetching data on thread: 5952\n",
      "Finished fetching data on thread: 5952\n",
      "Total time taken: 6.00 seconds\n"
     ]
    }
   ],
   "source": [
    "import threading\n",
    "import time\n",
    "\n",
    "def fetch_data():\n",
    "    print(f\"Start fetching data on thread: {threading.get_ident()}\")\n",
    "    time.sleep(3)\n",
    "    print(f\"Finished fetching data on thread: {threading.get_ident()}\")\n",
    "\n",
    "def main():\n",
    "    start_time = time.perf_counter()    # Start the timer\n",
    "\n",
    "    # Execute tasks sequentially\n",
    "    for _ in range(2):\n",
    "        fetch_data()\n",
    "    \n",
    "    end_time = time.perf_counter()      # End the timer\n",
    "    print(f\"Total time taken: {end_time - start_time:.2f} seconds\")\n",
    "\n",
    "main()"
   ]
  },
  {
   "cell_type": "markdown",
   "id": "4cd394f2",
   "metadata": {},
   "source": [
    "- it still running sequentially, this version just import thread but not actually create different thread to run so it still *non-concurrency* "
   ]
  },
  {
   "cell_type": "markdown",
   "id": "0e33c046",
   "metadata": {},
   "source": [
    "# Concurrency (Threading)"
   ]
  },
  {
   "cell_type": "code",
   "execution_count": 4,
   "id": "9fe9f539",
   "metadata": {},
   "outputs": [
    {
     "name": "stdout",
     "output_type": "stream",
     "text": [
      "Start fetching data on thread: 13472\n",
      "Start fetching data on thread: 3492\n",
      "Finished fetching data on thread: 3492\n",
      "Finished fetching data on thread: 13472\n",
      "Total time taken: 3.03 seconds\n"
     ]
    }
   ],
   "source": [
    "import threading\n",
    "import time\n",
    "\n",
    "def fetch_data():\n",
    "    print(f\"Start fetching data on thread: {threading.get_ident()}\")\n",
    "    time.sleep(3)\n",
    "    print(f\"Finished fetching data on thread: {threading.get_ident()}\")\n",
    "\n",
    "def main():\n",
    "    start_time = time.perf_counter()\n",
    "\n",
    "    threads = []\n",
    "    for _ in range(2):\n",
    "        t = threading.Thread(target=fetch_data)\n",
    "        t.start()\n",
    "        threads.append(t)\n",
    "\n",
    "    for t in threads:\n",
    "        t.join()  # Wait for all threads to finish\n",
    "\n",
    "    end_time = time.perf_counter()\n",
    "    print(f\"Total time taken: {end_time - start_time:.2f} seconds\")\n",
    "\n",
    "main()\n"
   ]
  },
  {
   "cell_type": "markdown",
   "id": "12bee20a",
   "metadata": {},
   "source": [
    "- Now it actually running concurrency, because i actually create different thread to run the tasks"
   ]
  },
  {
   "cell_type": "markdown",
   "id": "72ad1768",
   "metadata": {},
   "source": [
    "# Concurrency (Async/await)"
   ]
  },
  {
   "cell_type": "code",
   "execution_count": null,
   "id": "f5bdc8d1",
   "metadata": {},
   "outputs": [
    {
     "name": "stdout",
     "output_type": "stream",
     "text": [
      "Hi\n",
      "Hi\n",
      "Bye\n",
      "Bye\n",
      "TOtal time taken: 2.99 seconds\n"
     ]
    }
   ],
   "source": [
    "import asyncio\n",
    "import time\n",
    "\n",
    "async def fetch_data():\n",
    "    print(\"Hi\")\n",
    "    await asyncio.sleep(3)\n",
    "    print(\"Bye\")\n",
    "\n",
    "async def main():\n",
    "    start_time = time.perf_counter()    # Start the timer\n",
    "\n",
    "    # Create a list of tasks\n",
    "    tasks = [fetch_data() for _ in range(2)]\n",
    "\n",
    "    # Run tasks concurrently\n",
    "    await asyncio.gather(*tasks)\n",
    "\n",
    "    end_time = time.perf_counter()      # End the timer\n",
    "    print(f\"TOtal time taken: {end_time - start_time:.2f} seconds\")\n",
    "\n",
    "# asyncio.run(main()) -> this will cause error: RuntimeError: asyncio.run() cannot be called from a running event loop\n",
    "# because The notebook kernel is already running an event loop — and asyncio.run() tries to start a new one, which causes the conflict.\n",
    "\n",
    "await main() # this only works in environments that support top-level await (Jupyter, VSCode Notebooks, etc)."
   ]
  },
  {
   "cell_type": "markdown",
   "id": "33ab25d6",
   "metadata": {},
   "source": [
    "- `Event Loop` là trái tim của `asyncio`\n",
    "    - Nó là một `vòng lặp` chạy liên tục để kiểm tra và thực hiện các `tác vụ bất đồng bộ (coroutines)` đã sẵn sàng\n",
    "    - Khi một tác vụ đang chờ (ví dụ: `await asyncio.sleep(3)`), event loop có thể chuyển sang xử lý tác vụ khác\n",
    "    - Đây là cách python mô phỏng `concurrency` mà không cần thread hay process riêng biệt\n",
    "\n",
    "- `await` dùng trong hàm `async def` để:\n",
    "    - `tạm dừng` quá trình chạy hàm đó\n",
    "    - `nhường quyền điều khiển` lại cho `event loop`\n",
    "    - để event loop có thể xử lý công việc khác trong thời gian chờ\n",
    "    - `await asyncio.sleep(3)`:\n",
    "        - không chặn (blocking) chương trình 3 giây\n",
    "        - mà nhường chỗ cho tác vụ khác chạy trong thời gian đó\n",
    "        - chỉ dùng được trong hàm `async def`\n",
    "\n",
    "- `asyncio.run()` là cách `chính thống` để chạy một chương trình bất đồng bộ từ đầu:\n",
    "    - nó sẽ tự tạo 1 event loop mới\n",
    "    - chạy main() `coroutine`\n",
    "    - và đóng lại event loop khi hoàn thành\n",
    "    - chỉ dùng được trong môi trường chưa có event loop đang chạy\n",
    "\n",
    "- Khi chạy `asyncio.run()` trong `.ipynb` file lỗi vì:\n",
    "    - `Event loop đã chạy sẵn` do notebook cần chạy bất đồng bộ (jupyter dùng Tornado - một async web framework)\n",
    "    - Nếu đang gọi `asyncio.run(main())`, lúc này đang cố tạo event loop mới, nhưng python không cho phép -> lỗi\n",
    "    - chạy trực tiếp `await main()` trong `.ipynb file`:\n",
    "        - khi chạy một `cell`, jupyter tự bao nó trong một `async def wrapper()` phía sau hậu trường\n",
    "        - nhờ đó, có thể dùng `await` trực tiếp như thể trong 1 `async def` "
   ]
  },
  {
   "cell_type": "markdown",
   "id": "cbddd247",
   "metadata": {},
   "source": [
    "# Refs:\n",
    "- https://drive.google.com/drive/folders/1PQqHoLs6OGZxuDlyMTIfTZ5vXRjQkVPf "
   ]
  },
  {
   "cell_type": "markdown",
   "id": "12a879ae",
   "metadata": {},
   "source": []
  }
 ],
 "metadata": {
  "kernelspec": {
   "display_name": ".env",
   "language": "python",
   "name": "python3"
  },
  "language_info": {
   "codemirror_mode": {
    "name": "ipython",
    "version": 3
   },
   "file_extension": ".py",
   "mimetype": "text/x-python",
   "name": "python",
   "nbconvert_exporter": "python",
   "pygments_lexer": "ipython3",
   "version": "3.11.5"
  }
 },
 "nbformat": 4,
 "nbformat_minor": 5
}
