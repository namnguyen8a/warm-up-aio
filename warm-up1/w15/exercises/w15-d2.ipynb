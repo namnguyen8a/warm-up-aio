{
 "cells": [
  {
   "cell_type": "markdown",
   "id": "affb55a9",
   "metadata": {},
   "source": [
    "# Lập trình Python với MySQL cơ bản\n"
   ]
  },
  {
   "cell_type": "markdown",
   "id": "13447c8d",
   "metadata": {},
   "source": [
    "## Bài 1. Kết nối MySQL: Viết chương trình Python kết nối đến cơ sở dữ liệu mydb, với tài khoản root và mật khẩu 123456."
   ]
  },
  {
   "cell_type": "code",
   "execution_count": 22,
   "id": "ba84181e",
   "metadata": {},
   "outputs": [],
   "source": [
    "import os\n",
    "from dotenv import load_dotenv\n",
    "import pymysql\n",
    "\n",
    "load_dotenv(\".cre-env\")\n",
    "\n",
    "conn = pymysql.connect(\n",
    "    host=os.getenv(\"DB_HOST\"),\n",
    "    user=os.getenv(\"DB_USER\"),\n",
    "    password=os.getenv(\"DB_PASSWORD\"),\n",
    "    database=\"w15db\"\n",
    ")\n",
    "\n",
    "cursor = conn.cursor()"
   ]
  },
  {
   "cell_type": "markdown",
   "id": "594f2469",
   "metadata": {},
   "source": [
    "## Bài 2. Tạo bảng sinh viên: Tạo bảng students với các cột:\n",
    "- id: INT, khóa chính, tự tăng\n",
    "- name: VARCHAR(100)\n",
    "- age: INT\n",
    "- email: VARCHAR(100)\n"
   ]
  },
  {
   "cell_type": "code",
   "execution_count": 13,
   "id": "4315b93f",
   "metadata": {},
   "outputs": [
    {
     "data": {
      "text/plain": [
       "0"
      ]
     },
     "execution_count": 13,
     "metadata": {},
     "output_type": "execute_result"
    }
   ],
   "source": [
    "# Tạo bảng\n",
    "cursor.execute(\"\"\"\n",
    "CREATE TABLE IF NOT EXISTS students (\n",
    "    id INT AUTO_INCREMENT PRIMARY KEY,\n",
    "    name VARCHAR(100),\n",
    "    age INT,\n",
    "    email VARCHAR(100)\n",
    ")\n",
    "\"\"\")"
   ]
  },
  {
   "cell_type": "markdown",
   "id": "167b9e88",
   "metadata": {},
   "source": [
    "## Bài 3. Thêm dữ liệu mẫu: Viết chương trình thêm ít nhất 3 sinh viên vào bảng."
   ]
  },
  {
   "cell_type": "code",
   "execution_count": 14,
   "id": "d5f1dc49",
   "metadata": {},
   "outputs": [],
   "source": [
    "# Thêm dữ liệu\n",
    "sql = \"INSERT INTO students (name, age, email) VALUES (%s, %s, %s)\"\n",
    "students = [\n",
    "    (\"Nguyen Van A\", 20, \"a@gmail.com\"),          \n",
    "    (\"Nguyen Van B\", 22, \"b@gmail.com\"),          \n",
    "    (\"Tran Thi Anh\", 19, \"anh@gmail.com\"),        \n",
    "    (\"Le Hoang Minh\", 18, \"minh@gmail.com\"),      \n",
    "    (\"Pham Thi Linh\", 21, \"linh@gmail.com\"),      \n",
    "    (\"Do Van Cuong\", 25, \"cuong25@gmail.com\"),    \n",
    "    (\"Nguyen Van Tien\", 30, \"tien30@gmail.com\")   \n",
    "]\n",
    "\n",
    "for val in students:\n",
    "    cursor.execute(sql, val)\n",
    "\n",
    "conn.commit()"
   ]
  },
  {
   "cell_type": "markdown",
   "id": "1badc89a",
   "metadata": {},
   "source": [
    "## Bài 4. Truy vấn dữ liệu: In ra toàn bộ danh sách sinh viên có tuổi từ 18 đến 22."
   ]
  },
  {
   "cell_type": "code",
   "execution_count": 15,
   "id": "7cc5e4c2",
   "metadata": {},
   "outputs": [
    {
     "name": "stdout",
     "output_type": "stream",
     "text": [
      "(2, 'Nguyen Van A', 20, 'a@gmail.com')\n",
      "(3, 'Nguyen Van B', 22, 'b@gmail.com')\n",
      "(4, 'Tran Thi Anh', 19, 'anh@gmail.com')\n",
      "(5, 'Le Hoang Minh', 18, 'minh@gmail.com')\n",
      "(6, 'Pham Thi Linh', 21, 'linh@gmail.com')\n"
     ]
    }
   ],
   "source": [
    "# Truy vấn dữ liệu\n",
    "cursor.execute(\"SELECT * FROM students WHERE age > 17 AND age < 23;\")\n",
    "result = cursor.fetchall()\n",
    "\n",
    "for row in result:\n",
    "    print(row)"
   ]
  },
  {
   "cell_type": "markdown",
   "id": "bbee0b22",
   "metadata": {},
   "source": [
    "## Bài 5. Cập nhật dữ liệu: Cập nhật email của sinh viên tên “Nguyen Van B” thành “nguyenb@gmail.com”."
   ]
  },
  {
   "cell_type": "code",
   "execution_count": 16,
   "id": "192d7f62",
   "metadata": {},
   "outputs": [],
   "source": [
    "cursor.execute(\"UPDATE students SET email = 'nguyenb@gmail.com' WHERE name = 'Nguyen Van B'\")\n",
    "conn.commit()"
   ]
  },
  {
   "cell_type": "markdown",
   "id": "e12152bb",
   "metadata": {},
   "source": [
    "## Bài 6. Xóa dữ liệu: Xóa toàn bộ sinh viên có tuổi lớn hơn 25."
   ]
  },
  {
   "cell_type": "code",
   "execution_count": 17,
   "id": "0c897140",
   "metadata": {},
   "outputs": [],
   "source": [
    "cursor.execute(\"DELETE FROM students WHERE age > 25\")\n",
    "conn.commit()"
   ]
  },
  {
   "cell_type": "markdown",
   "id": "e1e6ac8c",
   "metadata": {},
   "source": [
    "## Bài 7. Tìm kiếm nâng cao: Tìm tất cả sinh viên có tên chứa từ khóa “Anh”."
   ]
  },
  {
   "cell_type": "code",
   "execution_count": 18,
   "id": "982cdd60",
   "metadata": {},
   "outputs": [
    {
     "name": "stdout",
     "output_type": "stream",
     "text": [
      "(4, 'Tran Thi Anh', 19, 'anh@gmail.com')\n"
     ]
    }
   ],
   "source": [
    "cursor.execute(\"SELECT * FROM students WHERE name LIKE '%anh%'\")\n",
    "result = cursor.fetchall()\n",
    "\n",
    "for row in result:\n",
    "    print(row)"
   ]
  },
  {
   "cell_type": "markdown",
   "id": "838013c7",
   "metadata": {},
   "source": [
    "## Bài 8. Tổng hợp nâng cao (Tuỳ chọn): Đếm số lượng sinh viên theo từng độ tuổi."
   ]
  },
  {
   "cell_type": "code",
   "execution_count": 23,
   "id": "bf2dd3c8",
   "metadata": {},
   "outputs": [
    {
     "name": "stdout",
     "output_type": "stream",
     "text": [
      "(20, 1)\n",
      "(22, 1)\n",
      "(19, 1)\n",
      "(18, 1)\n",
      "(21, 1)\n",
      "(25, 1)\n"
     ]
    }
   ],
   "source": [
    "cursor.execute(\"SELECT age, count(*) FROM students GROUP BY age;\")\n",
    "result = cursor.fetchall()\n",
    "\n",
    "for row in result:\n",
    "    print(row)"
   ]
  },
  {
   "cell_type": "code",
   "execution_count": 24,
   "id": "a3070ef8",
   "metadata": {},
   "outputs": [],
   "source": [
    "# Close Connection\n",
    "cursor.close()\n",
    "conn.close()"
   ]
  }
 ],
 "metadata": {
  "kernelspec": {
   "display_name": ".env",
   "language": "python",
   "name": "python3"
  },
  "language_info": {
   "codemirror_mode": {
    "name": "ipython",
    "version": 3
   },
   "file_extension": ".py",
   "mimetype": "text/x-python",
   "name": "python",
   "nbconvert_exporter": "python",
   "pygments_lexer": "ipython3",
   "version": "3.11.5"
  }
 },
 "nbformat": 4,
 "nbformat_minor": 5
}
