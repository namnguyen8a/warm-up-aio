{
 "cells": [
  {
   "cell_type": "code",
   "execution_count": 2,
   "metadata": {},
   "outputs": [],
   "source": [
    "import numpy as np"
   ]
  },
  {
   "cell_type": "code",
   "execution_count": 5,
   "metadata": {},
   "outputs": [
    {
     "name": "stdout",
     "output_type": "stream",
     "text": [
      "[1 2 3]\n",
      "[0. 0. 0. 0.]\n",
      "[1 3]\n",
      "[0.22709166 0.55338859]\n",
      "[4.9e-324 9.9e-324 1.5e-323]\n"
     ]
    }
   ],
   "source": [
    "arr = np.array([1, 2, 3])\n",
    "print(arr)\n",
    "\n",
    "arr = np.zeros(4)\n",
    "print(arr)\n",
    "\n",
    "arr = np.arange(1, 4, 2)\n",
    "print(arr)\n",
    "\n",
    "arr = np.random.rand(2)\n",
    "print(arr)\n",
    "\n",
    "arr = np.empty(3)\n",
    "print(arr)"
   ]
  },
  {
   "cell_type": "code",
   "execution_count": 6,
   "metadata": {},
   "outputs": [
    {
     "name": "stdout",
     "output_type": "stream",
     "text": [
      "[[1. 2. 3.]\n",
      " [1. 2. 3.]]\n",
      "[[0. 0. 0. 0.]\n",
      " [0. 0. 0. 0.]]\n",
      "[[2. 2. 2. 2.]]\n"
     ]
    }
   ],
   "source": [
    "arr = np.array([[1, 2, 3], [1, 2, 3]], dtype=float)\n",
    "print(arr)\n",
    "\n",
    "arr = np.zeros((2, 4))\n",
    "print(arr)\n",
    "\n",
    "arr = np.full((1, 4), 2.0)\n",
    "print(arr)"
   ]
  },
  {
   "cell_type": "code",
   "execution_count": 14,
   "metadata": {},
   "outputs": [
    {
     "name": "stdout",
     "output_type": "stream",
     "text": [
      "[[1. 2. 3. 4.]\n",
      " [5. 6. 7. 8.]]\n",
      "2.0\n",
      "6.0\n",
      "[1. 3.]\n",
      "[1.]\n",
      "[[2. 3.]\n",
      " [6. 7.]]\n"
     ]
    }
   ],
   "source": [
    "arr = np.array([\n",
    "    [1.0, 2.0, 3.0, 4.0],\n",
    "    [5.0, 6.0, 7.0, 8.0]\n",
    "])\n",
    "\n",
    "print(arr)\n",
    "print(arr[0][1])\n",
    "print(arr[1][1])\n",
    "print(arr[0][0::2])\n",
    "print(arr[0][0:1])\n",
    "print(arr[0::,1:3])"
   ]
  },
  {
   "cell_type": "code",
   "execution_count": null,
   "metadata": {},
   "outputs": [
    {
     "name": "stdout",
     "output_type": "stream",
     "text": [
      "[['Odd' 'Even' 'Odd' 'Even']\n",
      " ['Odd' 'Even' 'Odd' 'Even']]\n",
      "[[ 1.  2.  3.  4.]\n",
      " [10. 11. 12. 13.]]\n",
      "[[ 1.  2.  3.  4.]\n",
      " [ 5. -1. -1. -1.]]\n",
      "1\n"
     ]
    }
   ],
   "source": [
    "# np.where(condition, x, y) if condition true -> x else -> y\n",
    "arr = np.array([\n",
    "    [1.0, 2.0, 3.0, 4.0],\n",
    "    [5.0, 6.0, 7.0, 8.0]\n",
    "])\n",
    "\n",
    "print(np.where(arr %2 == 0, \"Even\", \"Odd\"))\n",
    "print(np.where(arr < 5, arr, arr+5))\n",
    "print(np.where(arr > 5, -1, arr))"
   ]
  },
  {
   "cell_type": "code",
   "execution_count": 29,
   "metadata": {},
   "outputs": [
    {
     "name": "stdout",
     "output_type": "stream",
     "text": [
      "[6 7 1 9 2]\n"
     ]
    }
   ],
   "source": [
    "a_data = np.array([6, 5, 7, 1, 9, 2])\n",
    "deleted_index = np.where(a_data == 5)\n",
    "a_data = np.delete(a_data, deleted_index)\n",
    "print(a_data)"
   ]
  },
  {
   "cell_type": "code",
   "execution_count": null,
   "metadata": {},
   "outputs": [
    {
     "name": "stdout",
     "output_type": "stream",
     "text": [
      "[6 1 9 2]\n",
      "0\n"
     ]
    }
   ],
   "source": [
    "a_data = np.array([6, 5, 7, 1, 9, 2])\n",
    "# Xóa phần tử thứ 1 và 2\n",
    "a_data = np.concatenate((a_data[:1], a_data[3:]))\n",
    "print(a_data)"
   ]
  },
  {
   "cell_type": "code",
   "execution_count": 38,
   "metadata": {},
   "outputs": [
    {
     "name": "stdout",
     "output_type": "stream",
     "text": [
      "3\n",
      "1\n",
      "1\n"
     ]
    }
   ],
   "source": [
    "a_data = np.array([6, 5, 7, 1, 9, 2])\n",
    "res = np.where(a_data==1)[0][0]\n",
    "print(res)\n",
    "count1 = np.count_nonzero(a_data==7)\n",
    "print(count1)\n",
    "count2 = np.sum(a_data==7)\n",
    "print(count2)"
   ]
  },
  {
   "cell_type": "code",
   "execution_count": 40,
   "metadata": {},
   "outputs": [
    {
     "name": "stdout",
     "output_type": "stream",
     "text": [
      "1 5\n",
      "2 6\n",
      "3 7\n",
      "1 5\n",
      "2 6\n",
      "3 7\n"
     ]
    }
   ],
   "source": [
    "# zip() built-in function\n",
    "l1 = [1, 2, 3]\n",
    "l2 = [5, 6, 7]\n",
    "\n",
    "length = len(l1)\n",
    "for i in range(length):\n",
    "    print(l1[i], l2[i])\n",
    "\n",
    "for v1, v2 in zip(l1, l2):\n",
    "    print(v1, v2)\n"
   ]
  },
  {
   "cell_type": "code",
   "execution_count": 49,
   "metadata": {},
   "outputs": [
    {
     "name": "stdout",
     "output_type": "stream",
     "text": [
      "(3,)\n",
      "[[1 2 3]]\n",
      "[[1 5]\n",
      " [2 6]\n",
      " [3 7]]\n"
     ]
    }
   ],
   "source": [
    "# zip() like operation in numpy\n",
    "arr1 = np.array([1, 2, 3])\n",
    "arr2 = np.array([5, 6, 7])\n",
    "\n",
    "arr3 = arr1.reshape(1,3)\n",
    "print(arr1.shape)\n",
    "print(arr3)\n",
    "zipped_arr = np.dstack((arr1, arr2))[0]\n",
    "print(zipped_arr)"
   ]
  },
  {
   "cell_type": "code",
   "execution_count": 51,
   "metadata": {},
   "outputs": [
    {
     "name": "stdout",
     "output_type": "stream",
     "text": [
      "0 6\n",
      "1 1\n",
      "2 7\n",
      "0 6\n",
      "1 1\n",
      "2 7\n"
     ]
    }
   ],
   "source": [
    "# enumerate() get index and value\n",
    "data = [6, 1, 7]\n",
    "\n",
    "for index in range(len(data)):\n",
    "    print(index, data[index])\n",
    "\n",
    "for index, value in enumerate(data):\n",
    "    print(index, value)"
   ]
  },
  {
   "cell_type": "code",
   "execution_count": 52,
   "metadata": {},
   "outputs": [
    {
     "name": "stdout",
     "output_type": "stream",
     "text": [
      "(0,) 1\n",
      "(1,) 3\n",
      "(2,) 4\n"
     ]
    }
   ],
   "source": [
    "# np.ndenumerate()\n",
    "arr1 = np.array([1, 3, 4])\n",
    "for index, value in np.ndenumerate(arr1):\n",
    "    print(index, value)"
   ]
  },
  {
   "cell_type": "code",
   "execution_count": 53,
   "metadata": {},
   "outputs": [
    {
     "name": "stdout",
     "output_type": "stream",
     "text": [
      "List memory size:  200\n",
      "NumPy array memory size:  32\n"
     ]
    }
   ],
   "source": [
    "# Memory usage comparison between list and np.array\n",
    "import sys\n",
    "\n",
    "lst = [1, 2, 3, 4]\n",
    "arr = np.array([1, 2, 3, 4])\n",
    "\n",
    "print(\"List memory size: \", sys.getsizeof(lst)+sum(sys.getsizeof(x) for x in lst))\n",
    "print(\"NumPy array memory size: \", arr.nbytes)"
   ]
  },
  {
   "cell_type": "code",
   "execution_count": 54,
   "metadata": {},
   "outputs": [
    {
     "name": "stdout",
     "output_type": "stream",
     "text": [
      "List time: 0.0713355541229248\n",
      "NumPy time: 0.004518032073974609\n"
     ]
    }
   ],
   "source": [
    "# performance\n",
    "import time\n",
    "\n",
    "lst = list(range(1000000))\n",
    "arr = np.array(lst)\n",
    "\n",
    "# List multiplication\n",
    "start = time.time()\n",
    "lst_result = [x * 2 for x in lst]\n",
    "end = time.time()\n",
    "print(\"List time:\", end - start)\n",
    "\n",
    "# NumPy multiplication\n",
    "start = time.time()\n",
    "arr_result = arr * 2\n",
    "end = time.time()\n",
    "print(\"NumPy time:\", end - start)\n"
   ]
  },
  {
   "cell_type": "code",
   "execution_count": null,
   "metadata": {},
   "outputs": [],
   "source": []
  }
 ],
 "metadata": {
  "kernelspec": {
   "display_name": ".env",
   "language": "python",
   "name": "python3"
  },
  "language_info": {
   "codemirror_mode": {
    "name": "ipython",
    "version": 3
   },
   "file_extension": ".py",
   "mimetype": "text/x-python",
   "name": "python",
   "nbconvert_exporter": "python",
   "pygments_lexer": "ipython3",
   "version": "3.11.5"
  }
 },
 "nbformat": 4,
 "nbformat_minor": 2
}
