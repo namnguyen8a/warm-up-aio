{
 "cells": [
  {
   "cell_type": "markdown",
   "id": "2d155af5",
   "metadata": {},
   "source": [
    "# Buble Sort"
   ]
  },
  {
   "cell_type": "code",
   "execution_count": 5,
   "id": "4ebbb88c",
   "metadata": {},
   "outputs": [
    {
     "name": "stdout",
     "output_type": "stream",
     "text": [
      "[2, 3, 4, 5, 8]\n"
     ]
    }
   ],
   "source": [
    "# Ex1\n",
    "def buble_sort(arr):\n",
    "    n = len(arr)\n",
    "    for i in range(n-1):\n",
    "        swapped = False\n",
    "        for j in range(n-1-i):\n",
    "            if arr[j] > arr[j+1]:\n",
    "                arr[j], arr[j+1] = arr[j+1], arr[j]\n",
    "                swapped = True\n",
    "        if not swapped:\n",
    "            return arr\n",
    "    return arr\n",
    "\n",
    "arr1 = [5, 3, 8, 4, 2]\n",
    "print(buble_sort(arr1))"
   ]
  },
  {
   "cell_type": "code",
   "execution_count": 14,
   "id": "9d09641f",
   "metadata": {},
   "outputs": [],
   "source": [
    "# Ex2\n",
    "# method 1\n",
    "def buble_sort_reversed1(arr):\n",
    "    n = len(arr)\n",
    "    for i in range(n-1):\n",
    "        swapped = False\n",
    "        for j in range(n-1-i):\n",
    "            if arr[j] > arr[j+1]:\n",
    "                arr[j], arr[j+1] = arr[j+1], arr[j]\n",
    "                swapped = True\n",
    "        if not swapped:\n",
    "            return arr[::-1]\n",
    "    return arr[::-1]\n",
    "\n",
    "# method 2\n",
    "def buble_sort_reversed2(arr):\n",
    "    n = len(arr)\n",
    "    for i in range(n-1):\n",
    "        swapped = False\n",
    "        for j in range(n-1-i):\n",
    "            if arr[j] < arr[j+1]:\n",
    "                arr[j], arr[j+1] = arr[j+1], arr[j]\n",
    "                swapped = True\n",
    "        if not swapped:\n",
    "            return arr\n",
    "    return arr\n",
    "\n"
   ]
  },
  {
   "cell_type": "code",
   "execution_count": 16,
   "id": "89f63166",
   "metadata": {},
   "outputs": [
    {
     "name": "stdout",
     "output_type": "stream",
     "text": [
      "[8, 5, 4, 3, 2]\n"
     ]
    }
   ],
   "source": [
    "arr1 = [5, 3, 8, 4, 2]\n",
    "print(buble_sort_reversed2(arr1))"
   ]
  },
  {
   "cell_type": "code",
   "execution_count": 25,
   "id": "7a264af4",
   "metadata": {},
   "outputs": [],
   "source": [
    "# Ex3\n",
    "def buble_sort_count(arr):\n",
    "    n = len(arr)\n",
    "    step = 0\n",
    "    for i in range(n-1):\n",
    "        swapped = False\n",
    "        for j in range(n-1-i):\n",
    "            step += 1\n",
    "            if arr[j] > arr[j+1]:\n",
    "                arr[j], arr[j+1] = arr[j+1], arr[j]\n",
    "                swapped = True\n",
    "        if not swapped:\n",
    "            return step\n",
    "    return step"
   ]
  },
  {
   "cell_type": "code",
   "execution_count": 26,
   "id": "8e9d89c3",
   "metadata": {},
   "outputs": [
    {
     "name": "stdout",
     "output_type": "stream",
     "text": [
      "6\n"
     ]
    }
   ],
   "source": [
    "arr = [4, 3, 2, 1]\n",
    "print(buble_sort_count(arr))"
   ]
  },
  {
   "cell_type": "code",
   "execution_count": null,
   "id": "2a813dc1",
   "metadata": {},
   "outputs": [],
   "source": [
    "# Ex4\n",
    "def is_sorted(arr):\n",
    "    for i in range(len(arr)-1):\n",
    "        if arr[i] > arr[i+1]:\n",
    "            return False\n",
    "    return True\n",
    "\n",
    "def buble_sort_pre_check(arr):\n",
    "    if is_sorted(arr):\n",
    "        return \"Already sorted!\"\n",
    "    n = len(arr)\n",
    "    for i in range(n-1):\n",
    "        swapped = False\n",
    "        for j in range(n-1-i):\n",
    "            if arr[j] > arr[j+1]:\n",
    "                arr[j], arr[j+1] = arr[j+1], arr[j]\n",
    "                swapped = True\n",
    "        if not swapped:\n",
    "            return arr\n",
    "    return arr\n"
   ]
  },
  {
   "cell_type": "code",
   "execution_count": 34,
   "id": "92aba3f2",
   "metadata": {},
   "outputs": [
    {
     "name": "stdout",
     "output_type": "stream",
     "text": [
      "Already sorted\n",
      "[1, 3, 3, 4, 5]\n"
     ]
    }
   ],
   "source": [
    "arr = [1, 2, 3, 4]\n",
    "arr2 = [4, 5, 3, 1, 3]\n",
    "print(buble_sort_pre_check(arr))\n",
    "print(buble_sort_pre_check(arr2))"
   ]
  },
  {
   "cell_type": "code",
   "execution_count": null,
   "id": "34898eda",
   "metadata": {},
   "outputs": [],
   "source": []
  }
 ],
 "metadata": {
  "kernelspec": {
   "display_name": ".env",
   "language": "python",
   "name": "python3"
  },
  "language_info": {
   "codemirror_mode": {
    "name": "ipython",
    "version": 3
   },
   "file_extension": ".py",
   "mimetype": "text/x-python",
   "name": "python",
   "nbconvert_exporter": "python",
   "pygments_lexer": "ipython3",
   "version": "3.11.5"
  }
 },
 "nbformat": 4,
 "nbformat_minor": 5
}
