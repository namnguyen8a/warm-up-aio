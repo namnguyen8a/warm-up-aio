{
 "cells": [
  {
   "cell_type": "markdown",
   "id": "4b4e7abd",
   "metadata": {},
   "source": [
    "# Thuật Toán Binary Search (Tìm kiếm nhị phân)\n"
   ]
  },
  {
   "cell_type": "code",
   "execution_count": 25,
   "id": "66c98947",
   "metadata": {},
   "outputs": [
    {
     "name": "stdout",
     "output_type": "stream",
     "text": [
      "2\n",
      "-1\n"
     ]
    }
   ],
   "source": [
    "# Ex1\n",
    "def binary_search(arr, x):\n",
    "    low = 0\n",
    "    high = len(arr) - 1\n",
    "    while low <= high:\n",
    "        mid = (low + high) // 2\n",
    "        if x == arr[mid]:\n",
    "            return mid\n",
    "        elif x < arr[mid]:\n",
    "            high = mid - 1\n",
    "        else:\n",
    "            low = mid + 1\n",
    "    return -1\n",
    "\n",
    "arr = [1, 3, 5, 7, 9]\n",
    "print(binary_search(arr, 5))\n",
    "print(binary_search(arr, 2))"
   ]
  },
  {
   "cell_type": "code",
   "execution_count": 15,
   "id": "52c263a2",
   "metadata": {},
   "outputs": [
    {
     "data": {
      "text/plain": [
       "2"
      ]
     },
     "execution_count": 15,
     "metadata": {},
     "output_type": "execute_result"
    }
   ],
   "source": [
    "# Ex2\n",
    "def binary_search(arr, x):\n",
    "    low = 0\n",
    "    high = len(arr) - 1\n",
    "    res = -1 \n",
    "    while low <= high:\n",
    "        mid = (low + high) // 2\n",
    "        if x == arr[mid]:\n",
    "            res = mid\n",
    "            high = mid -1 \n",
    "        elif x < arr[mid]:\n",
    "            high = mid - 1\n",
    "        else:\n",
    "            low = mid + 1\n",
    "    return res\n",
    "\n",
    "arr = [1, 2, 4, 4, 4, 5]\n",
    "binary_search(arr, 4)"
   ]
  },
  {
   "cell_type": "code",
   "execution_count": 19,
   "id": "5abf49a1",
   "metadata": {},
   "outputs": [
    {
     "name": "stdout",
     "output_type": "stream",
     "text": [
      "3\n",
      "-1\n"
     ]
    }
   ],
   "source": [
    "# Ex3\n",
    "def binary_search(arr, x):\n",
    "    low = 0\n",
    "    high = len(arr) - 1\n",
    "    res = -1\n",
    "    while low <= high:\n",
    "        mid = (low + high) // 2\n",
    "        if x == arr[mid]:\n",
    "            res = mid\n",
    "            high = mid - 1\n",
    "        elif x < arr[mid]:\n",
    "            res = mid\n",
    "            high = mid - 1\n",
    "        else:\n",
    "            low = mid + 1\n",
    "    return res\n",
    "\n",
    "arr = [1, 3, 5, 7, 9]\n",
    "print(binary_search(arr, 6))\n",
    "print(binary_search(arr, 10))\n"
   ]
  },
  {
   "cell_type": "code",
   "execution_count": 33,
   "id": "86b96b4d",
   "metadata": {},
   "outputs": [
    {
     "name": "stdout",
     "output_type": "stream",
     "text": [
      "Searching in range [0, 4], mid=2, value=5\n",
      "(2, 0)\n",
      "Searching in range [0, 4], mid=2, value=5\n",
      "Searching in range [0, 1], mid=0, value=1\n",
      "Searching in range [1, 1], mid=1, value=3\n",
      "(-1, 3)\n"
     ]
    }
   ],
   "source": [
    "# Ex4\n",
    "def binary_search_recursive(arr, search_value, low=0, high=None, recursive_count=0):\n",
    "    if high is None:\n",
    "        high = len(arr) - 1\n",
    "    if low > high:\n",
    "        return -1, recursive_count\n",
    "    mid = (low + high) // 2\n",
    "    print(f\"Searching in range [{low}, {high}], mid={mid}, value={arr[mid]}\")\n",
    "    if search_value == arr[mid]:\n",
    "        return mid, recursive_count\n",
    "    elif search_value < arr[mid]:\n",
    "        return binary_search_recursive(arr, search_value, low, mid-1, recursive_count+1)\n",
    "    else:\n",
    "        return binary_search_recursive(arr, search_value, mid+1, high, recursive_count+1)\n",
    "\n",
    "arr = [1, 3, 5, 7, 9]\n",
    "print(binary_search_recursive(arr, 5))\n",
    "print(binary_search_recursive(arr, 2))"
   ]
  }
 ],
 "metadata": {
  "kernelspec": {
   "display_name": ".env",
   "language": "python",
   "name": "python3"
  },
  "language_info": {
   "codemirror_mode": {
    "name": "ipython",
    "version": 3
   },
   "file_extension": ".py",
   "mimetype": "text/x-python",
   "name": "python",
   "nbconvert_exporter": "python",
   "pygments_lexer": "ipython3",
   "version": "3.11.5"
  }
 },
 "nbformat": 4,
 "nbformat_minor": 5
}
