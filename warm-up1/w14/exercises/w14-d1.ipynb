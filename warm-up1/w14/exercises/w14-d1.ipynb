{
 "cells": [
  {
   "cell_type": "markdown",
   "id": "d9bca217",
   "metadata": {},
   "source": [
    "# Linear Search"
   ]
  },
  {
   "cell_type": "code",
   "execution_count": 1,
   "id": "1c1f9679",
   "metadata": {},
   "outputs": [
    {
     "name": "stdout",
     "output_type": "stream",
     "text": [
      "2\n",
      "-1\n"
     ]
    }
   ],
   "source": [
    "# Ex1\n",
    "def linear_search(arr, x):\n",
    "    for i in range(len(arr)):\n",
    "        if x == arr[i]:\n",
    "            return i\n",
    "    return -1\n",
    "\n",
    "arr1 = [2, 4, 6, 8, 10]\n",
    "print(linear_search(arr1, 6))\n",
    "\n",
    "arr2 = [1, 3, 5, 7]\n",
    "print(linear_search(arr2, 2))"
   ]
  },
  {
   "cell_type": "code",
   "execution_count": 2,
   "id": "20b56148",
   "metadata": {},
   "outputs": [
    {
     "name": "stdout",
     "output_type": "stream",
     "text": [
      "[1, 3, 5]\n"
     ]
    }
   ],
   "source": [
    "# Ex2\n",
    "def find_all_elements(arr, x):\n",
    "    elements_arr = []\n",
    "    for i in range(len(arr)):\n",
    "        if x == arr[i]:\n",
    "            elements_arr.append(i)\n",
    "    return elements_arr\n",
    "\n",
    "arr3 = [1, 2, 3, 2, 4, 2]\n",
    "print(find_all_elements(arr3, 2))"
   ]
  },
  {
   "cell_type": "code",
   "execution_count": 6,
   "id": "10ac7019",
   "metadata": {},
   "outputs": [
    {
     "name": "stdout",
     "output_type": "stream",
     "text": [
      "[3, 4]\n"
     ]
    }
   ],
   "source": [
    "# Ex3\n",
    "def find_greater(arr, x):\n",
    "    greater_arr = []\n",
    "    for i in range(len(arr)):\n",
    "        if x < arr[i]:\n",
    "            greater_arr.append(arr[i])\n",
    "    return greater_arr\n",
    "    \n",
    "print(find_greater(arr3, 2))"
   ]
  },
  {
   "cell_type": "code",
   "execution_count": 8,
   "id": "9749d173",
   "metadata": {},
   "outputs": [
    {
     "data": {
      "text/plain": [
       "12"
      ]
     },
     "execution_count": 8,
     "metadata": {},
     "output_type": "execute_result"
    }
   ],
   "source": [
    "# Ex4\n",
    "def find_first_div_by_3(arr):\n",
    "    for i in range(len(arr)):\n",
    "        if arr[i] % 3 == 0:\n",
    "            return arr[i]\n",
    "\n",
    "arr4 = [12, 3, 4, 6, 9, 12]\n",
    "find_first_div_by_3(arr4)"
   ]
  },
  {
   "cell_type": "code",
   "execution_count": null,
   "id": "7077bd89",
   "metadata": {},
   "outputs": [],
   "source": []
  }
 ],
 "metadata": {
  "kernelspec": {
   "display_name": ".env",
   "language": "python",
   "name": "python3"
  },
  "language_info": {
   "codemirror_mode": {
    "name": "ipython",
    "version": 3
   },
   "file_extension": ".py",
   "mimetype": "text/x-python",
   "name": "python",
   "nbconvert_exporter": "python",
   "pygments_lexer": "ipython3",
   "version": "3.11.5"
  }
 },
 "nbformat": 4,
 "nbformat_minor": 5
}
