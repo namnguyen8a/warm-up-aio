{
 "cells": [
  {
   "cell_type": "markdown",
   "id": "fb0bd674",
   "metadata": {},
   "source": [
    "# AI Dataset Quality Checker – Áp dụng Linear Search, Bubble Sort và Binary Search"
   ]
  },
  {
   "cell_type": "code",
   "execution_count": null,
   "id": "a59819d7",
   "metadata": {},
   "outputs": [
    {
     "name": "stdout",
     "output_type": "stream",
     "text": [
      "4\n"
     ]
    }
   ],
   "source": [
    "datasets = [\n",
    "    {\"name\": \"img1.png\", \"label\": \"benign\", \"blurriness\": 0.4 , \"similarity\": 0.92},\n",
    "    {\"name\": \"img2.png\", \"label\": None , \"blurriness\": 0.6 , \"similarity\": 0.95},\n",
    "    {\"name\": \"img3.png\", \"label\": \"malignant\", \"blurriness\": 0.3 , \"similarity\": 0.84},\n",
    "    {\"name\": \"img4.png\", \"label\": None , \"blurriness\": 0.5 , \"similarity\": 0.88}\n",
    "]"
   ]
  },
  {
   "cell_type": "code",
   "execution_count": 15,
   "id": "7589758a",
   "metadata": {},
   "outputs": [
    {
     "name": "stdout",
     "output_type": "stream",
     "text": [
      "['img4.png', 'img2.png']\n"
     ]
    }
   ],
   "source": [
    "# Bước 1. Tìm ảnh chưa được gán nhãn: Dùng Linear Search để xác định các ảnh chưa có label.\n",
    "def find_image_unlabel(data):\n",
    "    img_lst = []\n",
    "    for i in range(len(data)):\n",
    "        if data[i][\"label\"] == None:\n",
    "            img_lst.append(data[i][\"name\"])\n",
    "    return img_lst\n",
    "\n",
    "print(find_image_unlabel(datasets))\n"
   ]
  },
  {
   "cell_type": "code",
   "execution_count": 16,
   "id": "52933025",
   "metadata": {},
   "outputs": [
    {
     "name": "stdout",
     "output_type": "stream",
     "text": [
      "[{'name': 'img3.png', 'label': 'malignant', 'blurriness': 0.3, 'similarity': 0.84}, {'name': 'img1.png', 'label': 'benign', 'blurriness': 0.4, 'similarity': 0.92}, {'name': 'img4.png', 'label': None, 'blurriness': 0.5, 'similarity': 0.88}, {'name': 'img2.png', 'label': None, 'blurriness': 0.6, 'similarity': 0.95}]\n"
     ]
    }
   ],
   "source": [
    "# Bước 2. Sắp xếp ảnh theo độ mờ: Dùng Bubble Sort để sắp xếp ảnh theo trường blurriness tăng dần.\n",
    "def sort_image(data):\n",
    "    n = len(data)\n",
    "    for i in range(n-1):\n",
    "        swapped = False\n",
    "        for j in range(n-1-i):\n",
    "            if data[j][\"blurriness\"] > data[j+1][\"blurriness\"]:\n",
    "                data[j][\"blurriness\"], data[j+1][\"blurriness\"] = data[j+1][\"blurriness\"], data[j][\"blurriness\"]\n",
    "                data[j][\"name\"], data[j+1][\"name\"] = data[j+1][\"name\"], data[j][\"name\"]\n",
    "                data[j][\"label\"], data[j+1][\"label\"] = data[j+1][\"label\"], data[j][\"label\"]\n",
    "                data[j][\"similarity\"], data[j+1][\"similarity\"] = data[j+1][\"similarity\"], data[j][\"similarity\"]\n",
    "        if not swapped:\n",
    "            return data\n",
    "    return data\n",
    "\n",
    "print(sort_image(datasets))"
   ]
  },
  {
   "cell_type": "code",
   "execution_count": 17,
   "id": "f0e12619",
   "metadata": {},
   "outputs": [
    {
     "name": "stdout",
     "output_type": "stream",
     "text": [
      "[{'name': 'img3.png', 'label': 'malignant', 'blurriness': 0.3, 'similarity': 0.84}, {'name': 'img1.png', 'label': 'benign', 'blurriness': 0.4, 'similarity': 0.92}, {'name': 'img4.png', 'label': None, 'blurriness': 0.5, 'similarity': 0.88}, {'name': 'img2.png', 'label': None, 'blurriness': 0.6, 'similarity': 0.95}]\n"
     ]
    }
   ],
   "source": [
    "print(datasets)"
   ]
  },
  {
   "cell_type": "code",
   "execution_count": 22,
   "id": "c2a06a76",
   "metadata": {},
   "outputs": [
    {
     "name": "stdout",
     "output_type": "stream",
     "text": [
      "[{'name': 'img3.png', 'label': 'malignant', 'blurriness': 0.3, 'similarity': 0.84}, {'name': 'img4.png', 'label': None, 'blurriness': 0.5, 'similarity': 0.88}, {'name': 'img1.png', 'label': 'benign', 'blurriness': 0.4, 'similarity': 0.92}, {'name': 'img2.png', 'label': None, 'blurriness': 0.6, 'similarity': 0.95}]\n"
     ]
    }
   ],
   "source": [
    "# Bước 3. Phát hiện ảnh tương tự: Dùng Binary Search để kiểm tra xem có ảnh nào có similarity > 0.9 không.\n",
    "def sort_img_similarity(data):\n",
    "    n = len(data)\n",
    "    for i in range(n-1):\n",
    "        swapped = False\n",
    "        for j in range(n-1-i):\n",
    "            if data[j][\"similarity\"] > data[j+1][\"similarity\"]:\n",
    "                data[j][\"similarity\"], data[j+1][\"similarity\"] = data[j+1][\"similarity\"], data[j][\"similarity\"]\n",
    "                data[j][\"name\"], data[j+1][\"name\"] = data[j+1][\"name\"], data[j][\"name\"]\n",
    "                data[j][\"label\"], data[j+1][\"label\"] = data[j+1][\"label\"], data[j][\"label\"]\n",
    "                data[j][\"blurriness\"], data[j+1][\"blurriness\"] = data[j+1][\"blurriness\"], data[j][\"blurriness\"]\n",
    "        if not swapped:\n",
    "            return data\n",
    "    return data\n",
    "\n",
    "print(sort_img_similarity(datasets))"
   ]
  },
  {
   "cell_type": "code",
   "execution_count": null,
   "id": "a54cd412",
   "metadata": {},
   "outputs": [
    {
     "name": "stdout",
     "output_type": "stream",
     "text": [
      "[{'name': 'img1.png', 'label': 'benign', 'blurriness': 0.4, 'similarity': 0.92}, {'name': 'img2.png', 'label': None, 'blurriness': 0.6, 'similarity': 0.95}]\n"
     ]
    }
   ],
   "source": [
    "# Bước 3. Phát hiện ảnh tương tự: Dùng Binary Search để kiểm tra xem có ảnh nào có similarity > 0.9 không.\n",
    "def detect_img_similarity(data, similarity):\n",
    "    left, right = 0, len(data) - 1\n",
    "    similarity_index = 0\n",
    "    while left <= right:\n",
    "        mid = (left + right) // 2\n",
    "        if similarity < data[mid][\"similarity\"]:\n",
    "            similarity_index = mid\n",
    "            right = mid - 1\n",
    "        else:\n",
    "            left = mid + 1\n",
    "    return [data[i] for i in range(similarity_index, len(data))]\n",
    "    \n",
    "# return all the image that have similarity > threshold \n",
    "\n",
    "print(detect_img_similarity(datasets, 0.9))"
   ]
  }
 ],
 "metadata": {
  "kernelspec": {
   "display_name": ".env",
   "language": "python",
   "name": "python3"
  },
  "language_info": {
   "codemirror_mode": {
    "name": "ipython",
    "version": 3
   },
   "file_extension": ".py",
   "mimetype": "text/x-python",
   "name": "python",
   "nbconvert_exporter": "python",
   "pygments_lexer": "ipython3",
   "version": "3.11.5"
  }
 },
 "nbformat": 4,
 "nbformat_minor": 5
}
