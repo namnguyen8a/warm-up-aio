{
 "cells": [
  {
   "cell_type": "markdown",
   "id": "fec944bf",
   "metadata": {},
   "source": [
    "# Bài Tập Ôn Tập Thuật Toán và Ứng Dụng AI"
   ]
  },
  {
   "cell_type": "markdown",
   "id": "a128c9e3",
   "metadata": {},
   "source": [
    "## 1. Linear Search – Ứng dụng AI"
   ]
  },
  {
   "cell_type": "code",
   "execution_count": 7,
   "id": "a7da2d4c",
   "metadata": {},
   "outputs": [
    {
     "name": "stdout",
     "output_type": "stream",
     "text": [
      "2\n"
     ]
    }
   ],
   "source": [
    "# Bài 1.1 – Tìm prompt chứa từ khoá\n",
    "def find_prompt_with_keyword(prompts, keyword):\n",
    "    for p in range(len(prompts)):\n",
    "        if keyword in prompts[p]:\n",
    "            return p\n",
    "    return -1\n",
    "\n",
    "prompts = [\n",
    "    \"Generate a report for patient X.\",\n",
    "    \"Summarize the input text.\",\n",
    "    \"Suggest a diagnosis based on symptoms.\",\n",
    "    \"Translate this to French.\"\n",
    "]\n",
    "\n",
    "print(find_prompt_with_keyword(prompts, \"diagnosis\"))"
   ]
  },
  {
   "cell_type": "code",
   "execution_count": 9,
   "id": "206d2e3c",
   "metadata": {},
   "outputs": [
    {
     "name": "stdout",
     "output_type": "stream",
     "text": [
      "1\n"
     ]
    }
   ],
   "source": [
    "# Bài 1.2 – Tìm mẫu ảnh chưa có annotation\n",
    "def find_first_unlabeled(images):\n",
    "    for i in range(len(images)):\n",
    "        if images[i][\"label\"] is None:\n",
    "            return i\n",
    "    return -1\n",
    "\n",
    "images = [\n",
    "    {'name': 'img1.png', 'label': 'benign'},\n",
    "    {'name': 'img2.png', 'label': None},\n",
    "    {'name': 'img3.png', 'label': 'malignant'},\n",
    "]\n",
    "\n",
    "print(find_first_unlabeled(images))"
   ]
  },
  {
   "cell_type": "markdown",
   "id": "0d3d2ee1",
   "metadata": {},
   "source": [
    "## 2. Bubble Sort – Ứng dụng AI"
   ]
  },
  {
   "cell_type": "code",
   "execution_count": 10,
   "id": "06cd0afe",
   "metadata": {},
   "outputs": [
    {
     "name": "stdout",
     "output_type": "stream",
     "text": [
      "[{'name': 'img2', 'blurriness': 0.3}, {'name': 'img3', 'blurriness': 0.5}, {'name': 'img1', 'blurriness': 0.8}]\n",
      "['img2', 'img3', 'img1']\n"
     ]
    }
   ],
   "source": [
    "# Bài 2.1 – Sắp xếp ảnh theo độ mờ\n",
    "def sort_by_blurriness(images):\n",
    "    n = len(images)\n",
    "    for i in range(n-1):\n",
    "        swapped = False\n",
    "        for j in range(n-1-i):\n",
    "            if images[j]['blurriness'] > images[j+1]['blurriness']:\n",
    "                images[j]['blurriness'], images[j+1]['blurriness'] = images[j+1]['blurriness'], images[j]['blurriness']\n",
    "                images[j]['name'], images[j+1]['name'] = images[j+1]['name'], images[j]['name']\n",
    "                swapped = True\n",
    "        if not swapped:\n",
    "            return images\n",
    "    return images\n",
    "\n",
    "image_data = [\n",
    "    {'name': 'img1', 'blurriness': 0.8},\n",
    "    {'name': 'img2', 'blurriness': 0.3},\n",
    "    {'name': 'img3', 'blurriness': 0.5}\n",
    "]\n",
    "\n",
    "sorted_imgs = sort_by_blurriness(image_data)\n",
    "print(sorted_imgs)\n",
    "print([img['name'] for img in image_data])"
   ]
  },
  {
   "cell_type": "code",
   "execution_count": 13,
   "id": "7f024d8e",
   "metadata": {},
   "outputs": [
    {
     "name": "stdout",
     "output_type": "stream",
     "text": [
      "['ModelB', 'ModelC', 'ModelA']\n"
     ]
    }
   ],
   "source": [
    "# Bài 2.2 – Sắp xếp mô hình theo độ chính xác\n",
    "def sort_models_by_accuracy(models, accuracies):\n",
    "    n = len(accuracies)\n",
    "    for i in range(n-1):\n",
    "        swapped = False\n",
    "        for j in range(n-1-i):\n",
    "            if accuracies[j] < accuracies[j+1]:\n",
    "                accuracies[j], accuracies[j+1] = accuracies[j+1], accuracies[j]\n",
    "                models[j], models[j+1] = models[j+1], models[j]\n",
    "        if not swapped:\n",
    "            return models\n",
    "    return models\n",
    "\n",
    "models = [\"ModelA\", \"ModelB\", \"ModelC\"]\n",
    "accuracies = [0.89, 0.93, 0.91]\n",
    "print(sort_models_by_accuracy(models, accuracies))"
   ]
  },
  {
   "cell_type": "code",
   "execution_count": 14,
   "id": "5335fd1d",
   "metadata": {},
   "outputs": [
    {
     "name": "stdout",
     "output_type": "stream",
     "text": [
      "4\n"
     ]
    }
   ],
   "source": [
    "# Bài 2.3 – Đếm số lần hoán đổi theo loss\n",
    "def buble_sort_with_count(arr):\n",
    "    count = 0\n",
    "    n = len(arr)\n",
    "    for i in range(n-1):\n",
    "        swapped = False\n",
    "        for j in range(n-1-i):\n",
    "            if arr[j] > arr[j+1]:\n",
    "                arr[j], arr[j+1] = arr[j+1], arr[j]\n",
    "                count+=1\n",
    "                swapped = True\n",
    "        if not swapped:\n",
    "            return count\n",
    "    return count\n",
    "\n",
    "losses = [0.4, 0.3, 0.5, 0.2]\n",
    "\n",
    "print(buble_sort_with_count(losses))"
   ]
  },
  {
   "cell_type": "markdown",
   "id": "a31d02dd",
   "metadata": {},
   "source": [
    "## 3. Binary Search – Ứng dụng AI"
   ]
  },
  {
   "cell_type": "code",
   "execution_count": 42,
   "id": "78041821",
   "metadata": {},
   "outputs": [
    {
     "name": "stdout",
     "output_type": "stream",
     "text": [
      "5\n"
     ]
    }
   ],
   "source": [
    "# Bài 3.1 – Tìm xác suất bệnh >= ngưỡng\n",
    "def find_first_greater_or_equal(arr, x):\n",
    "    left, right = 0, len(arr) - 1\n",
    "    result = -1\n",
    "    while left <= right:\n",
    "        mid = (left+right)//2\n",
    "        if x <= arr[mid]:\n",
    "            result = mid\n",
    "            right = mid - 1\n",
    "        else:\n",
    "            left = mid + 1\n",
    "    return result\n",
    "\n",
    "probs = [0.12, 0.23, 0.35, 0.47, 0.59, 0.61, 0.74, 0.81]\n",
    "print(find_first_greater_or_equal(probs, 0.6))\n"
   ]
  },
  {
   "cell_type": "code",
   "execution_count": 48,
   "id": "0e9129f7",
   "metadata": {},
   "outputs": [
    {
     "name": "stdout",
     "output_type": "stream",
     "text": [
      "0.7\n"
     ]
    }
   ],
   "source": [
    "# Bài 3.2 – Tìm threshold có F1-score tốt nhất\n",
    "def binary_search_threshold(f1_scores, threshold):\n",
    "    left, right = 0, len(f1_scores) - 1\n",
    "    res_lst = -1\n",
    "    while left <= right:\n",
    "        mid = (left+right) // 2\n",
    "        if threshold <= f1_scores[mid][0]:\n",
    "            res_lst = f1_scores[mid][1]\n",
    "            right = mid - 1\n",
    "        else:\n",
    "            left = mid + 1\n",
    "    return res_lst\n",
    "\n",
    "f1_scores = [(0.1, 0.6), (0.2, 0.65), (0.3, 0.7), (0.4, 0.68)]\n",
    "print(binary_search_threshold( f1_scores , 0.3))\n"
   ]
  },
  {
   "cell_type": "code",
   "execution_count": 52,
   "id": "ac29ef30",
   "metadata": {},
   "outputs": [
    {
     "name": "stdout",
     "output_type": "stream",
     "text": [
      "True\n"
     ]
    }
   ],
   "source": [
    "# Bài 3.3 – Kiểm tra có ảnh tương đồng cao không\n",
    "def exists_similar_image(similarities, threshold):\n",
    "    left, right = 0, len(similarities) - 1\n",
    "    while left <= right:\n",
    "        mid = (left+right) // 2\n",
    "        if threshold == similarities[mid]:\n",
    "            return True\n",
    "        elif threshold < similarities[mid]:\n",
    "            left = mid + 1\n",
    "        else:\n",
    "            right = mid - 1\n",
    "\n",
    "    return False\n",
    "\n",
    "sims = [0.95, 0.89, 0.85, 0.8, 0.75]\n",
    "print(exists_similar_image(sims, 0.85))"
   ]
  },
  {
   "cell_type": "code",
   "execution_count": null,
   "id": "0d0676e3",
   "metadata": {},
   "outputs": [],
   "source": []
  }
 ],
 "metadata": {
  "kernelspec": {
   "display_name": ".env",
   "language": "python",
   "name": "python3"
  },
  "language_info": {
   "codemirror_mode": {
    "name": "ipython",
    "version": 3
   },
   "file_extension": ".py",
   "mimetype": "text/x-python",
   "name": "python",
   "nbconvert_exporter": "python",
   "pygments_lexer": "ipython3",
   "version": "3.11.5"
  }
 },
 "nbformat": 4,
 "nbformat_minor": 5
}
