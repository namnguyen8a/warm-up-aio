{
 "cells": [
  {
   "cell_type": "markdown",
   "metadata": {},
   "source": [
    "# Bài Tập Thiết Kế Cơ Sở Dữ Liệu Hệ Thống Quản Lý Bán Hàng Quần Áo"
   ]
  },
  {
   "cell_type": "code",
   "execution_count": 1,
   "metadata": {},
   "outputs": [],
   "source": [
    "import pymysql\n",
    "import os\n",
    "from dotenv import load_dotenv\n",
    "\n",
    "# Load environment variables from .credential file\n",
    "load_dotenv(\"../../w7/.credential\")\n",
    "\n",
    "# Get credentials from environment variables\n",
    "conn = pymysql.connect(\n",
    "    host=os.getenv(\"DB_HOST\"),\n",
    "    user=os.getenv(\"DB_USER\"),\n",
    "    password=os.getenv(\"DB_PASSWORD\")\n",
    ")\n",
    "cursor = conn.cursor()\n"
   ]
  },
  {
   "cell_type": "code",
   "execution_count": 2,
   "metadata": {},
   "outputs": [],
   "source": [
    "cursor.execute(\"CREATE DATABASE IF NOT EXISTS w9db1;\")\n",
    "cursor.execute(\"USE w9db1;\")\n",
    "\n",
    "# 1. Tạo bảng Categories\n",
    "cursor.execute(\"\"\"\n",
    "CREATE TABLE IF NOT EXISTS Categories (\n",
    "    CategoryID INT PRIMARY KEY,\n",
    "    Name VARCHAR(50) NOT NULL\n",
    ");\n",
    "\"\"\")\n",
    "\n",
    "# 2. Tạo bảng Products\n",
    "cursor.execute(\"\"\"\n",
    "CREATE TABLE IF NOT EXISTS Products (\n",
    "    ProductID INT PRIMARY KEY,\n",
    "    Name VARCHAR(255) NOT NULL,\n",
    "    CategoryID INT,\n",
    "    Price DECIMAL(10, 2),\n",
    "    FOREIGN KEY (CategoryID) REFERENCES Categories(CategoryID)\n",
    ");\n",
    "\"\"\")\n",
    "\n",
    "# 3. Tạo bảng Variants\n",
    "cursor.execute(\"\"\"\n",
    "CREATE TABLE IF NOT EXISTS Variants (\n",
    "    VariantID INT PRIMARY KEY,\n",
    "    ProductID INT,\n",
    "    Color VARCHAR(50),\n",
    "    Size VARCHAR(10),\n",
    "    Stock INT,\n",
    "    FOREIGN KEY (ProductID) REFERENCES Products(ProductID)\n",
    ");\n",
    "\"\"\")\n",
    "\n",
    "# 4. Tạo bảng Customers\n",
    "cursor.execute(\"\"\"\n",
    "CREATE TABLE IF NOT EXISTS Customers (\n",
    "    CustomerID INT PRIMARY KEY,\n",
    "    Name VARCHAR(255) NOT NULL,\n",
    "    Phone VARCHAR(20),\n",
    "    Address VARCHAR(255),\n",
    "    CreatedDate DATE\n",
    ");\n",
    "\"\"\")\n",
    "\n",
    "# 5. Tạo bảng Orders\n",
    "cursor.execute(\"\"\"\n",
    "CREATE TABLE IF NOT EXISTS Orders (\n",
    "    OrderID INT PRIMARY KEY,\n",
    "    CustomerID INT,\n",
    "    OrderDate DATE,\n",
    "    Status VARCHAR(50),\n",
    "    FOREIGN KEY (CustomerID) REFERENCES Customers(CustomerID)\n",
    ");\n",
    "\"\"\")\n",
    "\n",
    "# 6. Tạo bảng OrderDetails\n",
    "cursor.execute(\"\"\"\n",
    "CREATE TABLE IF NOT EXISTS OrderDetails (\n",
    "    OrderID INT,\n",
    "    VariantID INT,\n",
    "    Quantity INT,\n",
    "    Price DECIMAL(10, 2),\n",
    "    PRIMARY KEY (OrderID, VariantID),\n",
    "    FOREIGN KEY (OrderID) REFERENCES Orders(OrderID),\n",
    "    FOREIGN KEY (VariantID) REFERENCES Variants(VariantID)\n",
    ");\n",
    "\"\"\")\n",
    "\n",
    "# Thêm dữ liệu vào bảng Categories\n",
    "cursor.execute(\"\"\"\n",
    "INSERT INTO Categories (CategoryID, Name) VALUES\n",
    "(1, 'Áo'),\n",
    "(2, 'Quần'),\n",
    "(3, 'Váy'),\n",
    "(4, 'Phụ kiện')\n",
    ";\n",
    "\"\"\")\n",
    "\n",
    "# Thêm dữ liệu vào bảng Products\n",
    "cursor.execute(\"\"\"\n",
    "INSERT INTO Products (ProductID, Name, CategoryID, Price) VALUES\n",
    "(101, 'Áo sơ mi nam', 1, 300000),\n",
    "(102, 'Quần jeans', 2, 500000),\n",
    "(103, 'Váy xòe', 3, 450000)\n",
    ";\n",
    "\"\"\")\n",
    "\n",
    "# Thêm dữ liệu vào bảng Variants\n",
    "cursor.execute(\"\"\"\n",
    "INSERT INTO Variants (VariantID, ProductID, Color, Size, Stock) VALUES\n",
    "(1, 101, 'Trắng', 'M', 20),\n",
    "(2, 101, 'Trắng', 'L', 15),\n",
    "(3, 102, 'Xanh', 'M', 10),\n",
    "(4, 103, 'Đỏ', 'S', 5);\n",
    "\"\"\")\n",
    "\n",
    "# Thêm dữ liệu vào bảng Customers\n",
    "cursor.execute(\"\"\"\n",
    "INSERT INTO Customers (CustomerID, Name, Phone, Address, CreatedDate) VALUES\n",
    "(1, 'Trần An', '0909123456', 'Hà Nội', '2024-01-10'),\n",
    "(2, 'Lê Bình', '0909223456', 'TP.HCM', '2024-02-05');\n",
    "\"\"\")\n",
    "\n",
    "# Thêm dữ liệu vào bảng Orders\n",
    "cursor.execute(\"\"\"\n",
    "INSERT INTO Orders (OrderID, CustomerID, OrderDate, Status) VALUES\n",
    "(1, 1, '2024-03-01', 'Đã giao'),\n",
    "(2, 2, '2024-03-02', 'Đã đặt');\n",
    "\"\"\")\n",
    "\n",
    "# Thêm dữ liệu vào bảng OrderDetails\n",
    "cursor.execute(\"\"\"\n",
    "INSERT INTO OrderDetails (OrderID, VariantID, Quantity, Price) VALUES\n",
    "(1, 1, 2, 300000),\n",
    "(1, 3, 1, 500000),\n",
    "(2, 4, 1, 450000);\n",
    "\"\"\")\n",
    "\n",
    "# Commit the changes\n",
    "conn.commit()"
   ]
  },
  {
   "cell_type": "code",
   "execution_count": 3,
   "metadata": {},
   "outputs": [
    {
     "name": "stdout",
     "output_type": "stream",
     "text": [
      "((1, 'Trần An', Decimal('300000.00')), (1, 'Trần An', Decimal('500000.00')), (2, 'Lê Bình', Decimal('450000.00')))\n"
     ]
    }
   ],
   "source": [
    "# 3. Liệt kê tất cả các đơn hàng, kèm theo tên khách hàng và tổng tiền của mỗi đơn hàng.\n",
    "\n",
    "cursor.execute(\"\"\"\n",
    "SELECT o.orderid, c.name, od.price\n",
    "FROM customers c\n",
    "INNER JOIN orders o\n",
    "    ON c.customerid = o.customerid\n",
    "INNER JOIN orderdetails od\n",
    "    ON o.orderid = od.orderid;\n",
    "\"\"\")\n",
    "\n",
    "data = cursor.fetchall()\n",
    "print(data)"
   ]
  },
  {
   "cell_type": "code",
   "execution_count": 4,
   "metadata": {},
   "outputs": [
    {
     "name": "stdout",
     "output_type": "stream",
     "text": [
      "(('Váy xòe', 5, 1),)\n"
     ]
    }
   ],
   "source": [
    "# 4. Liệt kê các sản phẩm có tồn kho dưới 10.\n",
    "\n",
    "cursor.execute(\"\"\"\n",
    "SELECT p.name, v.stock, od.quantity\n",
    "FROM products p\n",
    "INNER JOIN variants v\n",
    "    ON p.productid = v.productid\n",
    "INNER JOIN orderdetails od\n",
    "    ON v.variantid = od.variantid\n",
    "WHERE v.stock < 10;\n",
    "\"\"\")\n",
    "\n",
    "data = cursor.fetchall()\n",
    "print(data)"
   ]
  },
  {
   "cell_type": "code",
   "execution_count": 5,
   "metadata": {},
   "outputs": [
    {
     "name": "stdout",
     "output_type": "stream",
     "text": [
      "((datetime.date(2024, 3, 1), Decimal('1100000.00')), (datetime.date(2024, 3, 2), Decimal('450000.00')))\n"
     ]
    }
   ],
   "source": [
    "# 5. Tính tổng doanh thu theo từng ngày đặt hàng.\n",
    "\n",
    "cursor.execute(\"\"\"\n",
    "SELECT o.orderdate, sum(od.quantity * od.price) \n",
    "    AS revenue_date \n",
    "FROM orders o\n",
    "INNER JOIN orderdetails od\n",
    "    ON o.orderid = od.orderid\n",
    "GROUP BY o.orderdate;\n",
    "\"\"\")\n",
    "\n",
    "data = cursor.fetchall()\n",
    "print(data)"
   ]
  },
  {
   "cell_type": "code",
   "execution_count": 6,
   "metadata": {},
   "outputs": [
    {
     "name": "stdout",
     "output_type": "stream",
     "text": [
      "((1, 'Trần An'), (2, 'Lê Bình'))\n"
     ]
    }
   ],
   "source": [
    "# 6. Liệt kê các khách hàng đã từng có đơn hàng.\n",
    "\n",
    "cursor.execute(\"\"\"\n",
    "SELECT o.orderid, c.name\n",
    "FROM orders o\n",
    "INNER JOIN customers c\n",
    "    ON c.customerid = o.customerid;\n",
    "\"\"\")\n",
    "\n",
    "data = cursor.fetchall()\n",
    "print(data)"
   ]
  },
  {
   "cell_type": "code",
   "execution_count": 7,
   "metadata": {},
   "outputs": [
    {
     "name": "stdout",
     "output_type": "stream",
     "text": [
      "(('Áo sơ mi nam', 'Trắng', 'M', 2), ('Quần jeans', 'Xanh', 'M', 1), ('Váy xòe', 'Đỏ', 'S', 1))\n"
     ]
    }
   ],
   "source": [
    "# 7. Liệt kê sản phẩm bán chạy nhất (theo tổng số lượng bán).\n",
    "\n",
    "cursor.execute(\"\"\"\n",
    "SELECT p.name, v.color, v.size, od.quantity\n",
    "FROM products p\n",
    "INNER JOIN variants v\n",
    "    ON p.productid = v.productid\n",
    "INNER JOIN orderdetails od\n",
    "    ON v.variantid = od.variantid\n",
    "ORDER BY od.quantity DESC;\n",
    "\"\"\")\n",
    "\n",
    "data = cursor.fetchall()\n",
    "print(data)"
   ]
  },
  {
   "cell_type": "code",
   "execution_count": 8,
   "metadata": {},
   "outputs": [
    {
     "name": "stdout",
     "output_type": "stream",
     "text": [
      "(('Áo sơ mi nam', 'Trắng', 'M', Decimal('600000.00')), ('Quần jeans', 'Xanh', 'M', Decimal('500000.00')), ('Váy xòe', 'Đỏ', 'S', Decimal('450000.00')))\n"
     ]
    }
   ],
   "source": [
    "# 8. Tính tổng doanh thu theo từng loại danh mục sản phẩm.\n",
    "\n",
    "cursor.execute(\"\"\"\n",
    "SELECT p.name, v.color, v.size, p.price * od.quantity\n",
    "    AS revenue_per_product\n",
    "FROM products p\n",
    "INNER JOIN variants v\n",
    "    ON p.productid = v.productid\n",
    "INNER JOIN orderdetails od\n",
    "    ON v.variantid = od.variantid;\n",
    "\"\"\")\n",
    "\n",
    "data = cursor.fetchall()\n",
    "print(data)"
   ]
  },
  {
   "cell_type": "code",
   "execution_count": 9,
   "metadata": {},
   "outputs": [
    {
     "name": "stdout",
     "output_type": "stream",
     "text": [
      "(('Áo sơ mi nam', 'Trắng', 'M', 20, Decimal('600000.00')), ('Quần jeans', 'Xanh', 'M', 10, Decimal('500000.00')), ('Váy xòe', 'Đỏ', 'S', 5, Decimal('450000.00')))\n"
     ]
    }
   ],
   "source": [
    "# 9. Hiển thị chi tiết của một đơn hàng cụ thể (gồm tên sản phẩm, màu, size, số lượng, đơn giá, tổng dòng).\n",
    "\n",
    "cursor.execute(\"\"\"\n",
    "SELECT p.name, v.color, v.size, v.stock, p.price * od.quantity\n",
    "    AS total_price\n",
    "FROM products p\n",
    "INNER JOIN variants v\n",
    "    ON p.productid = v.productid\n",
    "INNER JOIN orderdetails od\n",
    "    ON v.variantid = od.variantid;\n",
    "\"\"\")\n",
    "\n",
    "data = cursor.fetchall()\n",
    "print(data)"
   ]
  },
  {
   "cell_type": "code",
   "execution_count": 10,
   "metadata": {},
   "outputs": [
    {
     "name": "stdout",
     "output_type": "stream",
     "text": [
      "()\n"
     ]
    }
   ],
   "source": [
    "# 10. Liệt kê các khách hàng chưa từng thực hiện đơn hàng nào.\n",
    "\n",
    "cursor.execute(\"\"\"\n",
    "SELECT c.name, o.orderdate\n",
    "FROM customers c\n",
    "RIGHT JOIN orders o\n",
    "    ON c.customerid = o.customerid\n",
    "WHERE c.name IS NULL;\n",
    "\"\"\")\n",
    "\n",
    "data = cursor.fetchall()\n",
    "print(data)"
   ]
  },
  {
   "cell_type": "code",
   "execution_count": 11,
   "metadata": {},
   "outputs": [
    {
     "name": "stdout",
     "output_type": "stream",
     "text": [
      "(('01-24', 1), ('02-24', 1))\n"
     ]
    }
   ],
   "source": [
    "# 11. Thống kê số lượng khách hàng mới theo từng tháng.\n",
    "\n",
    "cursor.execute(\"\"\"\n",
    "SELECT DATE_FORMAT(createddate, '%m-%y') AS month, count(customerid) AS person_created\n",
    "FROM customers \n",
    "GROUP BY month;\n",
    "\"\"\")\n",
    "\n",
    "data = cursor.fetchall()\n",
    "print(data)"
   ]
  },
  {
   "cell_type": "code",
   "execution_count": 13,
   "metadata": {},
   "outputs": [
    {
     "name": "stdout",
     "output_type": "stream",
     "text": [
      "(('Áo sơ mi nam', 'Trắng', 'M', 'Đã giao'), ('Quần jeans', 'Xanh', 'M', 'Đã giao'), ('Váy xòe', 'Đỏ', 'S', 'Đã đặt'))\n"
     ]
    }
   ],
   "source": [
    "# 12. Thống kê số đơn hàng theo từng trạng thái (đã giao, đã đặt, đã huỷ).\n",
    "\n",
    "cursor.execute(\"\"\"\n",
    "SELECT p.name, v.color, v.size, o.status \n",
    "FROM products p\n",
    "INNER JOIN variants v\n",
    "    ON p.productid = v.productid\n",
    "INNER JOIN orderdetails od\n",
    "    ON od.variantid = v.variantid\n",
    "INNER JOIN orders o\n",
    "    ON o.orderid = od.orderid;\n",
    "\"\"\")\n",
    "\n",
    "data = cursor.fetchall()\n",
    "print(data)"
   ]
  },
  {
   "cell_type": "code",
   "execution_count": 15,
   "metadata": {},
   "outputs": [
    {
     "name": "stdout",
     "output_type": "stream",
     "text": [
      "(('Áo', Decimal('17.5000')), ('Quần', Decimal('10.0000')), ('Váy', Decimal('5.0000')))\n"
     ]
    }
   ],
   "source": [
    "# 13. Tính tồn kho trung bình theo từng loại sản phẩm.\n",
    "\n",
    "cursor.execute(\"\"\"\n",
    "SELECT c.name, avg(v.stock)\n",
    "    AS avg_stock  \n",
    "FROM categories c\n",
    "INNER JOIN products p\n",
    "    ON p.categoryid = c.categoryid\n",
    "INNER JOIN variants v\n",
    "    ON p.productid = v.productid\n",
    "GROUP BY\n",
    "    c.categoryid;\n",
    "\"\"\")\n",
    "\n",
    "data = cursor.fetchall()\n",
    "print(data)"
   ]
  },
  {
   "cell_type": "code",
   "execution_count": 16,
   "metadata": {},
   "outputs": [],
   "source": [
    "# Close Connection\n",
    "cursor.close()\n",
    "conn.close()"
   ]
  }
 ],
 "metadata": {
  "kernelspec": {
   "display_name": ".env",
   "language": "python",
   "name": "python3"
  },
  "language_info": {
   "codemirror_mode": {
    "name": "ipython",
    "version": 3
   },
   "file_extension": ".py",
   "mimetype": "text/x-python",
   "name": "python",
   "nbconvert_exporter": "python",
   "pygments_lexer": "ipython3",
   "version": "3.11.5"
  }
 },
 "nbformat": 4,
 "nbformat_minor": 2
}
