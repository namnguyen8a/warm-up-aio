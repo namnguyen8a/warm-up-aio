{
 "cells": [
  {
   "cell_type": "markdown",
   "metadata": {},
   "source": [
    "# Chuẩn hóa cơ sở dữ liệu – Chuẩn thứ ba (3NF)\n"
   ]
  },
  {
   "attachments": {
    "image.png": {
     "image/png": "[encoded data removed]"
    }
   },
   "cell_type": "markdown",
   "metadata": {},
   "source": [
    "![image.png](attachment:image.png)"
   ]
  },
  {
   "cell_type": "markdown",
   "metadata": {},
   "source": [
    "## Câu 1. Xác định khóa chính của bảng StorageRecords_Raw.\n",
    "### Answer:\n",
    "- Khóa chính của bảng là `record_id`"
   ]
  },
  {
   "cell_type": "markdown",
   "metadata": {},
   "source": [
    "## Câu 2. Phân tích các vi phạm chuẩn hoá:\n",
    "- Bảng trên đã đạt chuẩn 1NF chưa? Nếu chưa, cần điều chỉnh gì?\n",
    "- Có thuộc tính nào vi phạm 2NF không? Nếu có, là những thuộc tính nào?\n",
    "- Có thuộc tính nào vi phạm 3NF không? Nếu có, là những thuộc tính nào và vì\n",
    "sao?\n",
    "### Answer:\n",
    "- Bảng trên đã đạt chuẩn 1NF\n",
    "- Có thuộc tính nào vi phạm 2NF:\n",
    "  - khóa chính là (`record_id`, `item_code`, `warehouse_id`, `customer_id`, `staff_id`)\n",
    "  - `item_name` chỉ phụ thuộc vào `item_code`\n",
    "  - `warehouse_name` chỉ phụ thuộc vào `warehouse_id`\n",
    "  - `customer_name` chỉ phụ thuộc vào `customer_id`\n",
    "  - `staff_name` chỉ phụ thuộc vào `staff_id`\n",
    "    -> vi phạm 2NF\n",
    "- Không có thuộc tính vi phạm 3NF"
   ]
  },
  {
   "cell_type": "markdown",
   "metadata": {},
   "source": [
    "## Câu 3. Thực hiện chuẩn hóa đến 3NF:\n",
    "- Trình bày các bảng sau khi chuẩn hóa.\n",
    "- Ghi rõ khóa chính và khóa ngoại (nếu có) cho từng bảng.\n",
    "- Tối thiểu có 4 bảng, khuyến khích thiết kế 5 bảng.\n",
    "### Answer:\n",
    "- Bảng sau khi chuẩn hóa được chia làm 5 bảng: `items`, `warehouses`, `customers`, `staff`, `records`\n",
    "- Bảng `items`:\n",
    "  - item_code VARCHAR(20) PRIMARY KEY,\n",
    "  - item_name VARCHAR(100) NOT NULL\n",
    "- Bảng `warehouses`:\n",
    "  - warehouse_id VARCHAR(20) PRIMARY KEY,\n",
    "  - warehouse_name VARCHAR(100) NOT NULL\n",
    "- Bảng `customers`:\n",
    "  - customer_id VARCHAR(20) PRIMARY KEY,\n",
    "  - customer_name VARCHAR(100) NOT NULL\n",
    "- Bảng `staffs`:\n",
    "  - staff_id VARCHAR(20) PRIMARY KEY,\n",
    "  - staff_name VARCHAR(100) NOT NULL\n",
    "- Bảng `records`:\n",
    "  - record_id VARCHAR(20) PRIMARY KEY,\n",
    "  - item_code VARCHAR(20),\n",
    "  - quantity INT NOT NULL,\n",
    "  - warehouse_id VARCHAR(20),\n",
    "  - location VARCHAR(100) NOT NULL,\n",
    "  - customer_id VARCHAR(20),\n",
    "  - staff_id VARCHAR(20),\n",
    "  - FOREIGN KEY (item_code) REFERENCES items(item_code) ON DELETE CASCADE,\n",
    "  - FOREIGN KEY (warehouse_id) REFERENCES warehouses(warehouse_id) ON DELETE CASCADE,\n",
    "  - FOREIGN KEY (customer_id) REFERENCES customers(customer_id) ON DELETE CASCADE,\n",
    "  - FOREIGN KEY (staff_id) REFERENCES staffs(staff_id) ON DELETE CASCADE\n",
    "  "
   ]
  },
  {
   "cell_type": "markdown",
   "metadata": {},
   "source": [
    "## Câu 4. Thiết kế mô hình dữ liệu (mô tả dạng bảng hoặc sơ đồ ERD nếu có thể).Sau khi chuẩn hóa, hãy viết truy vấn SQL (hoặc mô tả logic truy vấn) cho các yêu cầu sau:\n",
    "- 4.1. Liệt kê tổng số lượng từng loại hàng hóa đang lưu trong từng kho.\n",
    "- 4.2. Tìm tên khách hàng và các mặt hàng họ đã gửi kho.\n",
    "- 4.3. Liệt kê danh sách nhân viên đang phụ trách các lô hàng lưu trữ tại kho có tên là “Main\n",
    "Warehouse”.\n",
    "- 4.4. Tìm vị trí (location) lưu trữ của từng mặt hàng trong từng kho.\n",
    "- 4.5. Đếm số khách hàng khác nhau đang gửi hàng tại mỗi kho.\n"
   ]
  },
  {
   "cell_type": "code",
   "execution_count": 1,
   "metadata": {},
   "outputs": [],
   "source": [
    "import pymysql\n",
    "import os\n",
    "from dotenv import load_dotenv\n",
    "\n",
    "# Load environment variables from .credential file\n",
    "load_dotenv(\"../../w7/.credential\")\n",
    "\n",
    "# Get credentials from environment variables\n",
    "conn = pymysql.connect(\n",
    "    host=os.getenv(\"DB_HOST\"),\n",
    "    user=os.getenv(\"DB_USER\"),\n",
    "    password=os.getenv(\"DB_PASSWORD\")\n",
    ")\n",
    "cursor = conn.cursor()\n"
   ]
  },
  {
   "cell_type": "code",
   "execution_count": 2,
   "metadata": {},
   "outputs": [],
   "source": [
    "cursor.execute(\"CREATE DATABASE IF NOT EXISTS w9db;\")\n",
    "cursor.execute(\"USE w9db;\")\n",
    "\n",
    "# 1. Tạo bảng items\n",
    "cursor.execute(\"\"\"\n",
    "CREATE TABLE IF NOT EXISTS items (\n",
    "    item_code VARCHAR(20) PRIMARY KEY,\n",
    "    item_name VARCHAR(100) NOT NULL\n",
    ");\n",
    "\"\"\")\n",
    "\n",
    "# 2. Tạo bảng warehouses\n",
    "cursor.execute(\"\"\"\n",
    "CREATE TABLE IF NOT EXISTS warehouses (\n",
    "    warehouse_id VARCHAR(20) PRIMARY KEY,\n",
    "    warehouse_name VARCHAR(100) NOT NULL\n",
    ");\n",
    "\"\"\")\n",
    "\n",
    "# 3. Tạo bảng customers\n",
    "cursor.execute(\"\"\"\n",
    "CREATE TABLE IF NOT EXISTS customers (\n",
    "    customer_id VARCHAR(20) PRIMARY KEY,\n",
    "    customer_name VARCHAR(100) NOT NULL\n",
    ");\n",
    "\"\"\")\n",
    "\n",
    "# 4. Tạo bảng staffs\n",
    "cursor.execute(\"\"\"\n",
    "CREATE TABLE IF NOT EXISTS staffs (\n",
    "    staff_id VARCHAR(20) PRIMARY KEY,\n",
    "    staff_name VARCHAR(100) NOT NULL\n",
    ");\n",
    "\"\"\")\n",
    "\n",
    "# 5. Tạo bảng records\n",
    "cursor.execute(\"\"\"\n",
    "CREATE TABLE IF NOT EXISTS records (\n",
    "    record_id VARCHAR(20) PRIMARY KEY,\n",
    "    item_code VARCHAR(20),\n",
    "    quantity INT NOT NULL,\n",
    "    warehouse_id VARCHAR(20),\n",
    "    location VARCHAR(100) NOT NULL,\n",
    "    customer_id VARCHAR(20),\n",
    "    staff_id VARCHAR(20),\n",
    "    FOREIGN KEY (item_code) REFERENCES items(item_code) ON DELETE CASCADE,\n",
    "    FOREIGN KEY (warehouse_id) REFERENCES warehouses(warehouse_id) ON DELETE CASCADE,\n",
    "    FOREIGN KEY (customer_id) REFERENCES customers(customer_id) ON DELETE CASCADE,\n",
    "    FOREIGN KEY (staff_id) REFERENCES staffs(staff_id) ON DELETE CASCADE\n",
    ");\n",
    "\"\"\")\n",
    "\n",
    "# Thêm dữ liệu vào bảng items\n",
    "cursor.execute(\"\"\"\n",
    "INSERT INTO items (item_code, item_name) VALUES\n",
    "('IT001', 'Motor Oil 5L'),\n",
    "('IT002', 'Brake Fluid 1L'),\n",
    "('IT003', 'Battery 12V'),\n",
    "('IT004', 'Tire 17 inch')\n",
    ";\n",
    "\"\"\")\n",
    "\n",
    "# Thêm dữ liệu vào bảng warehouses\n",
    "cursor.execute(\"\"\"\n",
    "INSERT INTO warehouses (warehouse_id, warehouse_name) VALUES\n",
    "('WH01', 'Main Warehouse'),\n",
    "('WH02', 'North Depot'),\n",
    "('WH03', 'South Branch')\n",
    ";\n",
    "\"\"\")\n",
    "\n",
    "# Thêm dữ liệu vào bảng customers\n",
    "cursor.execute(\"\"\"\n",
    "INSERT INTO customers (customer_id, customer_name) VALUES\n",
    "('C001', 'Mekong Corp'),\n",
    "('C002', 'Thien Long Co'),\n",
    "('C003', 'Delta Co'),\n",
    "('C004', 'Vina Trading')\n",
    ";\n",
    "\"\"\")\n",
    "\n",
    "# Thêm dữ liệu vào bảng staffs\n",
    "cursor.execute(\"\"\"\n",
    "INSERT INTO staffs (staff_id, staff_name) VALUES\n",
    "('S01', 'Hoa Nguyen'),\n",
    "('S02', 'Khang Tran'),\n",
    "('S03', 'Lan Pham'),\n",
    "('S04', 'Tuan Le')\n",
    ";\n",
    "\"\"\")\n",
    "\n",
    "# Thêm dữ liệu vào bảng records\n",
    "cursor.execute(\"\"\"\n",
    "INSERT INTO records (record_id, item_code, quantity, warehouse_id, location, customer_id, staff_id) VALUES\n",
    "('R001', 'IT001', 50, 'WH01', 'Shelf A1', 'C001', 'S01'),\n",
    "('R002', 'IT002', 100, 'WH01', 'Shelf A2', 'C002', 'S02'),\n",
    "('R003', 'IT001', 40, 'WH02', 'Shelf C3', 'C001', 'S01'),\n",
    "('R004', 'IT003', 25, 'WH01', 'Shelf B1', 'C003', 'S02'),\n",
    "('R005', 'IT004', 10, 'WH03', 'Shelf D1', 'C004', 'S03')\n",
    ";\n",
    "\"\"\")\n",
    "\n",
    "# Commit the changes\n",
    "conn.commit()"
   ]
  },
  {
   "cell_type": "code",
   "execution_count": 3,
   "metadata": {},
   "outputs": [
    {
     "name": "stdout",
     "output_type": "stream",
     "text": [
      "(('Motor Oil 5L', Decimal('90')), ('Brake Fluid 1L', Decimal('100')), ('Battery 12V', Decimal('25')), ('Tire 17 inch', Decimal('10')))\n"
     ]
    }
   ],
   "source": [
    "# 4.1. Liệt kê tổng số lượng từng loại hàng hóa đang lưu trong từng kho.\n",
    "\n",
    "cursor.execute(\"\"\"\n",
    "SELECT i.item_name, sum(r.quantity)\n",
    "    AS  total_quantity\n",
    "FROM items i\n",
    "INNER JOIN records r\n",
    "    ON i.item_code = r.item_code\n",
    "GROUP BY i.item_name;\n",
    "\"\"\")\n",
    "\n",
    "data = cursor.fetchall()\n",
    "print(data)"
   ]
  },
  {
   "cell_type": "code",
   "execution_count": 4,
   "metadata": {},
   "outputs": [
    {
     "name": "stdout",
     "output_type": "stream",
     "text": [
      "(('Mekong Corp', 'Motor Oil 5L'), ('Mekong Corp', 'Motor Oil 5L'), ('Thien Long Co', 'Brake Fluid 1L'), ('Delta Co', 'Battery 12V'), ('Vina Trading', 'Tire 17 inch'))\n"
     ]
    }
   ],
   "source": [
    "# 4.2. Tìm tên khách hàng và các mặt hàng họ đã gửi kho.\n",
    "\n",
    "cursor.execute(\"\"\"\n",
    "SELECT c.customer_name, i.item_name\n",
    "FROM items i\n",
    "INNER JOIN records r\n",
    "    ON i.item_code = r.item_code\n",
    "INNER JOIN customers c\n",
    "    ON c.customer_id = r.customer_id;\n",
    "\"\"\")\n",
    "\n",
    "data = cursor.fetchall()\n",
    "print(data)"
   ]
  },
  {
   "cell_type": "code",
   "execution_count": 6,
   "metadata": {},
   "outputs": [
    {
     "name": "stdout",
     "output_type": "stream",
     "text": [
      "(('Hoa Nguyen',), ('Khang Tran',))\n"
     ]
    }
   ],
   "source": [
    "# 4.3. Liệt kê danh sách nhân viên đang phụ trách các lô hàng lưu trữ tại kho có tên là “Main Warehouse”.\n",
    "\n",
    "cursor.execute(\"\"\"\n",
    "SELECT s.staff_name \n",
    "    AS staff_for_main_warehouse\n",
    "FROM staffs s\n",
    "INNER JOIN records r\n",
    "    ON s.staff_id = r.staff_id\n",
    "INNER JOIN warehouses w\n",
    "    ON w.warehouse_id = r.warehouse_id\n",
    "WHERE w.warehouse_name \n",
    "    LIKE \"Main Warehouse\"\n",
    "GROUP BY staff_for_main_warehouse;          \n",
    "\"\"\")\n",
    "\n",
    "data = cursor.fetchall()\n",
    "print(data)"
   ]
  },
  {
   "cell_type": "code",
   "execution_count": 7,
   "metadata": {},
   "outputs": [
    {
     "name": "stdout",
     "output_type": "stream",
     "text": [
      "(('Motor Oil 5L', 'Shelf A1', 'Main Warehouse'), ('Brake Fluid 1L', 'Shelf A2', 'Main Warehouse'), ('Battery 12V', 'Shelf B1', 'Main Warehouse'), ('Motor Oil 5L', 'Shelf C3', 'North Depot'), ('Tire 17 inch', 'Shelf D1', 'South Branch'))\n"
     ]
    }
   ],
   "source": [
    "# 4.4. Tìm vị trí (location) lưu trữ của từng mặt hàng trong từng kho.\n",
    "\n",
    "cursor.execute(\"\"\"\n",
    "SELECT i.item_name, r.location, w.warehouse_name \n",
    "FROM items i\n",
    "INNER JOIN records r\n",
    "    ON i.item_code = r.item_code\n",
    "INNER JOIN warehouses w\n",
    "    ON w.warehouse_id = r.warehouse_id;\n",
    "\"\"\")\n",
    "\n",
    "data = cursor.fetchall()\n",
    "print(data)"
   ]
  },
  {
   "cell_type": "code",
   "execution_count": 8,
   "metadata": {},
   "outputs": [
    {
     "name": "stdout",
     "output_type": "stream",
     "text": [
      "((3, 'Main Warehouse'), (1, 'North Depot'), (1, 'South Branch'))\n"
     ]
    }
   ],
   "source": [
    "# 4.5. Đếm số khách hàng khác nhau đang gửi hàng tại mỗi kho.\n",
    "\n",
    "cursor.execute(\"\"\"\n",
    "SELECT count(c.customer_name) \n",
    "    AS customer_count, w.warehouse_name\n",
    "FROM customers c\n",
    "INNER JOIN records r\n",
    "    ON c.customer_id = r.customer_id\n",
    "INNER JOIN warehouses w\n",
    "    ON w.warehouse_id = r.warehouse_id\n",
    "GROUP BY w.warehouse_name;\n",
    "\"\"\")\n",
    "\n",
    "data = cursor.fetchall()\n",
    "print(data)"
   ]
  },
  {
   "cell_type": "code",
   "execution_count": 9,
   "metadata": {},
   "outputs": [],
   "source": [
    "# Close Connection\n",
    "cursor.close()\n",
    "conn.close()"
   ]
  }
 ],
 "metadata": {
  "kernelspec": {
   "display_name": ".env",
   "language": "python",
   "name": "python3"
  },
  "language_info": {
   "codemirror_mode": {
    "name": "ipython",
    "version": 3
   },
   "file_extension": ".py",
   "mimetype": "text/x-python",
   "name": "python",
   "nbconvert_exporter": "python",
   "pygments_lexer": "ipython3",
   "version": "3.11.5"
  }
 },
 "nbformat": 4,
 "nbformat_minor": 2
}
