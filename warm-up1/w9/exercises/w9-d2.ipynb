{
 "cells": [
  {
   "cell_type": "markdown",
   "metadata": {},
   "source": [
    "# Chuẩn hóa cơ sở dữ liệu – Chuẩn thứ hai (2NF)\n"
   ]
  },
  {
   "cell_type": "markdown",
   "metadata": {},
   "source": [
    "## Câu 1. Xác định khóa chính của bảng AgentTasks_Raw.\n",
    "### Answer:\n",
    "- Bảng `AgentTask_Raw` này có 2 khóa chính là `agent_id` và `task_id`"
   ]
  },
  {
   "cell_type": "markdown",
   "metadata": {},
   "source": [
    "## Câu 2. Bảng này có vi phạm 2NF không? Nếu có, chỉ rõ thuộc tính nào phụ thuộc từng phần.\n",
    "### Answer:\n",
    "- Bảng này có vi phạm 2NF vì:\n",
    "  - khóa chính là: (`agent_id` và `task_id`)\n",
    "  - (`agent_name` và `llm_model`) chỉ phụ thuộc `agent_id`\n",
    "  - (`task_name` và `task_type`) chỉ phụ thuộc `task_id`\n",
    " "
   ]
  },
  {
   "cell_type": "markdown",
   "metadata": {},
   "source": [
    "## Câu 3. Hãy chuẩn hoá bảng trên về chuẩn 2NF.\n",
    "### Answer:\n",
    "- Bảng sau khi chuẩn hóa được chia làm 3 bảng:\n",
    "  - Bảng `Agents`(`agent_id`, `agent_name`, `llm_model`)\n",
    "  - Bảng `Tasks` (`task_id`, `task_name`, `task_type`)\n",
    "  - Bảng `AgentTasks`(`agent_id`, `task_id`)\n"
   ]
  },
  {
   "cell_type": "markdown",
   "metadata": {},
   "source": [
    "## Câu 4. Mô tả các bảng sau chuẩn hoá: tên bảng, các cột, khóa chính và khóa ngoại.\n",
    "### Answer:\n",
    "- Bảng `Agents`:\n",
    "  - agent_id VARCHAR(10) PRIMARY KEY,\n",
    "  - agent_name VARCHAR(100) NOT NULL,\n",
    "  - llm_model VARCHAR(100) NOT NULL\n",
    "- Bảng `Tasks`:\n",
    "  - task_id VARCHAR(10) PRIMARY KEY,\n",
    "  - task_name VARCHAR(100) NOT NULL,\n",
    "  - task_type VARCHAR(20) NOT NULL\n",
    "- Bảng `AgentTasks`:\n",
    "  - agent_id INT,\n",
    "  - task_id INT,\n",
    "  - FOREIGN KEY (agent_id) REFERENCES Agents(agent_id) ON DELETE CASCADE,\n",
    "  - FOREIGN KEY (task_id) REFERENCES Tasks(task_id) ON DELETE CASCADE"
   ]
  },
  {
   "cell_type": "markdown",
   "metadata": {},
   "source": [
    "## Câu 5. Câu hỏi truy vấn:\n",
    "- Lấy danh sách các tác vụ và tên Agent thực hiện.\n",
    "- Lấy danh sách các mô hình LLM đang được sử dụng.\n",
    "- Đếm số tác vụ thuộc mỗi loại (task_type).\n",
    "- Tìm các Agent sử dụng LLM có tên bắt đầu bằng chữ G"
   ]
  },
  {
   "cell_type": "code",
   "execution_count": 23,
   "metadata": {},
   "outputs": [],
   "source": [
    "import pymysql\n",
    "import os\n",
    "from dotenv import load_dotenv\n",
    "\n",
    "# Load environment variables from .credential file\n",
    "load_dotenv(\"../../w7/.credential\")\n",
    "\n",
    "# Get credentials from environment variables\n",
    "conn = pymysql.connect(\n",
    "    host=os.getenv(\"DB_HOST\"),\n",
    "    user=os.getenv(\"DB_USER\"),\n",
    "    password=os.getenv(\"DB_PASSWORD\")\n",
    ")\n",
    "cursor = conn.cursor()\n"
   ]
  },
  {
   "cell_type": "code",
   "execution_count": null,
   "metadata": {},
   "outputs": [
    {
     "data": {
      "text/plain": [
       "0"
      ]
     },
     "execution_count": 26,
     "metadata": {},
     "output_type": "execute_result"
    }
   ],
   "source": [
    "# # Drop existing tables if they exist\n",
    "# cursor.execute(\"DROP TABLE IF EXISTS AgentTasks;\")\n",
    "# cursor.execute(\"DROP TABLE IF EXISTS Agents;\")\n",
    "# cursor.execute(\"DROP TABLE IF EXISTS Tasks;\")"
   ]
  },
  {
   "cell_type": "code",
   "execution_count": 27,
   "metadata": {},
   "outputs": [],
   "source": [
    "cursor.execute(\"CREATE DATABASE IF NOT EXISTS w9db;\")\n",
    "cursor.execute(\"USE w9db;\")\n",
    "\n",
    "# 1. Tạo bảng Agents\n",
    "cursor.execute(\"\"\"\n",
    "CREATE TABLE IF NOT EXISTS Agents (\n",
    "    agent_id VARCHAR(10) PRIMARY KEY,\n",
    "    agent_name VARCHAR(100) NOT NULL,\n",
    "    llm_model VARCHAR(100) NOT NULL\n",
    ");\n",
    "\"\"\")\n",
    "\n",
    "# 2. Tạo bảng Tasks\n",
    "cursor.execute(\"\"\"\n",
    "CREATE TABLE IF NOT EXISTS Tasks (\n",
    "    task_id VARCHAR(10) PRIMARY KEY,\n",
    "    task_name VARCHAR(100) NOT NULL,\n",
    "    task_type VARCHAR(20) NOT NULL\n",
    ");\n",
    "\"\"\")\n",
    "\n",
    "# 3. Tạo bảng AgentTasks\n",
    "cursor.execute(\"\"\"\n",
    "CREATE TABLE IF NOT EXISTS AgentTasks (\n",
    "    agent_id VARCHAR(10),\n",
    "    task_id VARCHAR(10),\n",
    "    PRIMARY KEY (agent_id, task_id),\n",
    "    FOREIGN KEY (agent_id) REFERENCES Agents(agent_id) ON DELETE CASCADE,\n",
    "    FOREIGN KEY (task_id) REFERENCES Tasks(task_id) ON DELETE CASCADE\n",
    ");\n",
    "\"\"\")\n",
    "\n",
    "# 4. Chèn dữ liệu vào bảng Agents\n",
    "cursor.execute(\"\"\"\n",
    "INSERT INTO Agents (agent_id, agent_name, llm_model) VALUES\n",
    "('A01', 'Claude Agent', 'Claude 3'),\n",
    "('A02', 'GPT Assistant', 'GPT-4'),\n",
    "('A01', 'Claude Agent', 'Claude 3'),\n",
    "('A03', 'Gemini Helper', 'Gemini 1.5')\n",
    "ON DUPLICATE KEY UPDATE agent_name=VALUES(agent_name), llm_model=VALUES(llm_model);\n",
    "\"\"\")\n",
    "\n",
    "# 5. Chèn dữ liệu vào bảng Tasks\n",
    "cursor.execute(\"\"\"\n",
    "INSERT INTO Tasks (task_id, task_name, task_type) VALUES\n",
    "('T01', 'Summarization', 'NLP'),\n",
    "('T02', 'SQL Generation', 'Code'),\n",
    "('T03', 'Sentiment Analysis', 'NLP'),\n",
    "('T01', 'Summarization', 'NLP')\n",
    "ON DUPLICATE KEY UPDATE task_name=VALUES(task_name), task_type=VALUES(task_type);\n",
    "\"\"\")\n",
    "\n",
    "# 6. Chèn dữ liệu vào bảng AgentTasks\n",
    "cursor.execute(\"\"\"\n",
    "INSERT INTO AgentTasks (agent_id, task_id) VALUES\n",
    "('A01', 'T01'),\n",
    "('A02', 'T02'),\n",
    "('A01', 'T03'),\n",
    "('A03', 'T01')\n",
    "\"\"\")\n",
    "\n",
    "# Commit the changes\n",
    "conn.commit()"
   ]
  },
  {
   "cell_type": "code",
   "execution_count": 18,
   "metadata": {},
   "outputs": [
    {
     "name": "stdout",
     "output_type": "stream",
     "text": [
      "(('Claude Agent', 'Summarization'), ('Claude Agent', 'Sentiment Analysis'), ('GPT Assistant', 'SQL Generation'), ('Gemini Helper', 'Summarization'))\n"
     ]
    }
   ],
   "source": [
    "# Lấy danh sách các tác vụ và tên Agent thực hiện\n",
    "cursor.execute(\"\"\"\n",
    "SELECT a.agent_name, t.task_name \n",
    "FROM agents a\n",
    "INNER JOIN agenttasks at\n",
    "    ON a.agent_id = at.agent_id\n",
    "INNER JOIN tasks t\n",
    "    ON t.task_id = at.task_id;\n",
    "\"\"\")\n",
    "\n",
    "data = cursor.fetchall()\n",
    "print(data)"
   ]
  },
  {
   "cell_type": "code",
   "execution_count": 19,
   "metadata": {},
   "outputs": [
    {
     "name": "stdout",
     "output_type": "stream",
     "text": [
      "(('Claude 3',), ('GPT-4',), ('Gemini 1.5',))\n"
     ]
    }
   ],
   "source": [
    "# Lấy danh sách các mô hình LLM đang được sử dụng.\n",
    "cursor.execute(\"\"\"\n",
    "SELECT llm_model\n",
    "FROM agents;\n",
    "\"\"\")\n",
    "\n",
    "data = cursor.fetchall()\n",
    "print(data)"
   ]
  },
  {
   "cell_type": "code",
   "execution_count": 20,
   "metadata": {},
   "outputs": [
    {
     "name": "stdout",
     "output_type": "stream",
     "text": [
      "(('NLP', 2), ('Code', 1))\n"
     ]
    }
   ],
   "source": [
    "# Đếm số tác vụ thuộc mỗi loại (task_type)\n",
    "cursor.execute(\"\"\"\n",
    "SELECT task_type, count(*) \n",
    "    AS task_count\n",
    "FROM tasks\n",
    "GROUP BY task_type;\n",
    "\"\"\")\n",
    "\n",
    "data = cursor.fetchall()\n",
    "print(data)"
   ]
  },
  {
   "cell_type": "code",
   "execution_count": 21,
   "metadata": {},
   "outputs": [
    {
     "name": "stdout",
     "output_type": "stream",
     "text": [
      "(('GPT Assistant',), ('Gemini Helper',))\n"
     ]
    }
   ],
   "source": [
    "# Tìm các Agent sử dụng LLM có tên bắt đầu bằng chữ G.\n",
    "\n",
    "cursor.execute(\"\"\"\n",
    "SELECT agent_name \n",
    "FROM agents\n",
    "WHERE agent_name like \"G%\";\n",
    "\"\"\")\n",
    "\n",
    "data = cursor.fetchall()\n",
    "print(data)"
   ]
  },
  {
   "cell_type": "code",
   "execution_count": 28,
   "metadata": {},
   "outputs": [],
   "source": [
    "# Close Connection\n",
    "cursor.close()\n",
    "conn.close()"
   ]
  }
 ],
 "metadata": {
  "kernelspec": {
   "display_name": ".env",
   "language": "python",
   "name": "python3"
  },
  "language_info": {
   "codemirror_mode": {
    "name": "ipython",
    "version": 3
   },
   "file_extension": ".py",
   "mimetype": "text/x-python",
   "name": "python",
   "nbconvert_exporter": "python",
   "pygments_lexer": "ipython3",
   "version": "3.11.5"
  }
 },
 "nbformat": 4,
 "nbformat_minor": 2
}
