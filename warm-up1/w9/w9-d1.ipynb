{
 "cells": [
  {
   "cell_type": "markdown",
   "metadata": {},
   "source": [
    "# Chuẩn hóa cơ sở dữ liệu - First Normal Form (1NF)"
   ]
  },
  {
   "cell_type": "markdown",
   "metadata": {},
   "source": [
    "## Câu 1. Phân tích và chỉ ra điểm nào trong bảng Transactions_Raw vi phạm chuẩn 1NF? Giải thích lý do vi phạm.\n",
    " \n",
    "### Answer:\n",
    "- Phần cột `stock_codes` trong bảng `Transactions_Raw` vi phạm chuẩn 1NF.\n",
    "- Phần này vi phạm vì không tuân thủ quy tắc mỗi ô chỉ được chứa 1 giá trị nguyên tử ở đây là 1 ô chứa nhiều stock codes "
   ]
  },
  {
   "cell_type": "markdown",
   "metadata": {},
   "source": [
    "## Câu 2. Hãy thiết kế lại bảng dữ liệu để đảm bảo tuân thủ chuẩn 1NF.\n",
    "### Answer:\n",
    "- Chia lại làm 2 bảng: bảng `Transactions` và bảng `Transaction_codes`\n",
    "- Bảng `Transactions` gồm 3 cột: `transaction_id`, `customer_name`, `transaction_date`\n",
    "- Bảng `Transaction_codes` gồm 2 cột: `transaction_id`, `stock_codes`"
   ]
  },
  {
   "cell_type": "markdown",
   "metadata": {},
   "source": [
    "## Câu 3. Viết mô tả các bảng mới (tên bảng, tên các trường, khóa chính, khóa ngoại nếu có).\n",
    "### Answer:\n",
    "- Bảng `Transactions`: \n",
    "  - transaction_id INT PRIMARY KEY,\n",
    "  - customer_name VARCHAR(100) NOT NULL,\n",
    "  - transaction_date DATE NOT NULL\n",
    "- Bảng `Transaction_codes`:\n",
    "  - transaction_id INT NOT NULL,\n",
    "  - stock_codes VARCHAR(10) NOT NULL,\n",
    "  - FOREIGN KEY (transaction_id) REFERENCES Transactions(transaction_id) ON DELETE CASCADE"
   ]
  },
  {
   "cell_type": "markdown",
   "metadata": {},
   "source": [
    "## Câu 4. Sau khi chuẩn hóa, bạn hãy:\n",
    "- Thêm dữ liệu vào các bảng mới theo đúng chuẩn 1NF dựa vào bảng Transactions_Raw.\n",
    "- Truy vấn danh sách khách hàng và các mã cổ phiếu tương ứng mà họ đã giao\n",
    "dịch.\n",
    "- Cập nhật tên khách hàng Nguyen Van A thành Nguyen V. A.\n",
    "- Xóa mã cổ phiếu MWG khỏi giao dịch của khách hàng Nguyen V. A.\n"
   ]
  },
  {
   "cell_type": "code",
   "execution_count": 14,
   "metadata": {},
   "outputs": [],
   "source": [
    "import pymysql\n",
    "import os\n",
    "from dotenv import load_dotenv\n",
    "\n",
    "# Load environment variables from .credential file\n",
    "load_dotenv(\"../w7/.credential\")\n",
    "\n",
    "# Get credentials from environment variables\n",
    "conn = pymysql.connect(\n",
    "    host=os.getenv(\"DB_HOST\"),\n",
    "    user=os.getenv(\"DB_USER\"),\n",
    "    password=os.getenv(\"DB_PASSWORD\")\n",
    ")\n",
    "cursor = conn.cursor()\n"
   ]
  },
  {
   "cell_type": "code",
   "execution_count": 15,
   "metadata": {},
   "outputs": [],
   "source": [
    "cursor.execute(\"CREATE DATABASE IF NOT EXISTS w9db;\")\n",
    "cursor.execute(\"USE w9db;\")\n",
    "\n",
    "\n",
    "# 1. Tạo bảng Transactions\n",
    "cursor.execute(\"\"\"\n",
    "CREATE TABLE IF NOT EXISTS Transactions (\n",
    "    transaction_id INT PRIMARY KEY,\n",
    "    customer_name VARCHAR(100) NOT NULL,\n",
    "    transaction_date DATE NOT NULL\n",
    ");\n",
    "\"\"\")\n",
    "\n",
    "# 2. Tạo bảng Transaction_codes\n",
    "cursor.execute(\"\"\"\n",
    "CREATE TABLE IF NOT EXISTS Transaction_codes (\n",
    "    transaction_id INT NOT NULL,\n",
    "    stock_codes VARCHAR(10) NOT NULL,\n",
    "    FOREIGN KEY (transaction_id) REFERENCES Transactions(transaction_id) ON DELETE CASCADE        \n",
    ");\n",
    "\"\"\")\n",
    "\n",
    "# 3. Chèn dữ liệu vào bảng Transactions\n",
    "cursor.execute(\"\"\"\n",
    "INSERT INTO Transactions (transaction_id, customer_name, transaction_date) VALUES\n",
    "(1, 'Nguyen Van A', '2024-12-01'),\n",
    "(2, 'Le Thi B', '2024-12-02'),\n",
    "(3, 'Tran Van C', '2024-12-03')\n",
    "ON DUPLICATE KEY UPDATE customer_name=VALUES(customer_name), transaction_date=VALUES(transaction_date);\n",
    "\"\"\")\n",
    "\n",
    "# 4. Chèn dữ liệu vào bảng Transaction_codes\n",
    "cursor.execute(\"\"\"\n",
    "INSERT INTO Transaction_codes (transaction_id, stock_codes) VALUES\n",
    "(1, 'VNM'),\n",
    "(1, 'FPT'),\n",
    "(1, 'MWG'),\n",
    "(2, 'SSI'),\n",
    "(3, 'VCB'),\n",
    "(3, 'TCB')\n",
    "ON DUPLICATE KEY UPDATE stock_codes=VALUES(stock_codes);\n",
    "\"\"\")\n",
    "\n",
    "# Commit the changes\n",
    "conn.commit()"
   ]
  },
  {
   "cell_type": "code",
   "execution_count": 17,
   "metadata": {},
   "outputs": [
    {
     "name": "stdout",
     "output_type": "stream",
     "text": [
      "(('Nguyen Van A', 'VNM'), ('Nguyen Van A', 'FPT'), ('Nguyen Van A', 'MWG'), ('Le Thi B', 'SSI'), ('Tran Van C', 'VCB'), ('Tran Van C', 'TCB'))\n"
     ]
    }
   ],
   "source": [
    "# Truy vấn danh sách khách hàng và các mã cổ phiếu tương ứng mà họ đã giao dịch.\n",
    "cursor.execute(\"\"\"\n",
    "SELECT t.customer_name, tc.stock_codes\n",
    "FROM transactions t\n",
    "INNER JOIN transaction_codes tc\n",
    "ON t.transaction_id = tc.transaction_id;\n",
    "\"\"\")\n",
    "\n",
    "data = cursor.fetchall()\n",
    "print(data)"
   ]
  },
  {
   "cell_type": "code",
   "execution_count": 19,
   "metadata": {},
   "outputs": [
    {
     "name": "stdout",
     "output_type": "stream",
     "text": [
      "(('Nguyen V. A.',), ('Le Thi B',), ('Tran Van C',))\n"
     ]
    }
   ],
   "source": [
    "# Cập nhật tên khách hàng Nguyen Van A thành Nguyen V. A.\n",
    "cursor.execute(\"\"\"\n",
    "UPDATE transactions\n",
    "SET customer_name = 'Nguyen V. A.'\n",
    "WHERE transaction_id = 1;\n",
    "\"\"\")\n",
    "\n",
    "# Commit the changes\n",
    "conn.commit()\n",
    "\n",
    "cursor.execute(\"\"\"\n",
    "SELECT customer_name\n",
    "FROM transactions;\n",
    "\"\"\")\n",
    "\n",
    "data = cursor.fetchall()\n",
    "print(data)"
   ]
  },
  {
   "cell_type": "code",
   "execution_count": 20,
   "metadata": {},
   "outputs": [
    {
     "name": "stdout",
     "output_type": "stream",
     "text": [
      "(('VNM',), ('FPT',), ('SSI',), ('VCB',), ('TCB',))\n"
     ]
    }
   ],
   "source": [
    "# Xóa mã cổ phiếu MWG khỏi giao dịch của khách hàng Nguyen V. A.\n",
    "cursor.execute(\"\"\"\n",
    "DELETE FROM transaction_codes\n",
    "WHERE stock_codes = 'MWG';\n",
    "\"\"\")\n",
    "\n",
    "# Commit the changes\n",
    "conn.commit()\n",
    "\n",
    "cursor.execute(\"\"\"\n",
    "SELECT stock_codes\n",
    "FROM transaction_codes;\n",
    "\"\"\")\n",
    "\n",
    "data = cursor.fetchall()\n",
    "print(data)"
   ]
  },
  {
   "cell_type": "markdown",
   "metadata": {},
   "source": [
    "## Câu 5. Câu hỏi nâng cao:\n",
    "- Viết truy vấn đếm số lượng mã cổ phiếu mỗi khách hàng đã giao dịch.\n",
    "- Tìm khách hàng giao dịch nhiều mã cổ phiếu nhất."
   ]
  },
  {
   "cell_type": "code",
   "execution_count": 21,
   "metadata": {},
   "outputs": [
    {
     "name": "stdout",
     "output_type": "stream",
     "text": [
      "(('Nguyen V. A.', 2), ('Le Thi B', 1), ('Tran Van C', 2))\n"
     ]
    }
   ],
   "source": [
    "# Viết truy vấn đếm số lượng mã cổ phiếu mỗi khách hàng đã giao dịch.\n",
    "cursor.execute(\"\"\"\n",
    "SELECT t.customer_name, count(t.customer_name) AS stock_buy_numbers \n",
    "FROM transactions t\n",
    "INNER JOIN transaction_codes tc\n",
    "ON t.transaction_id = tc.transaction_id\n",
    "GROUP BY t.customer_name;\n",
    "\"\"\")\n",
    "\n",
    "data = cursor.fetchall()\n",
    "print(data)"
   ]
  },
  {
   "cell_type": "code",
   "execution_count": 22,
   "metadata": {},
   "outputs": [
    {
     "name": "stdout",
     "output_type": "stream",
     "text": [
      "(('Nguyen V. A.', 2),)\n"
     ]
    }
   ],
   "source": [
    "# Tìm khách hàng giao dịch nhiều mã cổ phiếu nhất.\n",
    "cursor.execute(\"\"\"\n",
    "SELECT t.customer_name, count(t.customer_name) AS stock_buy_numbers \n",
    "FROM transactions t\n",
    "INNER JOIN transaction_codes tc\n",
    "ON t.transaction_id = tc.transaction_id\n",
    "GROUP BY t.customer_name\n",
    "ORDER BY stock_buy_numbers DESC\n",
    "LIMIT 1;\n",
    "\"\"\")\n",
    "\n",
    "data = cursor.fetchall()\n",
    "print(data)"
   ]
  },
  {
   "cell_type": "code",
   "execution_count": 23,
   "metadata": {},
   "outputs": [],
   "source": [
    "# Close Connection\n",
    "cursor.close()\n",
    "conn.close()"
   ]
  }
 ],
 "metadata": {
  "kernelspec": {
   "display_name": ".env",
   "language": "python",
   "name": "python3"
  },
  "language_info": {
   "codemirror_mode": {
    "name": "ipython",
    "version": 3
   },
   "file_extension": ".py",
   "mimetype": "text/x-python",
   "name": "python",
   "nbconvert_exporter": "python",
   "pygments_lexer": "ipython3",
   "version": "3.11.5"
  }
 },
 "nbformat": 4,
 "nbformat_minor": 2
}
